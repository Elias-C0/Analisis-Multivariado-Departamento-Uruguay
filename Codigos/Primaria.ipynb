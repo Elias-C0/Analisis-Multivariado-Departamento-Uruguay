{
 "cells": [
  {
   "cell_type": "code",
   "execution_count": null,
   "id": "35467831-abfe-4f16-9d8c-1cd4a1f690aa",
   "metadata": {
    "vscode": {
     "languageId": "r"
    }
   },
   "outputs": [],
   "source": [
    "#Codigo de Elias Coradini, Uruguay Primaria 2023"
   ]
  },
  {
   "cell_type": "code",
   "execution_count": null,
   "id": "0a60b084-0846-441a-bdbe-ab4e83208b18",
   "metadata": {
    "vscode": {
     "languageId": "r"
    }
   },
   "outputs": [],
   "source": [
    "library(readxl)\n",
    "library(dplyr)\n",
    "library(\"writexl\")\n",
    "library('stringr')\n",
    "Uruguay <- read.csv(\"C:/Users/Elias-PC/Facultad/URUGUAY.csv\")\n",
    "Primaria<- read.csv(\"C:/Users/Elias-PC/Facultad/Primaria 2023 - matrícula primaria.xls.csv\")\n",
    "Primaria_por_dep <- read.csv(\"C:/Users/Elias-PC/Facultad/primaria 2023 por departamentos - xls_export (10).csv\", encoding = \"UTF-8\")"
   ]
  },
  {
   "cell_type": "code",
   "execution_count": null,
   "id": "6e3025e1-771e-4223-ad15-83298938e598",
   "metadata": {
    "vscode": {
     "languageId": "r"
    }
   },
   "outputs": [],
   "source": [
    "#Renombramos variables\n",
    "Uruguay <- Uruguay %>%\n",
    "rename(\n",
    "    Departamento = departamento,\n",
    "    Localidad = localidad,\n",
    "    Turno = turno,\n",
    "    Curso = curso,\n",
    "    PeriodoEvaluatorio = periodoEvaluatorio,\n",
    "    IdAlumno = idalumno,\n",
    "    IdDivision = idDivision,\n",
    "    División = ddivision,\n",
    "    Multianio = esMultianio,\n",
    "    ModEnsenianza = ModEnsenaza\n",
    "  )\n",
    "\n",
    "names(Uruguay)"
   ]
  },
  {
   "cell_type": "code",
   "execution_count": null,
   "id": "0d8d3621-18ab-4fcb-bf34-53fc8b5e2840",
   "metadata": {
    "vscode": {
     "languageId": "r"
    }
   },
   "outputs": [],
   "source": [
    "#Limpieza\n",
    "dim(Uruguay)\n",
    "Uruguay1 <- select(Uruguay, -observaciones)\n",
    "dim(Uruguay1)\n",
    "\n",
    "Uruguay_na<-na.omit(Uruguay1)\n",
    "dim(Uruguay_na)\n",
    "\n",
    "Uruguay_na <- subset(Uruguay_na, !(nota == \"NULL\" | nota == \"PA\"))\n",
    "#NO BORRAR EPACS, PD Y USAR FILTER PARA SACAR PROMEDIOS. YA QUE ESTOS NO SON NUMEROS.\n",
    "\n",
    "print(unique(Uruguay_na$PeriodoEvaluatorio))\n"
   ]
  },
  {
   "cell_type": "code",
   "execution_count": null,
   "id": "521a0888-88a6-46c6-9256-d2047b6825d7",
   "metadata": {
    "vscode": {
     "languageId": "r"
    }
   },
   "outputs": [],
   "source": [
    "Uruguay_primaria <- filter(Uruguay_na, \n",
    "                           NivelEnsenanza == \"PRIMARIO\" &\n",
    "                           anioLectivo == \"2023\" & \n",
    "                           (ModEnsenianza == \"Comun\" | ModEnsenianza == \"Escuelas NINA\") &\n",
    "                           Multianio == \"N\", Modalidad == \"Primaria\")\n",
    "\n",
    "Uruguay_primaria$nota <- gsub(\"PD\", \"EPAC\", Uruguay_primaria$nota)\n",
    "print(unique(Uruguay_primaria$nota))\n",
    "\n",
    "ftable(Uruguay_primaria$Modalidad)"
   ]
  },
  {
   "cell_type": "code",
   "execution_count": null,
   "id": "934825a5-55b9-41d1-9fcd-7afe6fe56628",
   "metadata": {
    "vscode": {
     "languageId": "r"
    }
   },
   "outputs": [],
   "source": [
    "#Cantidad de Escuelas\n",
    "length(unique(Uruguay_primaria$CUE))\n",
    "\n",
    "#Cantidad de escuelas cargadas\n",
    "CUES_uruguay <- unique(Uruguay_primaria$CUE)\n",
    "\n",
    "filtrado <- filter(Primaria, CUE %in% CUES_uruguay)\n",
    "nrow(filtrado)"
   ]
  },
  {
   "cell_type": "code",
   "execution_count": null,
   "id": "d171562f-db5e-409e-b0eb-dd33ec4a50a8",
   "metadata": {
    "vscode": {
     "languageId": "r"
    }
   },
   "outputs": [],
   "source": [
    "#Matricula Total\n",
    "Matriculas_uruguay <- filter(Primaria_por_dep, Departamento==\"URUGUAY\")\n",
    "\n",
    "Matriculas_uruguay_FIX <- Matriculas_uruguay %>%\n",
    "rename(\n",
    "    Primero = X1er.Año.Grado,\n",
    "    Segundo = X2do.Año.Grado,\n",
    "    Tercero = X3er.Año.Grado,\n",
    "    Cuarto = X4to.Año.Grado,\n",
    "    Quinto = X5to.Año.Grado,\n",
    "    Sexto = X6to.Año.Grado\n",
    ")\n",
    "\n",
    "#Limpieza\n",
    "columnas <- c(\"Todos\",\"Primero\", \"Segundo\", \"Tercero\", \"Cuarto\", \"Quinto\", \"Sexto\")\n",
    "for (x in columnas) {\n",
    "    Matriculas_uruguay_FIX[[x]] <- gsub(\",\", \"\", Matriculas_uruguay_FIX[[x]]) #Les saco la , si es que tienen\n",
    "    Matriculas_uruguay_FIX[[x]] <- as.integer(Matriculas_uruguay_FIX[[x]])} #Los paso a INT\n",
    "\n",
    "head(Matriculas_uruguay_FIX)\n",
    "#Escribimos el archivo corregido\n",
    "path <- \"C:/Users/Elias-PC/Facultad/primaria_pordep_fix.csv\"\n",
    "write.csv(Matriculas_uruguay_FIX, path)\n",
    "\n",
    "# Sumar todos los de primero\n",
    "for (x in columnas) {\n",
    "    total_primero <- sum(Matriculas_uruguay_FIX[[x]])\n",
    "    print(paste(x,total_primero))}"
   ]
  },
  {
   "cell_type": "code",
   "execution_count": null,
   "id": "c23a30bd-0b32-46e6-9695-d1915651ac93",
   "metadata": {
    "vscode": {
     "languageId": "r"
    }
   },
   "outputs": [],
   "source": [
    "PrimerT<-filter(Uruguay_primaria, PeriodoEvaluatorio==\"Primer Trimestre\")\n",
    "dim(PrimerT)\n",
    "PrimerT<-rename(PrimerT,NotasPrimerT=nota)\n",
    "\n",
    "print(unique(PrimerT$ModEnsenianza))\n",
    "\n",
    "SegundoT<-filter(Uruguay_primaria, PeriodoEvaluatorio== \"Segundo Trimestre\")\n",
    "SegundoT<-rename(SegundoT, NotasSegundoT= nota)\n",
    "dim(SegundoT)\n",
    "\n",
    "print(unique(SegundoT$ModEnsenianza))\n",
    "\n",
    "TercerT <- filter(Uruguay_primaria, PeriodoEvaluatorio == \"Tercer Trimestre\")\n",
    "TercerT <- rename(TercerT, NotasTercerT = nota)\n",
    "dim(TercerT)\n",
    "\n",
    "unique(TercerT$ModEnsenianza)\n",
    "\n",
    "prueba <- merge(x = PrimerT, y = SegundoT, by = c(\"Documento\", \"asignatura\"))\n",
    "dim(prueba)\n",
    "\n",
    "unique(prueba$ModEnsenianza)\n",
    "\n",
    "prueba1 <- merge(x = prueba, y = TercerT, by = c(\"Documento\", \"asignatura\"))\n",
    "dim(prueba1)\n",
    "\n",
    "unique(prueba1$ModEnsenianza)"
   ]
  },
  {
   "cell_type": "code",
   "execution_count": null,
   "id": "ada4717e-b6c8-4bfa-b5a0-e616557b3bbd",
   "metadata": {
    "vscode": {
     "languageId": "r"
    }
   },
   "outputs": [],
   "source": [
    "notas_uruguay <- select(prueba1, 'CUE', 'Departamento', 'EsPrivada', 'Turno' , 'Curso', 'Documento', 'asignatura','IdAlumno', 'IdDivision','NivelEnsenanza', 'Multianio', 'Modalidad', 'ModEnsenianza','NotasPrimerT','NotasSegundoT', 'NotasTercerT')\n",
    "dim(notas_uruguay)\n",
    "tail(notas_uruguay,4)"
   ]
  },
  {
   "cell_type": "code",
   "execution_count": null,
   "id": "867b6f29-fa8b-4dd0-8ece-f04ce5f47e7d",
   "metadata": {
    "vscode": {
     "languageId": "r"
    }
   },
   "outputs": [],
   "source": [
    "notas_uruguay$Promedio<-round((as.numeric(notas_uruguay$NotasPrimerT)+as.numeric(notas_uruguay$NotasSegundoT)+as.numeric(notas_uruguay$NotasTercerT))/3,2)\n",
    "\n",
    "notas_uruguay_FIX <- unique(notas_uruguay) # FILTRO LOS REPETIDOS\n",
    "\n",
    "notas_uruguay_FIX <- notas_uruguay_FIX %>%\n",
    "    mutate(Resultado = case_when(\n",
    "    NotasTercerT == \"EPAC\" ~ \"En proceso\", #Si en el tercer trimestre tiene EPAC, esta \"En proceso\"\n",
    "    NotasTercerT >= 6 ~ \"Aprobado\", #Si tiene mas de 6 en el tercer trimestre esta Aprobado\n",
    "    NotasTercerT == \"10\" ~ \"Aprobado\",\n",
    "    Promedio >= 6 ~ \"Aprobado\",\n",
    "    Promedio < 6  ~ \"Rinde\"))\n",
    "\n",
    "#print(notas_uruguay_FIX[, c(\"NotasPrimerT\",\"NotasSegundoT\",\"NotasTercerT\",\"Promedio\",\"Resultado\")])\n",
    "\n",
    "write_xlsx(notas_uruguay_FIX, \"C:/Users/Elias-PC/Facultad/Unotas_uruguay_FIX678945a.xlsx\")\n",
    "head(notas_uruguay,4)\n",
    "head(notas_uruguay_FIX,4)"
   ]
  },
  {
   "cell_type": "code",
   "execution_count": null,
   "id": "4a3ad8f0-175b-49f6-8804-5ad99c4e8eb0",
   "metadata": {
    "vscode": {
     "languageId": "r"
    }
   },
   "outputs": [],
   "source": [
    "notas_uruguay_FIX$Curso<-as.character(notas_uruguay_FIX$Curso)\n",
    "notas_uruguay_FIX$Año_cursado<-str_sub(notas_uruguay_FIX$Curso,1, 1)\n",
    "print(head(notas_uruguay_FIX$Año_cursado),2)\n",
    "table(notas_uruguay_FIX$Año_cursado)\n",
    "notas_uruguay_FIX$Año_cursado <- as.integer(notas_uruguay_FIX$Año_cursado)\n",
    "\n",
    "unique(notas_uruguay_FIX$ModEnsenianza)"
   ]
  },
  {
   "cell_type": "code",
   "execution_count": null,
   "id": "393d0e78-8b5a-4ff0-b83b-c50a06c84c04",
   "metadata": {
    "vscode": {
     "languageId": "r"
    }
   },
   "outputs": [],
   "source": [
    "busqueda <- filter(notas_uruguay_FIX, Documento <= 48000000 | Documento >= 100000000)\n",
    "unique(busqueda$Documento)"
   ]
  },
  {
   "cell_type": "code",
   "execution_count": null,
   "id": "b52ae1df-7bfa-4d98-83f8-5f5340e18f3d",
   "metadata": {
    "vscode": {
     "languageId": "r"
    }
   },
   "outputs": [],
   "source": [
    "#Eliminamos Estudiantes de DNI muy antiguo para estar en nivel primario, sabiendo quee se filtro para tener escuelas comunes\n",
    "notas_uruguay_FIX <- notas_uruguay_FIX %>%\n",
    "  filter(Documento >= 48000000 & Documento <= 100000000) #Tambien se eliminan casos extremos, por ej los de dni mayor a medio millon"
   ]
  },
  {
   "cell_type": "code",
   "execution_count": null,
   "id": "f8de1889-b818-440b-86a0-8bcc29c1e4c7",
   "metadata": {
    "vscode": {
     "languageId": "r"
    }
   },
   "outputs": [],
   "source": [
    "uruguay_primero <- filter(notas_uruguay_FIX, Año_cursado==1)\n",
    "nota_mate<-uruguay_primero %>% group_by(CUE,asignatura) %>%  filter(asignatura==\"MATEMATICA\")\n",
    "dim(nota_mate)\n",
    "nota_mate"
   ]
  },
  {
   "cell_type": "code",
   "execution_count": null,
   "id": "9b2cc8c1-ca0d-44f6-a29a-2b1d77ae603a",
   "metadata": {
    "vscode": {
     "languageId": "r"
    }
   },
   "outputs": [],
   "source": [
    "#Matriculas cargada en Notas\n",
    "for (numero in 1:6) {\n",
    "  notas_año <- filter(notas_uruguay_FIX, Año_cursado == numero)\n",
    "  nota_mate <- notas_año %>% filter(asignatura == \"MATEMATICA\")\n",
    "  dimensiones <- dim(nota_mate)\n",
    "  cat(\"\\n\",\"Grado cursado:\", numero,\"\\n\")\n",
    "  cat(\"Número de filas:\", dimensiones[1], \"\\n\")\n",
    "}"
   ]
  },
  {
   "cell_type": "code",
   "execution_count": null,
   "id": "407220cb-e342-467b-8326-4bf7bc807fe8",
   "metadata": {
    "vscode": {
     "languageId": "r"
    }
   },
   "outputs": [],
   "source": [
    "write_xlsx(notas_uruguay_FIX, \"C:/Users/Elias-PC/Facultad/Uruguay_Primaria.xlsx\")"
   ]
  },
  {
   "cell_type": "code",
   "execution_count": null,
   "id": "56bbb032-c6fa-4062-9d96-e66afbf2541a",
   "metadata": {
    "vscode": {
     "languageId": "r"
    }
   },
   "outputs": [],
   "source": []
  },
  {
   "cell_type": "code",
   "execution_count": null,
   "id": "e7ca9af5-5407-4806-aeea-dd46906a8c60",
   "metadata": {
    "vscode": {
     "languageId": "r"
    }
   },
   "outputs": [],
   "source": [
    "#borramos todo lo que tenemos en memoria\n",
    "rm(list = ls())\n",
    "gc()"
   ]
  },
  {
   "cell_type": "code",
   "execution_count": null,
   "id": "a7909579-7fa1-4b85-8f28-2198fe277cf2",
   "metadata": {
    "vscode": {
     "languageId": "r"
    }
   },
   "outputs": [],
   "source": [
    "library(readxl)\n",
    "library(dplyr)\n",
    "library(\"stringr\")\n",
    "Uruguay_Primaria <- read_excel(\"C:/Users/Elias-PC/Facultad/Uruguay_Primaria.xlsx\")\n",
    "Uruguay_Primaria$asignatura <- toupper(Uruguay_Primaria$asignatura)\n",
    "#View(Uruguay_Primaria)"
   ]
  },
  {
   "cell_type": "code",
   "execution_count": null,
   "id": "5dda6afd-e18c-443c-abbc-1b07c477fd55",
   "metadata": {
    "vscode": {
     "languageId": "r"
    }
   },
   "outputs": [],
   "source": [
    "variables_lengua <- grep(\"ING\", Uruguay_Primaria$asignatura, value = TRUE)\n",
    "print(unique(variables_lengua))"
   ]
  },
  {
   "cell_type": "code",
   "execution_count": null,
   "id": "e004cbe1-4c53-4d25-908e-4aac3fb56371",
   "metadata": {
    "vscode": {
     "languageId": "r"
    }
   },
   "outputs": [],
   "source": [
    "print(unique(Uruguay_Primaria$asignatura))"
   ]
  },
  {
   "cell_type": "code",
   "execution_count": null,
   "id": "c8ae48db-741b-4003-8707-83625d2259ef",
   "metadata": {
    "vscode": {
     "languageId": "r"
    }
   },
   "outputs": [],
   "source": [
    "Uruguay_Primaria$asignatura <- str_replace(Uruguay_Primaria$asignatura,\"INGLÉS\", \"INGLES\")\n",
    "Uruguay_Primaria$asignatura <- str_replace(Uruguay_Primaria$asignatura,\"INGLÈS\", \"INGLES\")\n",
    "Uruguay_Primaria$asignatura <- str_replace(Uruguay_Primaria$asignatura,\"IDIOMA-INGLES\", \"INGLES\")\n",
    "\n",
    "variables <- grep(\"ING\", Uruguay_Primaria$asignatura, value = TRUE)\n",
    "\n",
    "# Mostrar las variables que contienen \"ING\"\n",
    "print(unique(variables))"
   ]
  },
  {
   "cell_type": "code",
   "execution_count": null,
   "id": "f78373f0-1d0b-4676-9ceb-2ae914dec42c",
   "metadata": {
    "vscode": {
     "languageId": "r"
    }
   },
   "outputs": [],
   "source": [
    "# Mostrar las variables que contienen \"LENG\"\n",
    "variables <- grep(\"LENG\", Uruguay_Primaria$asignatura, value = TRUE)\n",
    "print(unique(variables))\n",
    "\n",
    "# Mostrar las variables que contienen \"LIT\"\n",
    "variables <- grep(\"LIT\", Uruguay_Primaria$asignatura, value = TRUE)\n",
    "\n",
    "print(unique(variables))"
   ]
  },
  {
   "cell_type": "code",
   "execution_count": null,
   "id": "f785d858-d431-40ee-9c63-e8d049c59c59",
   "metadata": {
    "vscode": {
     "languageId": "r"
    }
   },
   "outputs": [],
   "source": [
    "Uruguay_Primaria$asignatura <- str_replace(Uruguay_Primaria$asignatura,\"ACOMP. AL ESTUDIO LENGUA Y CS .SOCIALES\", \"ACOMP. LENGUA Y CS SOC.\")\n",
    "Uruguay_Primaria$asignatura <- str_replace(Uruguay_Primaria$asignatura,\"ACOMP LENG Y SOC\", \"ACOMP. LENGUA Y CS SOC.\")\n",
    "Uruguay_Primaria$asignatura <- str_replace(Uruguay_Primaria$asignatura, \"ACOMPAÑAMIENTO AL ESTUDIO LENGUA Y CS SOCIALES\",\"ACOMP. LENGUA Y CS SOC.\")"
   ]
  },
  {
   "cell_type": "code",
   "execution_count": null,
   "id": "eddee732-26b2-4b53-81ab-0acc44b35f9c",
   "metadata": {
    "vscode": {
     "languageId": "r"
    }
   },
   "outputs": [],
   "source": [
    "variables <- grep(\"MAT\", Uruguay_Primaria$asignatura, value = TRUE)\n",
    "print(unique(variables))"
   ]
  },
  {
   "cell_type": "code",
   "execution_count": null,
   "id": "b15ea822-62b4-4c0a-b64f-b02078c609b1",
   "metadata": {
    "vscode": {
     "languageId": "r"
    }
   },
   "outputs": [],
   "source": [
    "Uruguay_Primaria$asignatura <- str_replace(Uruguay_Primaria$asignatura,\"ACOMP MAT Y NAT\", \"ACOMP. MAT Y CS. NAT.\")\n",
    "Uruguay_Primaria$asignatura <- str_replace(Uruguay_Primaria$asignatura,\"ACOMP. AL ESTUDIO MATEMÁTICA Y CIENCIAS NATURALES\", \"ACOMP. MAT Y CS. NAT.\")\n",
    "Uruguay_Primaria$asignatura <- str_replace(Uruguay_Primaria$asignatura, \"ACOMP AL ESTUDIO MAT Y CS NATURALES\",\"ACOMP. MAT Y CS. NAT.\")"
   ]
  },
  {
   "cell_type": "code",
   "execution_count": null,
   "id": "70f911be-688d-46c4-a75d-fb8bf22cddb5",
   "metadata": {
    "vscode": {
     "languageId": "r"
    }
   },
   "outputs": [],
   "source": [
    "variables <- grep(\"EDU\", Uruguay_Primaria$asignatura, value = TRUE)\n",
    "print(unique(variables))"
   ]
  },
  {
   "cell_type": "code",
   "execution_count": null,
   "id": "d36cd426-6893-4361-9b16-09134f49fd90",
   "metadata": {
    "vscode": {
     "languageId": "r"
    }
   },
   "outputs": [],
   "source": [
    "Uruguay_Primaria$asignatura <- str_replace(Uruguay_Primaria$asignatura,\"EDUCACIÓN TECNOLÓGICA\", \"EDUCACION TECNOLOGICA\")\n",
    "Uruguay_Primaria$asignatura <- str_replace(Uruguay_Primaria$asignatura,\"EDUCACIÓN FÍSICA\", \"EDUCACION FISICA\")\n",
    "Uruguay_Primaria$asignatura <- str_replace(Uruguay_Primaria$asignatura,\"EDUCACIÓN MUSICAL\", \"EDUCACION MUSICAL\")\n",
    "\n",
    "variables <- grep(\"EDU\", Uruguay_Primaria$asignatura, value = TRUE)\n",
    "print(unique(variables))"
   ]
  },
  {
   "cell_type": "code",
   "execution_count": null,
   "id": "b290ed67-b42c-42d8-b21f-5b6d35f2bfaf",
   "metadata": {
    "vscode": {
     "languageId": "r"
    }
   },
   "outputs": [],
   "source": [
    "variables <- grep(\"CIEN\", Uruguay_Primaria$asignatura, value = TRUE)\n",
    "print(unique(variables))"
   ]
  },
  {
   "cell_type": "code",
   "execution_count": null,
   "id": "f7500243-59a4-45b9-9e7b-42bf95d8d74f",
   "metadata": {
    "vscode": {
     "languageId": "r"
    }
   },
   "outputs": [],
   "source": [
    "Uruguay_Primaria$asignatura <- str_replace(Uruguay_Primaria$asignatura,\"CONSTRUYENDO EL FUTUTO\",\"CONSTRUYENDO EL FUTURO\")\n",
    "print(unique(Uruguay_Primaria$asignatura))"
   ]
  },
  {
   "cell_type": "code",
   "execution_count": null,
   "id": "1ad90daa-313e-42f2-abcf-67e8602e7f46",
   "metadata": {
    "vscode": {
     "languageId": "r"
    }
   },
   "outputs": [],
   "source": [
    "distribucion_primaria <- Uruguay_Primaria %>%\n",
    "    distinct(Documento, Año_cursado) %>% # Obtengo los estudiantes unicos (sino sumaba por cada materia en la que estaba anotado)\n",
    "    count(Año_cursado, name= \"cantidad_estudiantes\") %>%\n",
    "    mutate(Porcentaje = cantidad_estudiantes / sum(cantidad_estudiantes) * 100) %>%\n",
    "    mutate(Porcentaje = round(Porcentaje,2))\n",
    "\n",
    "distribucion_primaria"
   ]
  },
  {
   "cell_type": "code",
   "execution_count": null,
   "id": "66c5e014-e05d-418d-99ff-60c4444586f5",
   "metadata": {
    "vscode": {
     "languageId": "r"
    }
   },
   "outputs": [],
   "source": [
    "distribucion_primaria <- Uruguay_Primaria %>%\n",
    "    distinct(Documento, Turno) %>%\n",
    "    count(Turno, name= \"cantidad_estudiantes\") %>%\n",
    "    mutate(Porcentaje = cantidad_estudiantes / sum(cantidad_estudiantes) * 100) %>%\n",
    "    mutate(Porcentaje = round(Porcentaje,2)) %>%\n",
    "    add_row(Turno = \"TOTAL\",\n",
    "            cantidad_estudiantes = sum(distribucion_primaria$cantidad_estudiantes),\n",
    "            Porcentaje = sum(distribucion_primaria$Porcentaje))\n",
    "\n",
    "distribucion_primaria"
   ]
  },
  {
   "cell_type": "code",
   "execution_count": null,
   "id": "e8eaecce-2405-47b1-a034-3280762eff8f",
   "metadata": {
    "vscode": {
     "languageId": "r"
    }
   },
   "outputs": [],
   "source": [
    "tabla_frecuencias <- Uruguay_Primaria %>%\n",
    "  distinct(Documento, EsPrivada) %>%\n",
    "  count(EsPrivada, name = \"Total\") %>%\n",
    "  mutate(\n",
    "    Frecuencia_Relativa = round(Total / sum(Total),2),\n",
    "    Frecuencia_Relativa_Acumulada = cumsum(Frecuencia_Relativa),\n",
    "    Frecuencia_Porcentual = Frecuencia_Relativa * 100,\n",
    "    Frecuencia_Porcentual_Acumulada = cumsum(Frecuencia_Porcentual)\n",
    "  )\n",
    "\n",
    "tabla_frecuencias"
   ]
  },
  {
   "cell_type": "markdown",
   "id": "24af50de-d0c8-482a-a017-e08d6974c536",
   "metadata": {},
   "source": [
    "Actividad 4 (LENGUA)"
   ]
  },
  {
   "cell_type": "code",
   "execution_count": null,
   "id": "71c992f2-d9aa-412d-9f25-47fa24a959b2",
   "metadata": {
    "vscode": {
     "languageId": "r"
    }
   },
   "outputs": [],
   "source": [
    "tablas_frecuencia_lista1 <- list()\n",
    "\n",
    "for (numero in 1:6) {\n",
    "    uru_lengua <- filter(Uruguay_Primaria, asignatura == \"LENGUA\", Año_cursado == numero)\n",
    "    uru_lengua <- subset(uru_lengua, !(Resultado == \"NA\"))\n",
    "    tabla_frecuencias <- uru_lengua %>%\n",
    "        count(Resultado, name = \"Total\") %>%\n",
    "        mutate(\n",
    "            Frecuencia_Relativa = round(Total / sum(Total), 2),\n",
    "            Frecuencia_Relativa_Acumulada = cumsum(Frecuencia_Relativa),\n",
    "            Frecuencia_Porcentual = Frecuencia_Relativa * 100,\n",
    "            Frecuencia_Porcentual_Acumulada = cumsum(Frecuencia_Porcentual)\n",
    "        )\n",
    "    \n",
    "    tablas_frecuencia_lista1[[numero]] <- tabla_frecuencias\n",
    "    \n",
    "    # Calcula la moda de los promedios de calificaciones\n",
    "    moda <- as.numeric(names(sort(table(uru_lengua$Promedio), decreasing = TRUE)[1]))\n",
    "    print(moda)\n",
    "}\n",
    "tablas_frecuencia_lista1"
   ]
  },
  {
   "cell_type": "code",
   "execution_count": null,
   "id": "2963f295-a561-4aee-aec4-6c6204fc7cdf",
   "metadata": {
    "vscode": {
     "languageId": "r"
    }
   },
   "outputs": [],
   "source": [
    "tablas_frecuencia_lista <- list()\n",
    "\n",
    "for (numero in 1:6) {\n",
    "    uru_lengua <- filter(Uruguay_Primaria, asignatura == \"LENGUA\", Año_cursado == numero)\n",
    "    uru_lengua <- subset(uru_lengua, !(Promedio == \"NA\"))\n",
    "    tabla_frecuencias <- uru_lengua %>%\n",
    "        count(Promedio, name = \"Total\") %>%\n",
    "        mutate(\n",
    "            Frecuencia_Relativa = round(Total / sum(Total), 2),\n",
    "            Frecuencia_Relativa_Acumulada = cumsum(Frecuencia_Relativa),\n",
    "            Frecuencia_Porcentual = Frecuencia_Relativa * 100,\n",
    "            Frecuencia_Porcentual_Acumulada = cumsum(Frecuencia_Porcentual)\n",
    "        )\n",
    "\n",
    "    \n",
    "    tablas_frecuencia_lista[[numero]] <- tabla_frecuencias\n",
    "\n",
    "}\n",
    "\n",
    "tablas_frecuencia_lista"
   ]
  },
  {
   "cell_type": "markdown",
   "id": "f4ff9200-37c4-4bd2-8654-2d9069a38e94",
   "metadata": {},
   "source": [
    "Actividad 4 (MATEMATICA)"
   ]
  },
  {
   "cell_type": "code",
   "execution_count": null,
   "id": "e3c7afcd-dd45-4f09-9c08-1eb6714eb025",
   "metadata": {
    "vscode": {
     "languageId": "r"
    }
   },
   "outputs": [],
   "source": [
    "tablas_frecuencia_lista <- list()\n",
    "\n",
    "for (numero in 1:6) {\n",
    "    uru_lengua <- filter(Uruguay_Primaria, asignatura == \"MATEMATICA\", Año_cursado == numero)\n",
    "    uru_lengua <- subset(uru_lengua, !(Promedio == \"NA\"))\n",
    "    tabla_frecuencias <- uru_lengua %>%\n",
    "        count(Promedio, name = \"Total\") %>%\n",
    "        mutate(\n",
    "            Frecuencia_Relativa = round(Total / sum(Total), 2),\n",
    "            Frecuencia_Relativa_Acumulada = cumsum(Frecuencia_Relativa),\n",
    "            Frecuencia_Porcentual = Frecuencia_Relativa * 100,\n",
    "            Frecuencia_Porcentual_Acumulada = cumsum(Frecuencia_Porcentual)\n",
    "        )\n",
    "    \n",
    "    tablas_frecuencia_lista[[numero]] <- tabla_frecuencias\n",
    "}\n",
    "tablas_frecuencia_lista"
   ]
  },
  {
   "cell_type": "code",
   "execution_count": null,
   "id": "e8e225af-42f1-4d66-a0a2-d4245b15d95a",
   "metadata": {
    "vscode": {
     "languageId": "r"
    }
   },
   "outputs": [],
   "source": [
    "tablas_frecuencia_lista2 <- list()\n",
    "\n",
    "for (numero in 1:6) {\n",
    "    uru_lengua <- filter(Uruguay_Primaria, asignatura == \"MATEMATICA\", Año_cursado == numero)\n",
    "    uru_lengua <- subset(uru_lengua, !(Resultado == \"NA\"))\n",
    "    tabla_frecuencias <- uru_lengua %>%\n",
    "        count(Resultado, name = \"Total\") %>%\n",
    "        mutate(\n",
    "            Frecuencia_Relativa = round(Total / sum(Total), 2),\n",
    "            Frecuencia_Porcentual = Frecuencia_Relativa * 100\n",
    "        )\n",
    "    tablas_frecuencia_lista2[[numero]] <- tabla_frecuencias\n",
    "}\n",
    "tablas_frecuencia_lista2"
   ]
  },
  {
   "cell_type": "code",
   "execution_count": null,
   "id": "5a21d430-2f08-406f-a1b9-08934a6225a1",
   "metadata": {
    "vscode": {
     "languageId": "r"
    }
   },
   "outputs": [],
   "source": [
    "for (numero in 1:6) {\n",
    "    uru_lengua <- filter(Uruguay_Primaria, asignatura == \"LENGUA\", Año_cursado == numero)\n",
    "    uru_lengua <- subset(uru_lengua, !(is.na(Promedio)))\n",
    "\n",
    "    cat(\"\\n\",\"GRADO\", numero, \"°\\n\")\n",
    "    resumen <- round(summary(uru_lengua$Promedio),2)\n",
    "    print(resumen)\n",
    "\n",
    "    tabla_frecuencias <- table(uru_lengua$Promedio)\n",
    "    moda <- as.numeric(names(sort(table(uru_lengua$Promedio), decreasing = TRUE))[1])\n",
    "    cat(\"La moda es ->\", moda, \"\\n\\n\")\n",
    "    # Calcular el promedio medio\n",
    "    promedio_medio <- round(mean(uru_lengua$Promedio),2)\n",
    "    cat(\"El promedio medio es ->\", promedio_medio, \"\\n\\n\")\n",
    "\n",
    "    # Identificar outliers\n",
    "    Q1 <- quantile(uru_lengua$Promedio, 0.25)\n",
    "    Q3 <- quantile(uru_lengua$Promedio, 0.75)\n",
    "    IQR <- Q3 - Q1\n",
    "    cat(\"El IQR es ->\", IQR, \"\\n\\n\")\n",
    "\n",
    "    #Desvio estandar\n",
    "    desvio <- round(sd(uru_lengua$Promedio),2)\n",
    "    cat(\"El desvio esntadar es ->\", desvio, \"\\n\\n\")\n",
    "    \n",
    "    #outliers\n",
    "    lim_inf <- Q1 - 1.5 * IQR\n",
    "    lim_sup <- Q3 + 1.5 * IQR\n",
    "    outliers <- uru_lengua$Promedio[uru_lengua$Promedio < lim_inf | uru_lengua$Promedio > lim_sup]\n",
    "    cat(\"El valor a partir del cual se considera un promedio outlier es:\", lim_inf, \"\\n\")\n",
    "    cat(\"El valor hasta el cual se considera un promedio outlier es:\", lim_sup, \"\\n\")\n",
    "    \n",
    "    #Determinamos si son valores raros\n",
    "    if (length(outliers) > 0) {\n",
    "        if (length(outliers) == 1) {\n",
    "            cat(\"Hay 1 valor atípico.\\n\")\n",
    "        } else {\n",
    "            cat(\"Hay\", length(outliers), \"valores extremos.\\n\")\n",
    "        }\n",
    "    } else {\n",
    "        cat(\"No hay outliers.\\n\")\n",
    "    }\n",
    "\n",
    "    cuantiles_descartados <- quantile(uru_lengua$Promedio, c(0.25, 0.75), na.rm = TRUE)\n",
    "\n",
    "    # Calcular los límites del rango intercuartílico (IQR) después de descartar los cuantiles\n",
    "    valor_inferior_25 <- cuantiles_descartados[1]\n",
    "    valor_superior_25 <- cuantiles_descartados[2]\n",
    "    \n",
    "    # Mostrar los valores entre los cuales se concentra el 50% de los promedios\n",
    "    cat(\"Los valores entre los cuales se concentra el 50% de los promedios son:\", valor_inferior_25, \"y\", valor_superior_25, \"\\n\")\n",
    "\n",
    "    #75% de las notas son menores que\n",
    "    valor_75 <- quantile(uru_lengua$Promedio, 0.75)\n",
    "    cat(\"El 75% de las notas son menores que:\", valor_75, \"\\n\")\n",
    "\n",
    "    #50% de las notas son mayores que\n",
    "    mediana <- median(uru_lengua$Promedio)\n",
    "    cat(\"El 50% de las notas son mayores que:\", mediana, \"\\n\")\n",
    "}"
   ]
  },
  {
   "cell_type": "code",
   "execution_count": null,
   "id": "21a4c6c4-24bc-473f-af47-a2edd9178048",
   "metadata": {
    "vscode": {
     "languageId": "r"
    }
   },
   "outputs": [],
   "source": [
    "for (numero in 1:6) {\n",
    "    uru_lengua <- filter(Uruguay_Primaria, asignatura == \"MATEMATICA\", Año_cursado == numero)\n",
    "    uru_lengua <- subset(uru_lengua, !(is.na(Promedio)))\n",
    "\n",
    "    cat(\"\\n\",\"GRADO\", numero, \"°\\n\")\n",
    "    resumen <- round(summary(uru_lengua$Promedio),2)\n",
    "    print(resumen)\n",
    "\n",
    "    tabla_frecuencias <- table(uru_lengua$Promedio)\n",
    "    moda <- as.numeric(names(sort(table(uru_lengua$Promedio), decreasing = TRUE))[1])\n",
    "    cat(\"La moda es ->\", moda, \"\\n\\n\")\n",
    "    # Calcular el promedio medio\n",
    "    promedio_medio <- round(mean(uru_lengua$Promedio),2)\n",
    "    cat(\"El promedio medio es ->\", promedio_medio, \"\\n\\n\")\n",
    "\n",
    "    # Identificar outliers\n",
    "    Q1 <- quantile(uru_lengua$Promedio, 0.25)\n",
    "    Q3 <- quantile(uru_lengua$Promedio, 0.75)\n",
    "    IQR <- Q3 - Q1\n",
    "    cat(\"El IQR es ->\", IQR, \"\\n\\n\")\n",
    "\n",
    "    #Desvio estandar\n",
    "    desvio <- round(sd(uru_lengua$Promedio),2)\n",
    "    cat(\"El desvio esntadar es ->\", desvio, \"\\n\\n\")\n",
    "    \n",
    "    #outliers\n",
    "    lim_inf <- Q1 - 1.5 * IQR\n",
    "    lim_sup <- Q3 + 1.5 * IQR\n",
    "    outliers <- uru_lengua$Promedio[uru_lengua$Promedio < lim_inf | uru_lengua$Promedio > lim_sup]\n",
    "    cat(\"El valor a partir del cual se considera un promedio outlier es:\", lim_inf, \"\\n\")\n",
    "    cat(\"El valor hasta el cual se considera un promedio outlier es:\", lim_sup, \"\\n\")\n",
    "    \n",
    "    #Determinamos si son valores raros\n",
    "    if (length(outliers) > 0) {\n",
    "        if (length(outliers) == 1) {\n",
    "            cat(\"Hay 1 valor atípico.\\n\")\n",
    "        } else {\n",
    "            cat(\"Hay\", length(outliers), \"valores extremos.\\n\")\n",
    "        }\n",
    "    } else {\n",
    "        cat(\"No hay outliers.\\n\")\n",
    "    }\n",
    "\n",
    "    cuantiles_descartados <- quantile(uru_lengua$Promedio, c(0.25, 0.75), na.rm = TRUE)\n",
    "\n",
    "    # Calcular los límites del rango intercuartílico (IQR) después de descartar los cuantiles\n",
    "    valor_inferior_25 <- cuantiles_descartados[1]\n",
    "    valor_superior_25 <- cuantiles_descartados[2]\n",
    "    \n",
    "    # Mostrar los valores entre los cuales se concentra el 50% de los promedios\n",
    "    cat(\"Los valores entre los cuales se concentra el 50% de los promedios son:\", valor_inferior_25, \"y\", valor_superior_25, \"\\n\")\n",
    "\n",
    "    #75% de las notas son menores que\n",
    "    valor_75 <- quantile(uru_lengua$Promedio, 0.75)\n",
    "    cat(\"El 75% de las notas son menores que:\", valor_75, \"\\n\")\n",
    "\n",
    "    #50% de las notas son mayores que\n",
    "    mediana <- median(uru_lengua$Promedio)\n",
    "    cat(\"El 50% de las notas son mayores que:\", mediana, \"\\n\")\n",
    "}"
   ]
  },
  {
   "cell_type": "code",
   "execution_count": null,
   "id": "adf6b3f2-b174-4473-bc33-f1ec8e925a63",
   "metadata": {
    "vscode": {
     "languageId": "r"
    }
   },
   "outputs": [],
   "source": [
    "library(\"writexl\")\n",
    "write_xlsx(Uruguay_Primaria, \"C:/Users/Elias-PC/Facultad/Uruguay_PrimariaFIX.xlsx\")"
   ]
  },
  {
   "cell_type": "code",
   "execution_count": null,
   "id": "ddd3401f-0ea2-4ff4-a729-198c6fce8374",
   "metadata": {
    "vscode": {
     "languageId": "r"
    }
   },
   "outputs": [],
   "source": []
  },
  {
   "cell_type": "code",
   "execution_count": null,
   "id": "7596a906-c2e1-4972-af4f-9b4140df5bec",
   "metadata": {
    "vscode": {
     "languageId": "r"
    }
   },
   "outputs": [],
   "source": [
    "#borramos todo lo que tenemos en memoria\n",
    "rm(list = ls())\n",
    "gc()"
   ]
  },
  {
   "cell_type": "code",
   "execution_count": null,
   "id": "7a7e0fd2-d87c-47c6-99ec-be22b52712cf",
   "metadata": {
    "vscode": {
     "languageId": "r"
    }
   },
   "outputs": [],
   "source": [
    "library(readxl)\n",
    "library(dplyr)\n",
    "library(ggplot2)\n",
    "library(nortest)\n",
    "library(moments)\n",
    "library(rlang)\n",
    "Uruguay_Primaria <- read_excel(\"C:/Users/Elias-PC/Facultad/Uruguay_PrimariaFIX.xlsx\")"
   ]
  },
  {
   "cell_type": "code",
   "execution_count": null,
   "id": "eed1c650-18de-4620-96f0-271c68777330",
   "metadata": {
    "vscode": {
     "languageId": "r"
    }
   },
   "outputs": [],
   "source": [
    "# Function to calculate frequencies\n",
    "Calcular_frecuencias <- function(DF, columna) { \n",
    "  resultado <- DF %>%\n",
    "    group_by(!!ensym(columna)) %>%\n",
    "    distinct(Documento, .keep_all = TRUE) %>%  # Ensure distinct works correctly\n",
    "    summarise(Frecuencia = n()) %>% \n",
    "    arrange(Frecuencia)\n",
    "  return(resultado)\n",
    "}\n",
    "\n",
    "# Calculate frequencies\n",
    "frecuencia_ <- Calcular_frecuencias(Uruguay_Primaria, Año_cursado)\n",
    "\n",
    "# Convert Año_cursado to a factor to ensure it is treated as a discrete variable\n",
    "frecuencia_$Año_cursado <- as.factor(frecuencia_$Año_cursado)"
   ]
  },
  {
   "cell_type": "code",
   "execution_count": null,
   "id": "0f384c47-59ed-4b69-ab58-31cd25c02c01",
   "metadata": {
    "vscode": {
     "languageId": "r"
    }
   },
   "outputs": [],
   "source": [
    "# Plot the histogram of absolute frequencies\n",
    "ggplot(frecuencia_, aes(x = Año_cursado, y = Frecuencia, fill = Año_cursado)) +\n",
    "  geom_bar(stat = \"identity\") +\n",
    "  labs(title = \"Distribución de Estudiantes por Nivel en Primaria\",\n",
    "       x = \"Grado Cursado\", y = \"Número de Estudiantes\") +\n",
    "  scale_fill_brewer(palette = \"Set2\") +\n",
    "  theme(legend.position = \"none\",  # Remove the legend\n",
    "        axis.text = element_text(size = 15, color = \"black\"),  # Darken and enlarge axis numbers\n",
    "        axis.title = element_text(size = 16, color = \"black\"),\n",
    "        plot.title = element_text(size = 17, color = \"black\"),\n",
    "        panel.border = element_rect(colour = \"black\", fill = NA, linewidth = 1))  # Add a border to the plot"
   ]
  },
  {
   "cell_type": "code",
   "execution_count": null,
   "id": "84abdeec-dac2-4bdf-957b-a85db3d5c5a4",
   "metadata": {
    "vscode": {
     "languageId": "r"
    }
   },
   "outputs": [],
   "source": [
    "#png(filename=\"D:/Descargas/tu_grafico.png\", width=1090, height=1020, res=172) #elejimos la resolucion y otros paramentros\n",
    "#par(bg = \"transparent\") #le sacamos el fondo\n",
    "\n",
    "Uruguay_Primaria_unicos <- Uruguay_Primaria %>%\n",
    "  distinct(Documento, EsPrivada)\n",
    "Uruguay_Primaria_unicos$EsPrivada <- ifelse(Uruguay_Primaria_unicos$EsPrivada == 'N', 'Pública', 'Privada')\n",
    "\n",
    "pie_commute <- round(100 * table(Uruguay_Primaria_unicos$EsPrivada) / length(Uruguay_Primaria_unicos$EsPrivada), 2)\n",
    "\n",
    "colors = c(\"#bb3af2\",'#4286f4')\n",
    "\n",
    "pie(pie_commute, labels = paste0(names(pie_commute),'\\n', pie_commute, ' %'),\n",
    "    main = \"\",\n",
    "    col = colors,\n",
    "    radius = .9,\n",
    "    col.main = \"black\",\n",
    "    col.sub = \"blue4\",\n",
    "    angle = seq(0,180,35),\n",
    "    border = 'blue')\n",
    "\n",
    "# ponemos el titulo mas cerca del grafico cambiando line a 0\n",
    "mtext(text = \"Distribución de Escuelas Públicas y Privadas Nivel Primario\", side = 3, line = 0, cex = 1.3)\n",
    "\n",
    "\n",
    "#dev.off() # Esto cierra el dispositivo de gráficos y guarda el archivo"
   ]
  },
  {
   "cell_type": "code",
   "execution_count": null,
   "id": "b04a9a0c-5b4b-4170-9eae-8520400e1921",
   "metadata": {
    "vscode": {
     "languageId": "r"
    }
   },
   "outputs": [],
   "source": [
    "Uruguay_Primaria_unicos <- Uruguay_Primaria %>%\n",
    "  distinct(Documento, Turno)\n",
    "\n",
    "pie_commute <- round(100 * table(Uruguay_Primaria_unicos$Turno) / length(Uruguay_Primaria_unicos$Turno), 2)\n",
    "\n",
    "colors <- c('#4286f4', '#bb3af2', '#ed2f52', '#efc023')\n",
    "\n",
    "pie(pie_commute, \n",
    "    labels = paste0(names(pie_commute),'\\n', pie_commute, ' %'),\n",
    "    main = \"Distribución de Estudiantes por Turno en Primaria\",\n",
    "    col = colors,\n",
    "    radius = 0.9,\n",
    "    col.main = \"black\",\n",
    "    col.sub = \"blue4\", \n",
    "    angle = seq(0, 180, 35),\n",
    "    border = \"black\")"
   ]
  },
  {
   "cell_type": "code",
   "execution_count": null,
   "id": "46cfe498-edcd-4516-a227-c0395f772755",
   "metadata": {
    "vscode": {
     "languageId": "r"
    }
   },
   "outputs": [],
   "source": [
    "#png(filename=\"D:/Descargas/tu_grafico.png\", width=1220, height=1020, res=175)\n",
    "frecuencia_ <- Calcular_frecuencias(Uruguay_Primaria,Turno)\n",
    "#Reordenamos por niveles\n",
    "frecuencia_$Turno <- factor(frecuencia_$Turno, levels = frecuencia_$Turno[order(frecuencia_$Frecuencia)])\n",
    "\n",
    "colores <- c(\"#FC8D62\", \"#8DA0CB\", \"#E78AC3\", \"#96D4C0\")\n",
    "\n",
    "ggplot(frecuencia_, aes(x = Turno, y = Frecuencia, fill = colores)) +\n",
    "  geom_bar(stat = \"identity\") +\n",
    "  labs(title = \"Distribución de Estudiantes por Turno en Primaria\",\n",
    "       x = \"Turno\", y = \"Cantidad de Estudiantes\") +\n",
    "  scale_fill_brewer(palette = \"Set2\") +\n",
    " geom_text(aes(label = Frecuencia), position = position_stack(vjust = 0.53), size = 8, color = \"black\", fontface = \"bold\")+\n",
    "  theme(legend.position = \"none\",  # saco la leyenda\n",
    "        axis.text = element_text(size = 18, color = \"black\"), #Pongo los numeros y de los ejes mas oscuros y mas grandes\n",
    "        axis.title = element_text(size = 18, color = \"black\"),\n",
    "        axis.text.x = element_text(size = 17, color = \"black\", face = \"bold\"),  # Tamaño, color y estilo de los números del eje X\n",
    "        axis.text.y = element_text(size = 17, color = \"black\", face = \"bold\"),\n",
    "        plot.title = element_text(size = 19, color = \"black\"),\n",
    "        panel.border = element_rect(colour = \"black\", fill=NA, size=1), #le agrego un borde al grafico\n",
    "        panel.grid.major = element_line(colour = \"black\"), #lineas del grid\n",
    "        panel.grid.minor = element_line(colour = \"black\"))\n",
    "#dev.off()"
   ]
  },
  {
   "cell_type": "code",
   "execution_count": null,
   "id": "7cbcc50a-ea14-499f-bccb-829c7ad046a6",
   "metadata": {
    "vscode": {
     "languageId": "r"
    }
   },
   "outputs": [],
   "source": [
    "#png(filename=\"D:/Descargas/tu_grafico.png\", width=1140, height=1020, res=175) #para guardar el graf\n",
    "\n",
    "# Calcular las frecuencias\n",
    "frecuencia_ <- Calcular_frecuencias(Uruguay_Primaria, Año_cursado)\n",
    "\n",
    "# Identificar la frecuencia máxima y mínima\n",
    "max_freq <- max(frecuencia_$Frecuencia)\n",
    "min_freq <- min(frecuencia_$Frecuencia)\n",
    "\n",
    "# Crear una nueva columna para los colores\n",
    "frecuencia_$Color <- ifelse(frecuencia_$Frecuencia == max_freq, \"red\", ifelse(frecuencia_$Frecuencia == min_freq, \"blue\", \"gray\"))\n",
    "\n",
    "# Graficar el gráfico de barras con ggplot2\n",
    "ggplot(frecuencia_, aes(x = Año_cursado, y = Frecuencia, fill = Color)) +\n",
    "  geom_col() +\n",
    "  scale_fill_manual(values = c(\"red\" = \"#00A200\", \"blue\" = \"#DB2514\", \"gray\" = \"gray\")) +\n",
    "  labs(title = \"Distribución de Estudiantes por Nivel en Primaria\",\n",
    "       x = \"Grado Cursado\", y = \"Cantidad de Estudiantes\") +\n",
    "  geom_text(aes(label = Frecuencia), position = position_stack(vjust = 0.5), size = 8, color = \"black\", fontface = \"bold\")+\n",
    "  theme(legend.position = \"none\",  # saco la leyenda\n",
    "        axis.text = element_text(size = 18, color = \"black\"), #Pongo los numeros y de los ejes mas oscuros y mas grandes\n",
    "        axis.title = element_text(size = 18, color = \"black\"),\n",
    "        axis.text.x = element_text(size = 17, color = \"black\", face = \"bold\"),  # Tamaño, color y estilo de los números del eje X\n",
    "        axis.text.y = element_text(size = 17, color = \"black\", face = \"bold\"),\n",
    "        plot.title = element_text(size = 18, color = \"black\"),\n",
    "        panel.border = element_rect(colour = \"black\", fill=NA, size=1), #le agrego un borde al grafico\n",
    "        panel.grid.major = element_line(colour = \"black\"), #lineas del grid\n",
    "        panel.grid.minor = element_line(colour = \"black\"))\n",
    "#dev.off()"
   ]
  },
  {
   "cell_type": "code",
   "execution_count": null,
   "id": "f47d6f7d-1c79-46ea-95fb-9ac609d1bcc3",
   "metadata": {
    "scrolled": true,
    "vscode": {
     "languageId": "r"
    }
   },
   "outputs": [],
   "source": [
    "Uruguay_Primaria_unicos <- Uruguay_Primaria %>%\n",
    "  distinct(Documento, Resultado, asignatura, Año_cursado)\n",
    "\n",
    "for (numero in 1:6) {\n",
    "    uru_lengua <- filter(Uruguay_Primaria_unicos, asignatura == \"LENGUA\", Año_cursado == numero)\n",
    "    uru_lengua <- subset(uru_lengua, !(Resultado == \"NA\"))\n",
    "    pie_commute <- round(100 * table(uru_lengua$Resultado) / length(uru_lengua$Resultado),2)\n",
    "    \n",
    "    colors = c('#4286f4','#bb3af2')\n",
    "    \n",
    "    pie(pie_commute, labels = paste0(names(pie_commute),'\\n', pie_commute, ' %'),\n",
    "        main = paste(\"\"),\n",
    "        col = colors,\n",
    "        radius = .9,\n",
    "        col.main = \"black\",\n",
    "        col.sub = \"blue4\",\n",
    "        angle = seq(0,180,35),\n",
    "        border = 'blue')\n",
    "    # ponemos el titulo mas cerca del grafico cambiando line a 0\n",
    "    mtext(text = paste(\"Distribución Resultados de Lengua en Primaria\", numero, \"Grado\"), side = 3, line = 0, cex = 1.5)\n",
    "\n",
    "\n",
    "}\n",
    "#png(filename=\"D:/Descargas/tu_grafico.png\", width=1060, height=1020, res=172) #elejimos la resolucion y otros paramentros\n",
    "#par(bg = \"transparent\") #le sacamos el fondo\n",
    "\n",
    "#GRAFICO TOMANDO EN CUENTA TODOS LOS AÑOS\n",
    "Uruguay_Primaria_unicos <- Uruguay_Primaria %>%\n",
    "  distinct(Documento, Resultado, asignatura)\n",
    "\n",
    "uru_lengua <- filter(Uruguay_Primaria_unicos, asignatura == \"LENGUA\")\n",
    "uru_lengua <- subset(uru_lengua, !(Resultado == \"NA\"))\n",
    "pie_commute <- round(100 * table(uru_lengua$Resultado) / length(uru_lengua$Resultado),2)\n",
    "\n",
    "colors = c('#4286f4','#bb3af2')\n",
    "\n",
    "pie(pie_commute, labels = paste0(names(pie_commute),'\\n', pie_commute, ' %'),\n",
    "    main = paste(\"\"),\n",
    "    col = colors,\n",
    "    radius = .9,\n",
    "    col.main = \"black\",\n",
    "    col.sub = \"blue4\",\n",
    "    angle = seq(0,180,35),\n",
    "    border = 'blue')\n",
    "\n",
    "\n",
    "# ponemos el titulo mas cerca del grafico cambiando line a 0\n",
    "mtext(text = \"Distribución Resultado general en Lengua, Primaria\", side = 3, line = 0, cex = 1.5)\n",
    "\n",
    "#dev.off()"
   ]
  },
  {
   "cell_type": "code",
   "execution_count": null,
   "id": "5d1e4503-ef59-4ab7-ac98-2fa9dbe139f1",
   "metadata": {
    "vscode": {
     "languageId": "r"
    }
   },
   "outputs": [],
   "source": [
    "Uruguay_Primaria_unicos <- Uruguay_Primaria %>%\n",
    "  distinct(Documento, Resultado, asignatura, Año_cursado)\n",
    "\n",
    "for (numero in 1:6) {\n",
    "    uru_lengua <- filter(Uruguay_Primaria_unicos, asignatura == \"MATEMATICA\", Año_cursado == numero)\n",
    "    uru_lengua <- subset(uru_lengua, !(Resultado == \"NA\"))\n",
    "    pie_commute <- round(100 * table(uru_lengua$Resultado) / length(uru_lengua$Resultado),2)\n",
    "\n",
    "    colors = c('#4286f4','#bb3af2')\n",
    "    \n",
    "    pie(pie_commute, labels = paste0(names(pie_commute),'\\n', pie_commute, ' %'),\n",
    "        main = paste(\"\"),\n",
    "        col = colors,\n",
    "        radius = .9,\n",
    "        col.main = \"black\",\n",
    "        col.sub = \"blue4\",\n",
    "        angle = seq(0,180,35),\n",
    "        border = 'blue')\n",
    "\n",
    "    # ponemos el titulo mas cerca del grafico cambiando line a 0\n",
    "    mtext(text = paste(\"Distribución Resultados de Matematica en Primaria\", numero, \"Grado\"), side = 3, line = 0, cex = 1.5)\n",
    "    \n",
    "}\n",
    "#GRAFICO TOMANDO EN CUENTA TODOS LOS AÑOS\n",
    "#png(filename=\"D:/Descargas/tu_grafico.png\", width=1180, height=1080, res=172) #elejimos la resolucion y otros paramentros\n",
    "par(bg = \"transparent\") #le sacamos el fondo\n",
    "\n",
    "Uruguay_Primaria_unicos <- Uruguay_Primaria %>%\n",
    "  distinct(Documento, Resultado, asignatura)\n",
    "\n",
    "uru_lengua <- filter(Uruguay_Primaria_unicos, asignatura == \"MATEMATICA\")\n",
    "uru_lengua <- subset(uru_lengua, !(Resultado == \"NA\"))\n",
    "pie_commute <- round(100 * table(uru_lengua$Resultado) / length(uru_lengua$Resultado),2)\n",
    "\n",
    "colors = c('#4286f4','#bb3af2')\n",
    "\n",
    "pie(pie_commute, labels = paste0(names(pie_commute),'\\n', pie_commute, ' %'),\n",
    "    main = paste(\"\"),\n",
    "    col = colors,\n",
    "    radius = .9,\n",
    "    col.main = \"black\",\n",
    "    col.sub = \"blue4\",\n",
    "    angle = seq(0,180,35),\n",
    "    border = 'blue')\n",
    "\n",
    "# ponemos el titulo mas cerca del grafico cambiando line a 0\n",
    "mtext(text = \"Distribución Resultado general en Matematica, Primaria\", side = 3, line = 0, cex = 1.5)\n",
    "\n",
    "#dev.off()"
   ]
  },
  {
   "cell_type": "code",
   "execution_count": null,
   "id": "6f1dff7f-d345-4fa0-8a5a-5ca3fcd51df1",
   "metadata": {
    "vscode": {
     "languageId": "r"
    }
   },
   "outputs": [],
   "source": [
    "for (i in 1:6) {\n",
    "  # Filtrar los datos por el año correspondiente y la materia de Matematica\n",
    "  datos_año_matematica <- Uruguay_Primaria[Uruguay_Primaria$Año_cursado == i & Uruguay_Primaria$asignatura == \"MATEMATICA\", ]\n",
    "\n",
    "  datos_año_matematica <- subset(datos_año_matematica, !(Resultado == \"NA\"))\n",
    "  valores <- datos_año_matematica$Promedio\n",
    "\n",
    "   if (length(valores) < 50) {\n",
    "      #test de shapiro para verf normalidad\n",
    "      qqnorm(valores, main = paste(\"PRIMARIA: Q-Q Plot - \", i, \"Grado - Matematica\"))\n",
    "      print(\"teste de shapiro\")\n",
    "      aux <-shapiro.test(valores)\n",
    "      print(aux)\n",
    "      qqline(valores, col = \"red\")  #Linea del QQPLOT\n",
    "    }\n",
    "    \n",
    "    else{\n",
    "\n",
    "      qqnorm(valores, main = paste(\"PRIMARIA: Q-Q Plot - Grado\", i, \"- Matematica\"))\n",
    "      qqline(valores, col = \"red\")\n",
    "\n",
    "      #TEST de ks y lillie\n",
    "      suppressWarnings({ #ignoramos los warning\n",
    "      ks_test_result <- ks.test(valores, \"pnorm\")\n",
    "      print(ks_test_result)\n",
    "      aux <- lillie.test(valores)\n",
    "      print(aux)\n",
    "    })\n",
    "    }\n",
    "}"
   ]
  },
  {
   "cell_type": "code",
   "execution_count": null,
   "id": "d6d098fe-5f74-4f4b-9b7a-b1028fd419df",
   "metadata": {
    "scrolled": true,
    "vscode": {
     "languageId": "r"
    }
   },
   "outputs": [],
   "source": [
    "resultados_por_año <- list()\n",
    "\n",
    "# Realizar el análisis para cada grado\n",
    "for (i in 1:6) {\n",
    "  # Filtrar los datos por el grado correspondiente\n",
    "  datos_año <- Uruguay_Primaria[Uruguay_Primaria$Año_cursado == i & Uruguay_Primaria$asignatura == \"MATEMATICA\", ]\n",
    "  datos_año <- subset(datos_año, !(is.na(Promedio)))\n",
    "  \n",
    "  # Calcular el rango de variación de los datos\n",
    "  rango <- range(datos_año$Promedio)\n",
    "  \n",
    "  # Determinar si la distribución es simétrica y el tipo de asimetría\n",
    "  coeficiente_asimetria <- skewness(datos_año$Promedio)\n",
    "  simetria <- ifelse(coeficiente_asimetria == 0, \"simétrica\",\n",
    "                     ifelse(coeficiente_asimetria > 0, \"asimétrica a la derecha\",\n",
    "                            \"asimétrica a la izquierda\"))\n",
    "  \n",
    "  # Calcular la media\n",
    "  media <- round(mean(datos_año$Promedio),2)\n",
    "  \n",
    "  # Calcular la mediana\n",
    "  mediana <- median(datos_año$Promedio)\n",
    "  \n",
    "  # Calcular el rango intercuartílico\n",
    "  rango_intercuartilico <- IQR(datos_año$Promedio)\n",
    "  \n",
    "  # Calcular los cuartiles\n",
    "  cuartiles <- quantile(datos_año$Promedio, c(0.25, 0.5, 0.75))\n",
    "  \n",
    "  # Calcular el límite superior de los valores atípicos\n",
    "  limite_superior_atipicos <- cuartiles[3] + 1.5 * rango_intercuartilico\n",
    "  \n",
    "  # Contar la cantidad de datos atípicos\n",
    "  datos_atipicos <- datos_año$Promedio[datos_año$Promedio > limite_superior_atipicos]\n",
    "  \n",
    "  # Evaluar si el rendimiento fue óptimo\n",
    "  rendimiento_optimo <- ifelse(mediana >= 6, \"Sí\", \"No\")\n",
    "  \n",
    "  # Almacenar los resultados en la lista\n",
    "  resultados_por_año[[paste(\"Año\", i)]] <- list(\n",
    "    Rango = rango,\n",
    "    Simetría = simetria,\n",
    "    Media = media,\n",
    "    Mediana = mediana,\n",
    "    RangoIntercuartilico = rango_intercuartilico,\n",
    "    Cuartiles = cuartiles,\n",
    "    LimiteSuperiorAtipicos = limite_superior_atipicos,\n",
    "    CantidadDatosAtipicos = length(datos_atipicos),\n",
    "    RendimientoOptimo = rendimiento_optimo\n",
    "  )\n",
    "}\n",
    "\n",
    "for (i in 1:6) {\n",
    "  cat(\"Resultados para el año\", i, \":\\n\")\n",
    "  cat(\"  Rango de variación de los datos (Máximo - Mínimo):\", resultados_por_año[[paste(\"Año\", i)]]$Rango[2], \"-\", resultados_por_año[[paste(\"Año\", i)]]$Rango[1], \"=\", resultados_por_año[[paste(\"Año\", i)]]$Rango[2] - resultados_por_año[[paste(\"Año\", i)]]$Rango[1], \"\\n\")\n",
    "  cat(\"  La distribución es\", resultados_por_año[[paste(\"Año\", i)]]$Simetría, \"\\n\")\n",
    "  cat(\"  Media de los datos:\", resultados_por_año[[paste(\"Año\", i)]]$Media, \"\\n\")\n",
    "  cat(\"  Mediana de los datos:\", resultados_por_año[[paste(\"Año\", i)]]$Mediana, \"\\n\")\n",
    "  cat(\"  Rango intercuartílico:\", resultados_por_año[[paste(\"Año\", i)]]$RangoIntercuartilico, \"\\n\")\n",
    "  cat(\"  Cuartiles:\", resultados_por_año[[paste(\"Año\", i)]]$Cuartiles, \"\\n\")\n",
    "  cat(\"  Límite superior para considerar valores atípicos:\", resultados_por_año[[paste(\"Año\", i)]]$LimiteSuperiorAtipicos, \"\\n\")\n",
    "  cat(\"  Cantidad de datos atípicos:\", resultados_por_año[[paste(\"Año\", i)]]$CantidadDatosAtipicos, \"\\n\")\n",
    "  cat(\"  ¿El rendimiento fue óptimo?:\", resultados_por_año[[paste(\"Año\", i)]]$RendimientoOptimo, \"\\n\\n\")\n",
    "}"
   ]
  },
  {
   "cell_type": "code",
   "execution_count": null,
   "id": "00854bfe-f7b5-459c-8aaf-ee9b91bd083e",
   "metadata": {
    "scrolled": true,
    "vscode": {
     "languageId": "r"
    }
   },
   "outputs": [],
   "source": [
    "for (numero in 1:6) {\n",
    "    uru_mate <- filter(Uruguay_Primaria, asignatura == \"MATEMATICA\", Año_cursado == numero)\n",
    "    boxplot(uru_mate$Promedio, main = paste(\"Boxplot de Promedio Matematica GRADO\", numero), ylab = \"Promedio\")\n",
    "    cat(\"\\n\", \"GRADO\", numero, \"°\\n\")\n",
    "}"
   ]
  },
  {
   "cell_type": "code",
   "execution_count": null,
   "id": "f50aac0c-0cea-4943-9f6d-d81bc67c2bb9",
   "metadata": {
    "scrolled": true,
    "vscode": {
     "languageId": "r"
    }
   },
   "outputs": [],
   "source": [
    "for (numero in 1:6) {\n",
    "    uru_mate <- filter(Uruguay_Primaria, asignatura == \"MATEMATICA\", Año_cursado == numero)\n",
    "    \n",
    "    datos_promedio <- na.omit(uru_mate$Promedio) #Borramos los NA\n",
    "    \n",
    "    # Estimacion kernel de la densidad\n",
    "    d <- density(datos_promedio)\n",
    "    \n",
    "    # Grafico de la densidad\n",
    "    plot(d, lwd = 2, main = paste(\"Grafico densidad kernel de Promedio - GRADO\", numero,\"° Matematica\"), xlab = \"Promedios\", ylab = \"Densidad\")\n",
    "    cat(\"\\n\", \"GRADO\", numero, \"°\\n\")\n",
    "}"
   ]
  },
  {
   "cell_type": "code",
   "execution_count": null,
   "id": "82014cdb-04b4-49e6-8c9d-e72f784c410d",
   "metadata": {
    "vscode": {
     "languageId": "r"
    }
   },
   "outputs": [],
   "source": [
    "for (numero in 1:6) {\n",
    "    datos_año_lengua <- filter(Uruguay_Primaria, Año_cursado == numero & asignatura == \"MATEMATICA\")\n",
    "    datos_año_lengua <- subset(datos_año_lengua, !(is.na(Promedio)))\n",
    "\n",
    "    aux <- ggplot(datos_año_lengua, aes(x = Promedio)) +\n",
    "        geom_histogram(binwidth = 1, fill = \"skyblue\", color = \"black\") + # con binwitch se elige el \"intervalo\"\n",
    "        labs(title = paste(\"Grafico -\", numero, \"Grado - Matematica\"),\n",
    "             x = \"Promedio\",\n",
    "             y = \"Frecuencia\")\n",
    "    print(aux)\n",
    "    \n",
    "    #MODA\n",
    "    notas <- datos_año_lengua$Promedio\n",
    "    tabla_frecuencias <- table(notas)\n",
    "    modas <- names(tabla_frecuencias[tabla_frecuencias == max(tabla_frecuencias)])\n",
    "    \n",
    "    # Imprimir el valor de la moda\n",
    "    cat(\"Valor(es) de la moda:\", modas, \"\\n\")\n",
    "    \n",
    "    if (length(modas)== 1) {\n",
    "      cat(\"La distribucion es unimodal\", numero, \"Grado - Matematica\")\n",
    "    } else {\n",
    "      cat(\"La distribucion es multimodal\", numero, \"Grado - Matematica\")\n",
    "    }\n",
    "    \n",
    "    #Coeficiente de Fisher\n",
    "    coef_fisher <- sum((datos_año_lengua$Promedio - mean(datos_año_lengua$Promedio))^3) / (length(datos_año_lengua$Promedio) * sd(datos_año_lengua$Promedio)^3/length(datos_año_lengua$Promedio))\n",
    "    \n",
    "    cat(\"\\n\",\"Coeficiente de Asimetría de Fisher:\", coef_fisher, \"\\n\")\n",
    "    \n",
    "    #prints de Fisher\n",
    "    if (coef_fisher > 0) {\n",
    "      cat(\"\\n\",\"La distribución es asimétrica positiva (sesgada hacia la derecha)\",\"\\n\")\n",
    "    } else if (coef_fisher < 0) { #En R no existe elif\n",
    "      cat(\"\\n\",\"La distribución es asimétrica negativa (sesgada hacia la izquierda)\",\"\\n\")\n",
    "    } else {\n",
    "      cat(\"\\n\",\"La distribución es simétrica\",\"\\n\")\n",
    "    }\n",
    "}"
   ]
  },
  {
   "cell_type": "code",
   "execution_count": null,
   "id": "b7ac2c5a-1804-4859-93cc-984c2e7597d7",
   "metadata": {
    "scrolled": true,
    "vscode": {
     "languageId": "r"
    }
   },
   "outputs": [],
   "source": [
    "resultados_por_año <- list()\n",
    "\n",
    "# Realizar el análisis para cada grado\n",
    "for (i in 1:6) {\n",
    "  # Filtrar los datos por el grado correspondiente\n",
    "  datos_año <- Uruguay_Primaria[Uruguay_Primaria$Año_cursado == i & Uruguay_Primaria$asignatura == \"LENGUA\", ]\n",
    "  datos_año <- subset(datos_año, !(is.na(Promedio)))\n",
    "  \n",
    "  # Calcular el rango de variación de los datos\n",
    "  rango <- range(datos_año$Promedio)\n",
    "  \n",
    "  # Determinar si la distribución es simétrica y el tipo de asimetría\n",
    "  coeficiente_asimetria <- skewness(datos_año$Promedio)\n",
    "  simetria <- ifelse(coeficiente_asimetria == 0, \"simétrica\",\n",
    "                     ifelse(coeficiente_asimetria > 0, \"asimétrica a la derecha\",\n",
    "                            \"asimétrica a la izquierda\"))\n",
    "  \n",
    "  # Calcular la media\n",
    "  media <- round(mean(datos_año$Promedio),2)\n",
    "  \n",
    "  # Calcular la mediana\n",
    "  mediana <- median(datos_año$Promedio)\n",
    "  \n",
    "  # Calcular el rango intercuartílico\n",
    "  rango_intercuartilico <- IQR(datos_año$Promedio)\n",
    "  \n",
    "  # Calcular los cuartiles\n",
    "  cuartiles <- quantile(datos_año$Promedio, c(0.25, 0.5, 0.75))\n",
    "  \n",
    "  # Calcular el límite superior de los valores atípicos\n",
    "  limite_superior_atipicos <- cuartiles[3] + 1.5 * rango_intercuartilico\n",
    "  \n",
    "  # Contar la cantidad de datos atípicos\n",
    "  datos_atipicos <- datos_año$Promedio[datos_año$Promedio > limite_superior_atipicos]\n",
    "  \n",
    "  # Evaluar si el rendimiento fue óptimo\n",
    "  rendimiento_optimo <- ifelse(mediana >= 6, \"Sí\", \"No\")\n",
    "  \n",
    "  # Almacenar los resultados en la lista\n",
    "  resultados_por_año[[paste(\"Año\", i)]] <- list(\n",
    "    Rango = rango,\n",
    "    Simetría = simetria,\n",
    "    Media = media,\n",
    "    Mediana = mediana,\n",
    "    RangoIntercuartilico = rango_intercuartilico,\n",
    "    Cuartiles = cuartiles,\n",
    "    LimiteSuperiorAtipicos = limite_superior_atipicos,\n",
    "    CantidadDatosAtipicos = length(datos_atipicos),\n",
    "    RendimientoOptimo = rendimiento_optimo\n",
    "  )\n",
    "}\n",
    "for (i in 1:6) {\n",
    "  cat(\"Resultados para el año\", i, \":\\n\")\n",
    "  cat(\"  Rango de variación de los datos (Máximo - Mínimo):\", resultados_por_año[[paste(\"Año\", i)]]$Rango[2], \"-\", resultados_por_año[[paste(\"Año\", i)]]$Rango[1], \"=\", resultados_por_año[[paste(\"Año\", i)]]$Rango[2] - resultados_por_año[[paste(\"Año\", i)]]$Rango[1], \"\\n\")\n",
    "  cat(\"  La distribución es\", resultados_por_año[[paste(\"Año\", i)]]$Simetría, \"\\n\")\n",
    "  cat(\"  Media de los datos:\", resultados_por_año[[paste(\"Año\", i)]]$Media, \"\\n\")\n",
    "  cat(\"  Mediana de los datos:\", resultados_por_año[[paste(\"Año\", i)]]$Mediana, \"\\n\")\n",
    "  cat(\"  Rango intercuartílico:\", resultados_por_año[[paste(\"Año\", i)]]$RangoIntercuartilico, \"\\n\")\n",
    "  cat(\"  Cuartiles:\", resultados_por_año[[paste(\"Año\", i)]]$Cuartiles, \"\\n\")\n",
    "  cat(\"  Límite superior para considerar valores atípicos:\", resultados_por_año[[paste(\"Año\", i)]]$LimiteSuperiorAtipicos, \"\\n\")\n",
    "  cat(\"  Cantidad de datos atípicos:\", resultados_por_año[[paste(\"Año\", i)]]$CantidadDatosAtipicos, \"\\n\")\n",
    "  cat(\"  ¿El rendimiento fue óptimo?:\", resultados_por_año[[paste(\"Año\", i)]]$RendimientoOptimo, \"\\n\\n\")\n",
    "}"
   ]
  },
  {
   "cell_type": "code",
   "execution_count": null,
   "id": "dcee8a0d-b666-4466-9076-65898c732410",
   "metadata": {
    "scrolled": true,
    "vscode": {
     "languageId": "r"
    }
   },
   "outputs": [],
   "source": [
    "for (numero in 1:6) {\n",
    "    uru_lengua <- filter(Uruguay_Primaria, asignatura == \"LENGUA\", Año_cursado == numero)\n",
    "    boxplot(uru_lengua$Promedio, main= paste(\"Boxplot de Promedio Lengua GRADO\", numero), ylab=\"Promedio\")\n",
    "    cat(\"\\n\",\"GRADO\", numero, \"°\\n\")\n",
    "}"
   ]
  },
  {
   "cell_type": "code",
   "execution_count": null,
   "id": "9921d21f-331c-4f03-a1bf-4dcc4a11dc22",
   "metadata": {
    "vscode": {
     "languageId": "r"
    }
   },
   "outputs": [],
   "source": [
    "for (numero in 1:6) {\n",
    "    uru_lengua <- filter(Uruguay_Primaria, asignatura == \"LENGUA\", Año_cursado == numero)\n",
    "    \n",
    "    datos_promedio <- na.omit(uru_lengua$Promedio) #Borramos los NA\n",
    "    \n",
    "    # Estimacion kernel de la densidad\n",
    "    d <- density(datos_promedio)\n",
    "    \n",
    "    # Grafico de la densidad\n",
    "    plot(d, lwd = 2, main = paste(\"Grafico densidad kernel de Promedio - GRADO\", numero,\"° Lengua\"), xlab = \"Promedios\", ylab = \"Densidad\")\n",
    "    cat(\"\\n\", \"GRADO\", numero, \"°\\n\")\n",
    "}"
   ]
  },
  {
   "cell_type": "code",
   "execution_count": null,
   "id": "8fe42d87-6852-47da-8fe1-ab008baecaa2",
   "metadata": {
    "scrolled": true,
    "vscode": {
     "languageId": "r"
    }
   },
   "outputs": [],
   "source": [
    "for (i in 1:6) {\n",
    "  # Filtrar los datos por el grado correspondiente y la materia de Matematica\n",
    "  datos_año_lengua <- Uruguay_Primaria[Uruguay_Primaria$Año_cursado == i & Uruguay_Primaria$asignatura == \"LENGUA\", ]\n",
    "\n",
    "  datos_año_lengua <- subset(datos_año_lengua, !(Resultado == \"NA\"))\n",
    "  valores <- datos_año_lengua$Promedio\n",
    "\n",
    "\n",
    "   if (length(valores) < 50) {\n",
    "      #test de shapiro para verf normalidad\n",
    "      qqnorm(valores, main = paste(\"PRIMARIA: Q-Q Plot - \", i, \"Grado - Lengua\"))\n",
    "      print(\"teste de shapiro\")\n",
    "      aux <-shapiro.test(valores)\n",
    "      print(aux)\n",
    "      qqline(valores, col = \"red\")  #Linea del QQPLOT\n",
    "    }\n",
    "    else{\n",
    "      valores_ordenados <- sort(valores)\n",
    "\n",
    "      qqnorm(valores_ordenados, main = paste(\"PRIMARIA: Q-Q Plot - Grado\", i, \"- Lengua\"))\n",
    "      qqline(valores_ordenados, col = \"red\")\n",
    "\n",
    "      #TEST de ks\n",
    "      suppressWarnings({ #ignoramos las warning\n",
    "      ks_test_result <- ks.test(valores, \"pnorm\")\n",
    "      print(ks_test_result)\n",
    "      aux <- lillie.test(valores)\n",
    "      print(aux)\n",
    "    })\n",
    "    }\n",
    "}"
   ]
  },
  {
   "cell_type": "code",
   "execution_count": null,
   "id": "7f44cf03-2594-47a4-a0ae-10171d5d1e33",
   "metadata": {
    "vscode": {
     "languageId": "r"
    }
   },
   "outputs": [],
   "source": [
    "for (numero in 1:6) {\n",
    "    datos_año_lengua <- filter(Uruguay_Primaria, Año_cursado == numero & asignatura == \"LENGUA\")\n",
    "    datos_año_lengua <- subset(datos_año_lengua, !(is.na(Promedio)))\n",
    "\n",
    "    aux <- ggplot(datos_año_lengua, aes(x = Promedio)) +\n",
    "        geom_histogram(binwidth = 1, fill = \"skyblue\", color = \"black\") + # con binwitch se elige el \"intervalo\"\n",
    "        labs(title = paste(\"Grafico -\", numero, \"Grado - Lengua\"),\n",
    "             x = \"Promedio\",\n",
    "             y = \"Frecuencia\")\n",
    "    print(aux)\n",
    "\n",
    "    #MODA\n",
    "    notas <- datos_año_lengua$Promedio\n",
    "    tabla_frecuencias <- table(notas)\n",
    "    modas <- names(tabla_frecuencias[tabla_frecuencias == max(tabla_frecuencias)])\n",
    "    \n",
    "    # Imprimir el valor de la moda\n",
    "    cat(\"Valor(es) de la moda:\", modas, \"\\n\")\n",
    "    \n",
    "    if (length(modas)== 1) {\n",
    "      cat(\"La distribucion es unimodal\", numero, \"Grado - Lengua\")\n",
    "    } else {\n",
    "      cat(\"La distribucion es multimodal\", numero, \"Grado - Lengua\")\n",
    "    }\n",
    "    \n",
    "    #Coeficiente de Fisher\n",
    "    coef_fisher <- sum((datos_año_lengua$Promedio - mean(datos_año_lengua$Promedio))^3) / (length(datos_año_lengua$Promedio) * sd(datos_año_lengua$Promedio)^3/length(datos_año_lengua$Promedio))\n",
    "    \n",
    "    cat(\"\\n\",\"Coeficiente de Asimetría de Fisher:\", coef_fisher, \"\\n\")\n",
    "    \n",
    "    #prints de Fisher\n",
    "    if (coef_fisher > 0) {\n",
    "      cat(\"\\n\",\"La distribucion es asimetrica positiva (sesgada hacia la derecha)\",\"\\n\")\n",
    "    } else if (coef_fisher < 0) { #En R no existe elif\n",
    "      cat(\"\\n\",\"La distribucion es asimetrica negativa (sesgada hacia la izquierda)\",\"\\n\")\n",
    "    } else {\n",
    "      cat(\"\\n\",\"La distribucion es simetrica\",\"\\n\")\n",
    "    }\n",
    "}"
   ]
  },
  {
   "cell_type": "code",
   "execution_count": null,
   "id": "783fb1a9-06c9-4620-a014-29eed1897fab",
   "metadata": {
    "vscode": {
     "languageId": "r"
    }
   },
   "outputs": [],
   "source": []
  },
  {
   "cell_type": "code",
   "execution_count": null,
   "id": "f47122a6-5084-4cd8-b8b1-25aec331c014",
   "metadata": {
    "vscode": {
     "languageId": "r"
    }
   },
   "outputs": [],
   "source": [
    "#borramos todo lo que tenemos en memoria\n",
    "rm(list = ls())\n",
    "gc()"
   ]
  },
  {
   "cell_type": "code",
   "execution_count": null,
   "id": "2cda9862-3aa9-4242-a9c7-13ae9491cf8c",
   "metadata": {
    "vscode": {
     "languageId": "r"
    }
   },
   "outputs": [],
   "source": [
    "library(readxl)\n",
    "library(ggplot2)\n",
    "library(dplyr)\n",
    "library(psych)\n",
    "library(tidyr)\n",
    "library(corrplot)\n",
    "library(ppcor)\n",
    "library(ggcorrplot)\n",
    "library(plotly)\n",
    "\n",
    "\n",
    "Uruguay_Primaria <- read_excel(\"C:/Users/Elias-PC/Facultad/Uruguay_PrimariaFIX.xlsx\")"
   ]
  },
  {
   "cell_type": "code",
   "execution_count": null,
   "id": "0d213591-dde9-48a7-be2b-54d9a19a7758",
   "metadata": {
    "vscode": {
     "languageId": "r"
    }
   },
   "outputs": [],
   "source": [
    "mate_primero <- filter(Uruguay_Primaria, asignatura == \"MATEMATICA\", Año_cursado ==\"1\")\n",
    "\n",
    "estudiantes_por_escuela <- mate_primero %>%\n",
    "  group_by(CUE) %>%\n",
    "  summarise(Documento = n())\n",
    "\n",
    "escuelas_con_5_o_mas <- estudiantes_por_escuela %>%\n",
    "  filter(Documento >= 5) #Yo analice las escuelas con mas de 5 alumnos o algo asi para el informe\n",
    "\n",
    "escuelas_con_5_o_mas <- escuelas_con_5_o_mas %>% \n",
    "  arrange(Documento)\n",
    "\n",
    "escuelas_con_5_o_mas <- escuelas_con_5_o_mas %>%\n",
    "  slice(1)\n",
    "\n",
    "escuela_mas_estudiantes <- estudiantes_por_escuela %>%\n",
    "  slice_max(order_by = Documento)\n",
    "\n",
    "View(escuelas_con_5_o_mas)\n",
    "View(escuela_mas_estudiantes)"
   ]
  },
  {
   "cell_type": "code",
   "execution_count": null,
   "id": "f7edd45a-b552-4ba3-aa42-22f59be26a5c",
   "metadata": {
    "vscode": {
     "languageId": "r"
    }
   },
   "outputs": [],
   "source": [
    "mate_primero_menos <- filter(mate_primero, CUE == 9000567) #Ponemos el CUE de la escuela con menos alumnos\n",
    "\n",
    "mate_primero_mas <- filter(mate_primero, CUE ==9001410)\n",
    "\n",
    "ggplot(mate_primero_menos, aes(x = Promedio)) +\n",
    "  geom_histogram(binwidth = 1, fill = \"#87CEFA\", color = \"black\") +\n",
    "  labs(title = \"Histograma de Frecuencias Absolutas - Escuela con menos estudiantes\",\n",
    "       x = \"Notas\", y = \"Frecuencia Absoluta\")\n",
    "\n",
    "# Histograma de frecuencias absolutas para la escuela con mas estudiantes\n",
    "ggplot(mate_primero_mas, aes(x = Promedio)) +\n",
    "  geom_histogram(binwidth = 1, fill = \"#87CEFA\", color = \"black\") +\n",
    "  labs(title = \"Histograma de Frecuencias Absolutas - Escuela con mas estudiantes\",\n",
    "       x = \"Notas\", y = \"Frecuencia Absoluta+\")"
   ]
  },
  {
   "cell_type": "code",
   "execution_count": null,
   "id": "0a17ec1d-a555-4774-b78d-4d9bb9919e65",
   "metadata": {
    "vscode": {
     "languageId": "r"
    }
   },
   "outputs": [],
   "source": [
    "#Tipificamos los datos:\n",
    "Uruguay_Primaria$Promedio_tipificado <- scale(Uruguay_Primaria$Promedio)\n",
    "\n",
    "Uruguay_Primaria$Promedio_tipificado"
   ]
  },
  {
   "cell_type": "code",
   "execution_count": null,
   "id": "bc8100ba-1e11-498c-8826-f14d2501be74",
   "metadata": {
    "vscode": {
     "languageId": "r"
    }
   },
   "outputs": [],
   "source": [
    "for (numero in 1:6) {\n",
    "    uru_mate <- filter(Uruguay_Primaria, asignatura == \"MATEMATICA\", Año_cursado == numero)\n",
    "    \n",
    "    datos_promedio <- na.omit(uru_mate$Promedio_tipificado) #Borramos los NA\n",
    "    \n",
    "    # Estimacion kernel de la densidad\n",
    "    d <- density(datos_promedio)\n",
    "\n",
    "    # Grafico de la densidad\n",
    "    plot(d, lwd = 2, main = paste(\"Grafico densidad kernel de Promedio - GRADO\", numero,\"° Matematica\"), xlab = \"Promedio_tipificado\", ylab = \"Densidad\")\n",
    "    cat(\"\\n\", \"GRADO\", numero, \"°\\n\")\n",
    "}"
   ]
  },
  {
   "cell_type": "code",
   "execution_count": null,
   "id": "947921df-ee4d-41e3-a3e0-e65bfd56e361",
   "metadata": {
    "vscode": {
     "languageId": "r"
    }
   },
   "outputs": [],
   "source": [
    "for (numero in 1:6) {\n",
    "    uru_lengu <- filter(Uruguay_Primaria, asignatura == \"LENGUA\", Año_cursado == numero)\n",
    "    \n",
    "    datos_promedio <- na.omit(uru_lengu$Promedio_tipificado) #Borramos los NA\n",
    "    \n",
    "    # Estimacion kernel de la densidad\n",
    "    d <- density(datos_promedio)\n",
    "\n",
    "    # Grafico de la densidad\n",
    "    plot(d, lwd = 2, main = paste(\"Grafico densidad kernel de Promedio - GRADO\", numero,\"° Lengua\"), xlab = \"Promedio_tipificado\", ylab = \"Densidad\")\n",
    "    cat(\"\\n\", \"GRADO\", numero, \"°\\n\")\n",
    "}"
   ]
  },
  {
   "cell_type": "code",
   "execution_count": null,
   "id": "8c78a25f-579f-43d5-b5a4-0417e6031a85",
   "metadata": {
    "vscode": {
     "languageId": "r"
    }
   },
   "outputs": [],
   "source": [
    "datos_estandarizados <- scale(Uruguay_Primaria$Promedio)\n",
    "\n",
    "# Agregar la variable estandarizada al conjunto de datos original\n",
    "Uruguay_Primaria$Promedio_estandarizado <- datos_estandarizados\n",
    "\n",
    "# Estandarizar las variables de promedio de notas en Matemáticas y Lengua\n",
    "promedio_mat_estandarizado <- scale(Uruguay_Primaria$Promedio_estandarizado[Uruguay_Primaria$Año_cursado == 1 & Uruguay_Primaria$asignatura == \"MATEMATICA\"])\n",
    "promedio_lengua_estandarizado <- scale(Uruguay_Primaria$Promedio_estandarizado[Uruguay_Primaria$Año_cursado == 1 & Uruguay_Primaria$asignatura == \"LENGUA\"])\n",
    "\n",
    "# Análisis de la información adicional proporcionada por la estandarización\n",
    "summary(promedio_mat_estandarizado)\n",
    "summary(promedio_lengua_estandarizado)"
   ]
  },
  {
   "cell_type": "code",
   "execution_count": null,
   "id": "0263c43a-640c-431e-bfd4-16e84f774dff",
   "metadata": {
    "vscode": {
     "languageId": "r"
    }
   },
   "outputs": [],
   "source": [
    "colores <- c(\"MATEMATICA\" = \"#FF6347\", \"LENGUA\" = \"#00CD66\")\n",
    "\n",
    "for (numero in 1:6) {\n",
    "  uru_mate <- filter(Uruguay_Primaria, asignatura == \"MATEMATICA\", Año_cursado == numero)\n",
    "  uru_lengua <- filter(Uruguay_Primaria, asignatura == \"LENGUA\", Año_cursado == numero)\n",
    "  \n",
    "  boxplot(uru_mate$Promedio, uru_lengua$Promedio, names = c(\"MATEMATICA\", \"LENGUA\"), \n",
    "          main = paste(\"Boxplot Comparativo Matematica-Lengua\", numero), ylab = \"Valores\", xlab = \"Grupos\",\n",
    "          col = colores)\n",
    "}"
   ]
  },
  {
   "cell_type": "code",
   "execution_count": null,
   "id": "fb4a99d3-53f8-4069-8a3c-e3cfe2cc94f8",
   "metadata": {
    "vscode": {
     "languageId": "r"
    }
   },
   "outputs": [],
   "source": [
    "alg_materias_primaria <- filter(Uruguay_Primaria, (asignatura == \"LENGUA\" | asignatura== \"MATEMATICA\"))\n",
    "\n",
    "alg_materias_primaria <- subset(alg_materias_primaria, !(is.na(Promedio))) #eliminamos los promedios que son NA\n",
    "                                                                           #por culpa de los EPAC.\n",
    "colores <- c(\"#1f77b4\", \"#ff7f0e\")\n",
    "\n",
    "figurita <- plot_ly(alg_materias_primaria, x = ~Año_cursado, y = ~Promedio, color = ~asignatura, type = \"box\", colors=colores )\n",
    "figurita <- figurita %>% layout(title = \"Grafico interactivo: boxplot agrupado de materias por grado de cursado nivel primario\",\n",
    "                      boxmode = \"group\",\n",
    "                      xaxis = list(title = \"Grado cursado\"),\n",
    "                      yaxis = list(gridcolor = \"grey\"))\n",
    "figurita"
   ]
  },
  {
   "cell_type": "code",
   "execution_count": null,
   "id": "7a3cd4c9-2db8-4fd1-b4c4-b149c8e4e26b",
   "metadata": {
    "vscode": {
     "languageId": "r"
    }
   },
   "outputs": [],
   "source": [
    "alg_materias_primaria <- filter(Uruguay_Primaria, (asignatura == \"LENGUA\" | asignatura== \"MATEMATICA\" \n",
    "                                         | asignatura ==\"CIENCIAS SOCIALES\" | asignatura == \"CIENCIAS NATURALES\"))\n",
    "\n",
    "alg_materias_primaria <- subset(alg_materias_primaria, !(is.na(Promedio))) #eliminamos los promedios que son NA\n",
    "                                                                           #por culpa de los EPAC.\n",
    "colores <- c(\"#1f77b4\", \"#ff7f0e\")\n",
    "\n",
    "figurita <- plot_ly(alg_materias_primaria, x = ~Año_cursado, y = ~Promedio, color = ~asignatura, type = \"box\", colors=colores )\n",
    "figurita <- figurita %>% layout(title = \"Grafico interactivo: boxplot agrupado de materias por grado de cursado nivel primario\",\n",
    "                      boxmode = \"group\",\n",
    "                      xaxis = list(title = \"Grado cursado\"),\n",
    "                      yaxis = list(gridcolor = \"grey\"))\n",
    "figurita"
   ]
  },
  {
   "cell_type": "code",
   "execution_count": null,
   "id": "c1c148e7-0409-4e55-b16a-d3e2b7f6f926",
   "metadata": {
    "vscode": {
     "languageId": "r"
    }
   },
   "outputs": [],
   "source": [
    "matematica_manana <- filter(Uruguay_Primaria, asignatura == \"MATEMATICA\" & Turno == \"MAÑANA\")\n",
    "matematica_manana <- subset(matematica_manana, !(is.na(Promedio)))\n",
    "matematica_tarde <- filter(Uruguay_Primaria, asignatura == \"MATEMATICA\" & Turno == \"TARDE\")\n",
    "matematica_tarde <- subset(matematica_tarde, !(is.na(Promedio)))\n",
    "\n",
    "\n",
    "ggplot(mapping = aes(x = factor(Año_cursado), y = Promedio, fill = Turno)) +\n",
    "  geom_boxplot(data = rbind(matematica_manana, matematica_tarde), alpha = 0.8) +\n",
    "  labs(title = \"Comparación de Notas de Matemática por Turno\",\n",
    "       x = \"Grado cursado\",\n",
    "       y = \"Promedio\",\n",
    "       fill = \"Turno\")"
   ]
  },
  {
   "cell_type": "code",
   "execution_count": null,
   "id": "3a661f20-6bc4-4ffc-b47b-24109b229bfb",
   "metadata": {
    "vscode": {
     "languageId": "r"
    }
   },
   "outputs": [],
   "source": [
    "# Crear una lista para almacenar los coeficientes de correlación\n",
    "correlation_coefficients <- list()\n",
    "\n",
    "for (i in 1:6) {\n",
    "  # Filtrar los datos para Matemáticas y Educación Física en el grado actual del ciclo\n",
    "  datos_matematica <- filter(Uruguay_Primaria, asignatura == \"MATEMATICA\" & Año_cursado == i)\n",
    "    datos_matematica <- subset(datos_matematica, !(is.na(Promedio)))\n",
    "  datos_EdFisica <- filter(Uruguay_Primaria, asignatura == \"EDUCACION FISICA\" & Año_cursado == i)\n",
    "    datos_EdFisica <- subset(datos_EdFisica, !(is.na(Promedio)))\n",
    "  \n",
    "  # Suprimir warnings relacionados con inner_join\n",
    "  suppressWarnings({\n",
    "    # Unir los datos de Matemáticas y Educación Física por el documento\n",
    "    df <- inner_join(datos_matematica, datos_EdFisica, by = \"Documento\")\n",
    "  })\n",
    "  \n",
    "  # Renombrar las columnas de promedio\n",
    "  df <- rename(df, Prom_Mat = Promedio.x, Prom_EdFisica = Promedio.y)\n",
    "  \n",
    "  # Crear el gráfico de dispersión\n",
    "  scatter_plot <- ggplot(data = df, aes(x = Prom_Mat, y = Prom_EdFisica)) +\n",
    "    geom_point() +\n",
    "    labs(title = paste(\"Diagrama de Dispersión - Año\", i),\n",
    "         x = \"Promedio Matemática\",\n",
    "         y = \"Promedio Educación Física\") +\n",
    "    theme_minimal()\n",
    "  \n",
    "  # Imprimir el gráfico de dispersión\n",
    "  print(scatter_plot)\n",
    "  \n",
    "    correlation_spearman <- cor(df$Prom_Mat, df$Prom_EdFisica, method = \"spearman\")\n",
    "    # Almacenar el coeficiente de correlación de Spearman en la lista\n",
    "    correlation_coefficients[[i]] <- c(spearman = correlation_spearman)\n",
    "    # Imprimir el coeficiente de correlación de Spearman\n",
    "    cat(\"Año\", i, \"- Coeficiente de correlación de Spearman:\", correlation_spearman, \"\\n\")\n",
    "}"
   ]
  },
  {
   "cell_type": "code",
   "execution_count": null,
   "id": "3237652b-a4ef-4d9f-8aa4-160c398eade9",
   "metadata": {
    "vscode": {
     "languageId": "r"
    }
   },
   "outputs": [],
   "source": [
    "# Crear una lista para almacenar los gráficos\n",
    "scatter_plots <- list()\n",
    "\n",
    "# Crear una lista para almacenar los coeficientes de correlación\n",
    "correlation_coefficients <- list()\n",
    "\n",
    "for (i in 1:6) {\n",
    "  # Filtrar los datos para Matemáticas y Lengua en el grado actual del ciclo\n",
    "  datos_matematica <- filter(Uruguay_Primaria, asignatura == \"MATEMATICA\" & Año_cursado == i)\n",
    "    datos_matematica <- subset(datos_matematica, !(is.na(Promedio)))\n",
    "  datos_lengua <- filter(Uruguay_Primaria, asignatura == \"LENGUA\" & Año_cursado == i)\n",
    "    datos_lengua <- subset(datos_lengua, !(is.na(Promedio)))\n",
    "  \n",
    "  # Suprimir warnings relacionados con inner_join\n",
    "  suppressWarnings({\n",
    "    # Unir los datos de Matemáticas y Lengua por el documento\n",
    "    df <- inner_join(datos_matematica, datos_lengua, by = \"Documento\")\n",
    "  })\n",
    "  \n",
    "  # Renombrar las columnas de promedio\n",
    "  df <- rename(df, Prom_Mat = Promedio.x, Prom_Leng = Promedio.y)\n",
    "  \n",
    "  # Crear el gráfico de dispersión\n",
    "  scatter_plot <- ggplot(data = df, aes(x = Prom_Mat, y = Prom_Leng)) +\n",
    "    geom_point() +\n",
    "    labs(title = paste(\"Diagrama de Dispersión - Año\", i),\n",
    "         x = \"Promedio Matemática\",\n",
    "         y = \"Promedio Lengua\") +\n",
    "    theme_minimal()\n",
    "  \n",
    "  # Guardar el gráfico en la lista\n",
    "  scatter_plots[[i]] <- scatter_plot\n",
    "  \n",
    "  # Imprimir el gráfico\n",
    "  print(scatter_plot)\n",
    "\n",
    "    correlation_spearman <- suppressWarnings(cor(df$Prom_Mat, df$Prom_Leng, method = \"spearman\"))\n",
    "    # Almacenar el coeficiente de correlación de Spearman en la lista\n",
    "    correlation_coefficients[[i]] <- list(method = \"Spearman\", value = correlation_spearman)\n",
    "    # Determinar la fuerza de la asociación para Spearman\n",
    "    strength <- ifelse(abs(correlation_spearman) < 0.4, \"débil\",\n",
    "                       ifelse(abs(correlation_spearman) < 0.7, \"moderada\", \"fuerte\"))\n",
    "    # Imprimir el coeficiente de correlación de Spearman y su fuerza\n",
    "    cat(\"Año\", i, \"- Coeficiente de correlación de Spearman:\", correlation_spearman, \"- Asociación:\", strength, \"\\n\")\n",
    " \n",
    "}"
   ]
  },
  {
   "cell_type": "code",
   "execution_count": null,
   "id": "1d1a9384-e236-42fd-b282-7fe8e2646c49",
   "metadata": {
    "vscode": {
     "languageId": "r"
    }
   },
   "outputs": [],
   "source": [
    "# Definir las materias de interés\n",
    "materias <- c(\"MATEMATICA\", \"CIENCIAS NATURALES\", \"CIENCIAS SOCIALES\", \"EDUCACION FISICA\", \"LENGUA\")\n",
    "\n",
    "# Crear una lista para almacenar las matrices de correlación\n",
    "resultados <- list()\n",
    "resultados_parciales <- list()  # Inicializar lista para resultados parciales\n",
    "\n",
    "for (anio in 1:6) {\n",
    "  # Filtrar los datos para el año cursado actual y las materias de interés\n",
    "  df_materia <- suppressWarnings({\n",
    "    Uruguay_Primaria %>%\n",
    "      filter(Año_cursado == as.character(anio) & asignatura %in% materias) %>%\n",
    "      group_by(Documento, asignatura) %>%\n",
    "      summarise(Promedio = mean(Promedio), .groups = \"drop\") %>%  # Suprimir el warning de summarise\n",
    "      spread(key = asignatura, value = Promedio) %>%\n",
    "      rename_all(~paste(\"Prom_\", ., sep = \"\")) %>%\n",
    "      na.omit()\n",
    "  })\n",
    "  \n",
    "  # Seleccionar solo las columnas de interés\n",
    "  dataM <- df_materia[, c(\"Prom_MATEMATICA\", \"Prom_CIENCIAS NATURALES\", \"Prom_CIENCIAS SOCIALES\", \"Prom_LENGUA\", \"Prom_EDUCACION FISICA\")]\n",
    "\n",
    "  # Transformar los datos a formato numérico\n",
    "  dataM[] <- lapply(dataM, as.numeric)\n",
    "  \n",
    "  # Calcular la matriz de correlación de Spearman\n",
    "  Scatter_Matrix_spearman <- suppressWarnings({\n",
    "    pairs.panels(dataM,\n",
    "                 method = \"spearman\",\n",
    "                 ellipses = TRUE,\n",
    "                 main = paste(\"Matriz de dispersión de Spearman para el grado\", anio))  # Agregar título del año\n",
    "  })\n",
    "  \n",
    "  # Almacenar la matriz de dispersión de Spearman en la lista de resultados\n",
    "  resultados[[paste(\"Anio\", anio, sep = \"_\")]] <- Scatter_Matrix_spearman\n",
    "  \n",
    "  # Calcular la matriz de correlación parcial\n",
    "  correlacion_parcial <- pcor(dataM, method = \"spearman\")\n",
    "  \n",
    "  # Almacenar la matriz de correlación parcial en la lista de resultados parciales\n",
    "  resultados_parciales[[paste(\"Anio\", anio, sep = \"_\")]] <- correlacion_parcial$estimate\n",
    "}\n",
    "\n",
    "# Imprimir los resultados de las matrices de correlación parcial\n",
    "for (i in seq_along(resultados_parciales)) {\n",
    "  cat(\"Matriz de correlación parcial para el grado\", i, \":\\n\")\n",
    "  print(resultados_parciales[[i]])\n",
    "  cat(\"\\n\")\n",
    "}\n",
    "\n",
    "for (numero in 1:6) {\n",
    "  partial_corr <- resultados_parciales[[numero]]\n",
    "  aux<- ggcorrplot(partial_corr, hc.order = TRUE, lab = TRUE) + #graficamos la matris de correlacion parcial\n",
    "    ggtitle(paste(\"Matriz de correlación parcial\", numero,\"°grado PRIMARIA\")) #le ponemos titulo\n",
    "  print(aux)\n",
    "}"
   ]
  },
  {
   "cell_type": "code",
   "execution_count": null,
   "id": "bbeeb5c2-0f88-42b8-b03e-16c137e4676c",
   "metadata": {
    "vscode": {
     "languageId": "r"
    }
   },
   "outputs": [],
   "source": []
  },
  {
   "cell_type": "code",
   "execution_count": null,
   "id": "62f0b30a-7094-4d13-a1a1-d3fb5c8e7d1d",
   "metadata": {
    "vscode": {
     "languageId": "r"
    }
   },
   "outputs": [],
   "source": [
    "#borramos todo lo que tenemos en memoria\n",
    "rm(list = ls())\n",
    "gc()"
   ]
  },
  {
   "cell_type": "code",
   "execution_count": null,
   "id": "b0886257-a183-4d9d-9ea3-d019e0bfaa4d",
   "metadata": {
    "scrolled": true,
    "vscode": {
     "languageId": "r"
    }
   },
   "outputs": [],
   "source": [
    "library(readxl)\n",
    "library(dplyr)\n",
    "library(pwr)\n",
    "library(stats)\n",
    "library(car)\n",
    "library(ggplot2)\n",
    "library(tidyr)\n",
    "library(\"DescTools\")\n",
    "library(reshape2)\n",
    "library(plotly)\n",
    "library(\"aplpack\")\n",
    "\n",
    "Primaria_por_dep <- read.csv(\"C:/Users/Elias-PC/Facultad/primaria_pordep_fix.csv\", encoding = \"UTF-8\")\n",
    "Primaria_por_dep\n",
    "\n",
    "Uruguay_Primaria <- read_excel(\"C:/Users/Elias-PC/Facultad/Uruguay_PrimariaFIX.xlsx\")\n",
    "\n",
    "#filtramos los epac\n",
    "Uruguay_Primaria_sin_epac <- filter(Uruguay_Primaria, NotasTercerT != \"EPAC\", NotasPrimerT != \"EPAC\", NotasSegundoT != \"EPAC\")\n",
    "\n",
    "#Pasamos a INT los datos\n",
    "Uruguay_Primaria_sin_epac$NotasTercerT <- as.numeric(Uruguay_Primaria_sin_epac$NotasTercerT)\n",
    "Uruguay_Primaria_sin_epac$NotasSegundoT <- as.numeric(Uruguay_Primaria_sin_epac$NotasSegundoT)\n",
    "Uruguay_Primaria_sin_epac$NotasPrimerT <- as.numeric(Uruguay_Primaria_sin_epac$NotasPrimerT)\n",
    "#punto_part"
   ]
  },
  {
   "cell_type": "code",
   "execution_count": null,
   "id": "c99fc007-6856-4e2d-b3b8-f5eeebad139c",
   "metadata": {
    "scrolled": true,
    "vscode": {
     "languageId": "r"
    }
   },
   "outputs": [],
   "source": [
    "#wilcox\n",
    "for (i in 1:6) {\n",
    "  datos_filtrados <- subset(Uruguay_Primaria, asignatura == \"MATEMATICA\" & Año_cursado == i)\n",
    "\n",
    "  #H0:La mediana de los promedios de Matematica del grado *i* es mayor o igual a 7.\n",
    "  #H1:La mediana de los promedios de Matematica del grado *i* es menor que 7.\n",
    "    aux <- wilcox.test(datos_filtrados$Promedio, mu = 7, alternative = \"less\")\n",
    "  cat(i,\"- Grado\")\n",
    "    print(aux)\n",
    "}\n",
    "#No hay informacion suficiente para rechazar h0.\n",
    "#No hay evidencia suficiente para afirmar que el rendimiento en Matematica es bajo."
   ]
  },
  {
   "cell_type": "code",
   "execution_count": null,
   "id": "aa75aeff-89d7-4cbe-92c5-36559704d3c5",
   "metadata": {
    "scrolled": true,
    "vscode": {
     "languageId": "r"
    }
   },
   "outputs": [],
   "source": [
    "#wilcox\n",
    "for (i in 1:6) {\n",
    "  datos_filtrados <- subset(Uruguay_Primaria, asignatura == \"LENGUA\" & Año_cursado == i)\n",
    "  \n",
    "  #H0:La mediana de los promedios de Lengua del grado *i* es mayor o igual a 7.\n",
    "  #H1:La mediana de los promedios de Lengua del grado *i* es menor que 7.\n",
    "  aux2 <- wilcox.test(datos_filtrados$Promedio, mu = 7, alternative = \"less\")\n",
    "  cat(i,\"- Grado\")\n",
    "    print(aux2)\n",
    "}\n",
    "#No hay informacion suficiente para rechazar h0.\n",
    "#No hay evidencia suficiente para afirmar que el rendimiento en Lengua es bajo."
   ]
  },
  {
   "cell_type": "code",
   "execution_count": null,
   "id": "20319452-238f-488b-958d-da9c2fc70f98",
   "metadata": {
    "vscode": {
     "languageId": "r"
    }
   },
   "outputs": [],
   "source": [
    "#vemos si hay diferencia entre las notas del primer y tercer trimestre en general.\n",
    "# hacemos el test\n",
    "resultado_wilcox <- wilcox.test(Uruguay_Primaria_sin_epac$NotasTercerT, Uruguay_Primaria_sin_epac$NotasPrimerT, paired = TRUE)\n",
    "print(resultado_wilcox)\n",
    "\n",
    "if (resultado_wilcox$p.value < 0.05) {\n",
    "  print(\"Hay una diferencia significativa entre las notas del primer y tercer trimestre.\")\n",
    "} else {\n",
    "  print(\"No se encontró una diferencia significativa.\")\n",
    "}"
   ]
  },
  {
   "cell_type": "code",
   "execution_count": null,
   "id": "9d26a268-03df-437d-a444-6a2ed4eb69c6",
   "metadata": {
    "scrolled": true,
    "vscode": {
     "languageId": "r"
    }
   },
   "outputs": [],
   "source": [
    "#Hacemos lo mismo pero ahora por cada grado con las notas de Matematica.\n",
    "for (anio in 1:6) {\n",
    "  datos_anio <- subset(Uruguay_Primaria_sin_epac, Año_cursado == anio & asignatura == \"MATEMATICA\")\n",
    "    \n",
    "    # hacemos el test\n",
    "    resultado_wilcox <- wilcox.test(datos_anio$NotasTercerT, datos_anio$NotasPrimerT, paired = TRUE)\n",
    "    cat(\"Grado:\",anio)\n",
    "    print(resultado_wilcox)\n",
    "}\n",
    "#En conclusion en todos los grados hay una diferencia significativa entre las notas del tercer y primer trimestre"
   ]
  },
  {
   "cell_type": "code",
   "execution_count": null,
   "id": "6afcea2c-ed92-4985-8057-35aab32cf8ca",
   "metadata": {
    "scrolled": true,
    "vscode": {
     "languageId": "r"
    }
   },
   "outputs": [],
   "source": [
    "#vemos si hay diferencia entre las notas del primer y tercer trimestre con las notas de Lengua.\n",
    "for (anio in 1:6) {\n",
    "  datos_anio <- subset(Uruguay_Primaria_sin_epac, Año_cursado == anio & asignatura == \"LENGUA\")\n",
    "    \n",
    "    # hacemos el test\n",
    "    resultado_wilcox <- wilcox.test(datos_anio$NotasTercerT, datos_anio$NotasPrimerT, paired = TRUE)\n",
    "    cat(\"Grado:\",anio)\n",
    "    print(resultado_wilcox)\n",
    "}"
   ]
  },
  {
   "cell_type": "code",
   "execution_count": null,
   "id": "6a38b1e3-50df-4e38-907b-a79dc18d1783",
   "metadata": {
    "vscode": {
     "languageId": "r"
    }
   },
   "outputs": [],
   "source": [
    "for (anio in 1:6) {\n",
    "  datos_anio <- subset(Uruguay_Primaria_sin_epac, Año_cursado == anio & asignatura == \"MATEMATICA\")\n",
    "  \n",
    "  # Crear un histograma para el grado actual\n",
    " hist(datos_anio$NotasTercerT, \n",
    "    col='#FC8D62',\n",
    "    border='black', \n",
    "    breaks=c(6,7,8,9,10),\n",
    "    xaxp=c(0,10,10),\n",
    "    labels = TRUE,\n",
    "    include.lowest=TRUE, \n",
    "    right=FALSE,\n",
    "    plot=TRUE,\n",
    "    density=100,\n",
    "    xlab=\"Notas\", \n",
    "    ylab=\"Frecuencia Absoluta\", \n",
    "    main = paste(\"Comparación de Notas de Matematica \n",
    "    del primer y tercer trimestre -\",anio, \"Grado\"),\n",
    "    cex.main=1.1)\n",
    "\n",
    "  hist(datos_anio$NotasPrimerT, \n",
    "        xaxp=c(0,10,10),\n",
    "        breaks=c(6,7,8,9,10),\n",
    "        border='black',\n",
    "        labels = TRUE,\n",
    "        include.lowest=TRUE,\n",
    "        right=FALSE,\n",
    "        add = TRUE, \n",
    "        col = '#FFD92F',\n",
    "        density=100)\n",
    "\n",
    "    # Agregar leyenda en el lado izquierdo\n",
    "    legend(\"topleft\", \n",
    "    legend = c(\"Primer Trimestre\", \"Tercer Trimestre\"), \n",
    "    fill = c(\"#FFD92F\", \"#FC8D62\"), \n",
    "    )\n",
    "\n",
    "    mediana_tercer <- round(median(datos_anio$NotasTercerT),2)\n",
    "    mediana_primer <- round(median(datos_anio$NotasPrimerT),2)\n",
    "    media_tercer <- round(mean(datos_anio$NotasTercerT),2)\n",
    "    media_primer <- round(mean(datos_anio$NotasPrimerT),2)\n",
    "    \n",
    "    # Agregar líneas verticales y etiquetas\n",
    "    abline(v = mediana_tercer, col = '#FC8D62',lwd = 6)\n",
    "    abline(v = mediana_primer, col = '#E78AC3',lwd = 6)\n",
    "    \n",
    "    abline(v = media_tercer, col = '#FF4040',lwd = 3, lty = 2)\n",
    "    abline(v = media_primer, col = '#0000FF',lwd = 3, lty = 2)\n",
    "\n",
    "    #leyenda de las medias\n",
    "    legend(\"bottomleft\", c(\"Media T1\", \"Media T3\"),\n",
    "       fill = c('#FF4040', '#0000FF'),\n",
    "       xpd = TRUE,\n",
    "       horiz = TRUE,\n",
    "       bty = \"n\",\n",
    "       inset = c(0, 0.75))\n",
    "\n",
    "    #leyenda de las medianas\n",
    "    legend(\"bottomleft\", c(\"Mediana T1\", \"Mediana T3\"),\n",
    "           fill = c('#E78AC3', '#FC8D62'),\n",
    "           xpd = TRUE,\n",
    "           horiz = TRUE,\n",
    "           bty = \"n\",\n",
    "           inset = c(0, 0.80))\n",
    "}"
   ]
  },
  {
   "cell_type": "code",
   "execution_count": null,
   "id": "8bdf93ed-28b0-4c78-bcb2-3be77ee9fbd5",
   "metadata": {
    "scrolled": true,
    "vscode": {
     "languageId": "r"
    }
   },
   "outputs": [],
   "source": [
    "for (anio in 1:6) {\n",
    "  datos_anio <- subset(Uruguay_Primaria_sin_epac, Año_cursado == anio & asignatura == \"LENGUA\")\n",
    "  \n",
    "  # Crear un histograma para el año actual\n",
    " hist(datos_anio$NotasTercerT, \n",
    "    col='#FC8D62',\n",
    "    border='black', \n",
    "    breaks=c(6,7,8,9,10),\n",
    "    xaxp=c(0,10,10),\n",
    "    labels = TRUE,\n",
    "    include.lowest=TRUE, \n",
    "    right=FALSE,\n",
    "    plot=TRUE,\n",
    "    density=100,\n",
    "    xlab=\"Notas\", \n",
    "    ylab=\"Frecuencia Absoluta\", \n",
    "    main = paste(\"Comparación de Notas de Lengua \n",
    "    del primer y tercer trimestre -\",anio, \"Grado\"),\n",
    "    cex.main=1.1)\n",
    "\n",
    "  hist(datos_anio$NotasPrimerT, \n",
    "        xaxp=c(0,10,10),\n",
    "        breaks=c(6,7,8,9,10),\n",
    "        border='black',\n",
    "        labels = TRUE,\n",
    "        include.lowest=TRUE,\n",
    "        right=FALSE,\n",
    "        add = TRUE, \n",
    "        col = '#FFD92F',\n",
    "        density=100)\n",
    "\n",
    "    # Agregar leyenda en el lado izquierdo\n",
    "    legend(\"topleft\", \n",
    "    legend = c(\"Primer Trimestre\", \"Tercer Trimestre\"), \n",
    "    fill = c(\"#FFD92F\", \"#FC8D62\"), \n",
    "    )\n",
    "\n",
    "    mediana_tercer <- round(median(datos_anio$NotasTercerT),2)\n",
    "    mediana_primer <- round(median(datos_anio$NotasPrimerT),2)\n",
    "    media_tercer <- round(mean(datos_anio$NotasTercerT),2)\n",
    "    media_primer <- round(mean(datos_anio$NotasPrimerT),2)\n",
    "    \n",
    "    # Agregar líneas verticales y etiquetas\n",
    "    abline(v = mediana_tercer, col = '#FC8D62',lwd = 6)\n",
    "    abline(v = mediana_primer, col = '#E78AC3',lwd = 6)\n",
    "    \n",
    "    abline(v = media_tercer, col = '#FF4040',lwd = 3, lty = 2)\n",
    "    abline(v = media_primer, col = '#0000FF',lwd = 3, lty = 2)\n",
    "\n",
    "    #leyenda de las medias\n",
    "    legend(\"bottomleft\", c(\"Media T1\", \"Media T3\"),\n",
    "       fill = c('#FF4040', '#0000FF'),\n",
    "       xpd = TRUE,\n",
    "       horiz = TRUE,\n",
    "       bty = \"n\",\n",
    "       inset = c(0, 0.75))\n",
    "\n",
    "    #leyenda de las medianas\n",
    "    legend(\"bottomleft\", c(\"Mediana T1\", \"Mediana T3\"),\n",
    "           fill = c('#E78AC3', '#FC8D62'),\n",
    "           xpd = TRUE,\n",
    "           horiz = TRUE,\n",
    "           bty = \"n\",\n",
    "           inset = c(0, 0.80))\n",
    "}"
   ]
  },
  {
   "cell_type": "code",
   "execution_count": null,
   "id": "72f3eee7-9d3f-44e7-a1ca-82a311a661db",
   "metadata": {
    "scrolled": true,
    "vscode": {
     "languageId": "r"
    }
   },
   "outputs": [],
   "source": [
    "#Verificamos si los promedios de los alumnos de lengua y Matematica siguen una distribucion normal\n",
    "primaria_matematica_lengua <- subset(Uruguay_Primaria, asignatura %in% c(\"MATEMATICA\", \"LENGUA\"))\n",
    "primaria_matematica_lengua <- na.omit(primaria_matematica_lengua)\n",
    "\n",
    "for (x in 1:6){\n",
    "    matematica <- filter(primaria_matematica_lengua, asignatura == \"MATEMATICA\" & Año_cursado==x)\n",
    "    lengua<- filter(primaria_matematica_lengua, asignatura ==\"LENGUA\" & Año_cursado==x)\n",
    "\n",
    "    suppressWarnings({\n",
    "    cat(\"TEST de normalidad, promedios MATEMATICA\",x,\"Grado\\n\")\n",
    "    aux<-ks.test(matematica$Promedio,\"pnorm\")\n",
    "    print(aux)\n",
    "\n",
    "    cat(\"TEST de normalidad, promedios LENGUA\",x,\"Grado\\n\")\n",
    "    aux2<-ks.test(lengua$Promedio,\"pnorm\")\n",
    "    print(aux2)\n",
    "        })\n",
    "    }\n",
    "#llegamos a la conclusion de que ninguno sigue una distribucion normal"
   ]
  },
  {
   "cell_type": "code",
   "execution_count": null,
   "id": "ada15f22-4473-40fa-aaa1-af92ef267650",
   "metadata": {
    "vscode": {
     "languageId": "r"
    }
   },
   "outputs": [],
   "source": [
    "# HIPOTESIS TEST LEVENE \n",
    "# Hipótesis nula (H0): Las varianzas de las notas de los estudiantes en Matemática y Lengua son iguales.\n",
    "# Hipótesis alternativa (H1): Las varianzas de las notas de los estudiantes en Matemática y Lengua no son iguales.\n",
    "\n",
    "# Test de Wilcoxon-Mann-Whitney para Matematica y Lengua\n",
    "#H0: Las distribuciones de las notas de los estudiantes en Matemática y Lengua son iguales.\n",
    "#H1: Las distribuciones de las notas de los estudiantes en Matemática y Lengua son diferentes.\n",
    "\n",
    "var_test_results <- list()\n",
    "wilcox_test_results <- list()\n",
    "\n",
    "# Realizar los tests para cada grado desde primero hasta sexto\n",
    "for (i in 1:6) {\n",
    "  datos_año <- subset(primaria_matematica_lengua, Año_cursado == i)\n",
    "  datos_año <- datos_año %>% distinct(Documento, .keep_all = TRUE)\n",
    "  \n",
    "  # Realizar el test de Levene para la comparación de varianzas\n",
    "  var_test_result <- var.test(datos_año$Promedio[datos_año$asignatura == \"MATEMATICA\"], datos_año$Promedio[datos_año$asignatura == \"LENGUA\"])\n",
    "  var_test_results[[i]] <- var_test_result\n",
    "  \n",
    "  # Realizar el test de Wilcoxon-Mann-Whitney para Matemática y Lengua\n",
    "  wilcox_test_result <- wilcox.test(datos_año$Promedio[datos_año$asignatura == \"MATEMATICA\"], datos_año$Promedio[datos_año$asignatura == \"LENGUA\"])\n",
    "  wilcox_test_results[[i]] <- wilcox_test_result # lo guardamos en una lista\n",
    "}\n",
    "\n",
    "# Imprimir los resultados de los tests\n",
    "for (i in 1:6) {\n",
    "  cat(\"Grado:\", i, \"\\n\")\n",
    "  cat(\"Resultado del test de Levene:\\n\")\n",
    "  print(var_test_results[[i]])\n",
    "  cat(\"Resultado del test de Wilcoxon-Mann-Whitney:\\n\")\n",
    "  print(wilcox_test_results[[i]])\n",
    "}"
   ]
  },
  {
   "cell_type": "code",
   "execution_count": null,
   "id": "d8781032-0e98-4dd7-8e0a-ee229280a8f8",
   "metadata": {
    "vscode": {
     "languageId": "r"
    }
   },
   "outputs": [],
   "source": [
    "#plot(Primaria_por_dep$Primero)\n",
    "\n",
    "ggplot(Primaria_por_dep, aes(x = Sector, y = Todos, fill = X.c1.mbito)) +\n",
    "  geom_bar(stat = \"identity\", position = \"dodge\") +\n",
    "  labs(title = \"Cantidad de matriculados por sector y ámbito\") +\n",
    "  xlab(\"Sector\") + ylab(\"Cantidad de matriculados\") +\n",
    "  theme_minimal()\n",
    "\n",
    "#test de normalidad\n",
    "ks.test(Primaria_por_dep$Todos, \"pnorm\")\n",
    "ks.test(Primaria_por_dep$Primero, \"pnorm\")\n",
    "ks.test(Primaria_por_dep$Segundo, \"pnorm\")\n",
    "ks.test(Primaria_por_dep$Tercero, \"pnorm\")\n",
    "ks.test(Primaria_por_dep$Cuarto, \"pnorm\")\n",
    "ks.test(Primaria_por_dep$Quinto, \"pnorm\")\n",
    "ks.test(Primaria_por_dep$Sexto, \"pnorm\")"
   ]
  },
  {
   "cell_type": "code",
   "execution_count": null,
   "id": "d55726ac-ec10-4e33-ab59-4dd217bc8aeb",
   "metadata": {
    "vscode": {
     "languageId": "r"
    }
   },
   "outputs": [],
   "source": [
    "datos <- gather(Primaria_por_dep, key = \"Ciclo\", value = \"Conteo\", Primero:Sexto)\n",
    "\n",
    "datos <- datos %>% select(-Total.Segundo.Ciclo, -Todos, -Departamento, -X, -Sector, -Total.Primer.Ciclo, -X.c1.mbito)\n",
    "\n",
    "datos$Ciclo <- as.factor(datos$Ciclo)\n",
    "datos$Conteo <- as.numeric(datos$Conteo)\n",
    "datos\n",
    "#los datos no siguen una distribucion normal, no tomar en cuenta este test, es solo de visualizacion.\n",
    "modelo_anova <- aov(Conteo ~ Ciclo, data = datos)\n",
    "summary(modelo_anova)\n",
    "\n",
    "# Realizar el test post-hoc de Tukey\n",
    "TukeyHSD(modelo_anova)\n",
    "\n",
    "# Graficar los residuos\n",
    "qqnorm(modelo_anova$residuals)\n",
    "qqline(modelo_anova$residuals)\n",
    "\n",
    "# Realizar el test de Shapiro-Wilk para normalidad de los residuos\n",
    "shapiro.test(modelo_anova$residuals)\n",
    "\n",
    "# Homogeneidad de las Varianzas con el test de Levene\n",
    "leveneTest(Conteo ~ Ciclo, data = datos)\n",
    "\n",
    "# Calcular la potencia del ANOVA\n",
    "potencia <- pwr.anova.test(k = 6, n = 1731, f = 0.2, sig.level = 0.05)\n",
    "potencia"
   ]
  },
  {
   "cell_type": "code",
   "execution_count": null,
   "id": "21fbbd4f-5e6a-4bbe-ada0-3d0857709af9",
   "metadata": {
    "scrolled": true,
    "vscode": {
     "languageId": "r"
    }
   },
   "outputs": [],
   "source": [
    "# Transformar datos a formato largo\n",
    "datos <- gather(Primaria_por_dep, key = \"Ciclo\", value = \"Conteo\", Primero:Sexto)\n",
    "\n",
    "datos <- datos %>% select(-Total.Segundo.Ciclo, -Todos, -Departamento, -X, -Sector, -Total.Primer.Ciclo, -Ciclo)\n",
    "\n",
    "datos$X.c1.mbito <- as.factor(datos$X.c1.mbito)\n",
    "datos$Conteo <- as.numeric(datos$Conteo)\n",
    "\n",
    "datos\n",
    "#H0: Las medias de los conteos de estudiantes en los diferentes ambitos son iguales.\n",
    "#H1: Las medias de los conteos de estudiantes en los dif ambitos son distintos.\n",
    "\n",
    "print(\"test de anova (no tomar en cuenta)\")\n",
    "resultado_anova <- aov(Conteo ~ X.c1.mbito, data = datos)\n",
    "summary(resultado_anova)\n",
    "TukeyHSD(resultado_anova)\n",
    "#aunque no son datos normales, es solo para ver\n",
    "\n",
    "#TEST CORRESPONDIENTE\n",
    "cat(\"\\n\",\"TEST de Kruskal\")\n",
    "resultado_kruskal <- kruskal.test(Conteo ~ X.c1.mbito, data = datos) # p-value = 3.15e-06 | RECHAZAMOS H0\n",
    "print(resultado_kruskal)"
   ]
  },
  {
   "cell_type": "code",
   "execution_count": null,
   "id": "80ae18c1-0635-449f-bc5e-df8167fec001",
   "metadata": {
    "vscode": {
     "languageId": "r"
    }
   },
   "outputs": [],
   "source": [
    "#Realizamos un test F (ANOVA). Sin embargo es solo para visualizar ya que los datos no cumplen con los requisitos para aplicar este test\n",
    "\n",
    "filter_mate <- filter(Uruguay_Primaria_sin_epac, asignatura ==\"MATEMATICA\")\n",
    "\n",
    "# H0: Las distribuciones de los promedios de Matematica son iguales para los diferentes turnos.\n",
    "# H1: Al menos una de las distribuciones de los promedios de Matematica es diferente entre los turnos.\n",
    "print(\"Solo visualizacion, no tomar en cuenta\")\n",
    "resultado_anova <- aov(Promedio ~ Turno, data = filter_mate)\n",
    "summary(resultado_anova)\n",
    "\n",
    "#Realizamos el test correspondiente para estos datos.\n",
    "kruskal_matematica <- kruskal.test(Promedio ~ Turno, data = filter_mate)\n",
    "print(kruskal_matematica)"
   ]
  },
  {
   "cell_type": "code",
   "execution_count": null,
   "id": "4b1c5879-5d11-456e-8e0c-9d2073398df2",
   "metadata": {
    "scrolled": true,
    "vscode": {
     "languageId": "r"
    }
   },
   "outputs": [],
   "source": [
    "#Realizamos un test F (ANOVA). Sin embargo es solo para visualizar ya que los datos no cumplen con los requisitos para aplicar este test\n",
    "for (x in 1:6){\n",
    "filter_mate <- filter(Uruguay_Primaria_sin_epac, asignatura ==\"MATEMATICA\", Año_cursado== x)\n",
    "\n",
    "   #hipotesis para anova\n",
    "#H0: Las medias de los promedios de Matemática son iguales para los diferentes turnos.\n",
    "#H1: Al menos una de las medias de los promedios de Matemática es diferente entre los turnos.\n",
    "print(\"Solo visualizacion, no tomar en cuenta\")\n",
    "    cat(\"Grado:\", x, \"\\n\")\n",
    "resultado_anova <- aov(Promedio ~ Turno, data = filter_mate)\n",
    "aux<-summary(resultado_anova)\n",
    "    print(aux)\n",
    "\n",
    "  #hipotesis para kruskal\n",
    "#H0: Las distribuciones de los promedios de Matemática son iguales para los diferentes turnos\n",
    "#H1: Al menos una de las distribuciones de los promedios de Matemática es diferente entre los turnos\n",
    " # Test de Kruskal-Wallis (test correspondiente)\n",
    "cat(\"\\nTest de Kruskal-Wallis (test correspondiente)\\n\")\n",
    "kruskal_matematica <- kruskal.test(Promedio ~ Turno, data = filter_mate)\n",
    "print(kruskal_matematica)\n",
    "    }"
   ]
  },
  {
   "cell_type": "code",
   "execution_count": null,
   "id": "07035277-2344-4990-aff9-4bb55026107b",
   "metadata": {
    "scrolled": true,
    "vscode": {
     "languageId": "r"
    }
   },
   "outputs": [],
   "source": [
    "#Realizamos un test F (ANOVA). Sin embargo es solo para visualizar ya que los datos no cumplen con los requisitos para aplicar este test\n",
    "for (x in 1:6){\n",
    "filter_leng <- filter(Uruguay_Primaria_sin_epac, asignatura ==\"LENGUA\", Año_cursado== x)\n",
    "\n",
    "   #hipotesis para anova\n",
    "#H0: Las medias de los promedios de Lengua son iguales para los diferentes turnos.\n",
    "#H1: Al menos una de las medias de los promedios de Lengua es diferente entre los turnos.\n",
    "print(\"Solo visualizacion, no tomar en cuenta\")\n",
    "    cat(\"Grado:\", x, \"\\n\")\n",
    "resultado_anova <- aov(Promedio ~ Turno, data = filter_leng)\n",
    "aux<-summary(resultado_anova)\n",
    "    print(aux)\n",
    "\n",
    "  #hipotesis para kruskal\n",
    "#H0: Las distribuciones de los promedios de Lengua son iguales para los diferentes turnos\n",
    "#H1: Al menos una de las distribuciones de los promedios de Lengua es diferente entre los turnos\n",
    " # Test de Kruskal-Wallis (test correspondiente)\n",
    "cat(\"\\nTest de Kruskal-Wallis (test correspondiente)\\n\")\n",
    "kruskal_matematica <- kruskal.test(Promedio ~ Turno, data = filter_leng)\n",
    "print(kruskal_matematica)\n",
    "    }"
   ]
  },
  {
   "cell_type": "code",
   "execution_count": null,
   "id": "075cded0-7a21-49d6-96f2-929981081312",
   "metadata": {
    "scrolled": true,
    "vscode": {
     "languageId": "r"
    }
   },
   "outputs": [],
   "source": [
    "# Filtrar el conjunto de datos para el sexto grado y las asignaturas especificadas\n",
    "sexto_anio <- filter(Uruguay_Primaria, (asignatura == \"LENGUA\" | asignatura== \"MATEMATICA\" \n",
    "                                         | asignatura ==\"CIENCIAS SOCIALES\" | asignatura == \"CIENCIAS NATURALES\") & Año_cursado== 6)\n",
    "\n",
    "# guardamos los dni de los estudiantes que realizaron las 4 materias\n",
    "documentos_completos <- sexto_anio %>%\n",
    "  group_by(Documento) %>%\n",
    "  filter(n_distinct(asignatura) == 4) %>%\n",
    "  distinct(Documento)\n",
    "\n",
    "# Filtrar el dataset original para obtener solo los registros de los alumnos que realizan las 4 asignaturas\n",
    "sexto_anio_completo <- Uruguay_Primaria %>% filter(Documento %in% documentos_completos$Documento)\n",
    "\n",
    "aux <- filter(sexto_anio_completo, (asignatura == \"LENGUA\" | asignatura== \"MATEMATICA\" \n",
    "                                         | asignatura ==\"CIENCIAS SOCIALES\" | asignatura == \"CIENCIAS NATURALES\") & Año_cursado== 6)\n",
    "head(aux)\n",
    "\n",
    "#ordenamos los datos\n",
    "promedios_alumnos <- aux %>%\n",
    "  select(Documento, asignatura, Promedio) %>%\n",
    "  spread(key = asignatura, value = Promedio)\n",
    "\n",
    "# Mostrar el dataset con los promedios\n",
    "head(promedios_alumnos,15)\n",
    "\n",
    "#eliminamos las filas que tienen valores faltantes:\n",
    "promedios_alumnos_clean <- promedios_alumnos %>%\n",
    "  drop_na()\n",
    "head(promedios_alumnos_clean,15)"
   ]
  },
  {
   "cell_type": "code",
   "execution_count": null,
   "id": "dbd043a8-161d-48af-ac5d-fb7729c7e4cf",
   "metadata": {
    "vscode": {
     "languageId": "r"
    }
   },
   "outputs": [],
   "source": [
    "#cambiamos los nombres de las variables que tienen espacios\n",
    "names(promedios_alumnos_clean) <- make.names(names(promedios_alumnos_clean)) \n",
    "head(promedios_alumnos_clean,2)"
   ]
  },
  {
   "cell_type": "code",
   "execution_count": null,
   "id": "1dcdb31e-8c59-43ca-acc4-016f9bb295f1",
   "metadata": {
    "scrolled": true,
    "vscode": {
     "languageId": "r"
    }
   },
   "outputs": [],
   "source": [
    "#No tomar en cuenta, los datos no cumplen con los requisitos requeridos. Solo es para visualizacion.\n",
    "# Creación de datos\n",
    "set.seed(123)\n",
    "\n",
    "# Realización del ANCOVA\n",
    "modelo <- lm(CIENCIAS.SOCIALES ~ CIENCIAS.NATURALES + LENGUA + MATEMATICA, data = promedios_alumnos_clean)\n",
    "summary(modelo)\n",
    "\n",
    "# Residuos del modelo\n",
    "residuos <- residuals(modelo)\n",
    "\n",
    "# Prueba de Shapiro-Wilk para la normalidad de los residuos\n",
    "shapiro.test(residuos)\n",
    "\n",
    "# Calcular los VIF para cada covariable en el modelo\n",
    "vif(modelo)\n",
    "#Si alguno de los VIF es mayor que 10, indicaría la presencia de colinealidad entre las covariables correspondientes en el modelo. \n",
    "\n",
    "# Gráfico de dispersión de los residuos vs. cada covariable \n",
    "\n",
    "#Idealmente, los residuos deberían distribuirse alrededor de cero de manera aleatoria,\n",
    "#sin mostrar un patrón evidente en función de ninguna covariable. \n",
    "#Si los residuos muestran un patrón sistemático, podría indicar una violación del supuesto de homogeneidad de las varianzas.\n",
    "\n",
    "plot(residuos ~ CIENCIAS.NATURALES, data = promedios_alumnos_clean, xlab = \"CIENCIAS NATURALES\", ylab = \"Residuos\", main = \"Residuos vs CIENCIAS NATURALES\")\n",
    "abline(h = 0, col = \"red\")\n",
    "\n",
    "plot(residuos ~ LENGUA, data = promedios_alumnos_clean, xlab = \"LENGUA\", ylab = \"Residuos\", main = \"Residuos vs LENGUA\")\n",
    "abline(h = 0, col = \"blue\")\n",
    "\n",
    "plot(residuos ~ MATEMATICA, data = promedios_alumnos_clean, xlab = \"MATEMATICA\", ylab = \"Residuos\", main = \"Residuos vs MATEMATICA\")\n",
    "abline(h = 0, col = \"green\")"
   ]
  },
  {
   "cell_type": "code",
   "execution_count": null,
   "id": "7c9da217-52da-44e9-8d97-07c8151b787e",
   "metadata": {
    "scrolled": true,
    "vscode": {
     "languageId": "r"
    }
   },
   "outputs": [],
   "source": [
    "#No tomar en cuenta, los datos no cumplen con los requisitos requeridos. Solo es para visualizacion.\n",
    "Uruguay_Primaria$Cantidad_enpro <- ave(Uruguay_Primaria$Resultado == \"En proceso\", Uruguay_Primaria$Documento, FUN = sum)\n",
    "\n",
    "# Filtrar para el primer grado de Matemática\n",
    "datos_primer_anio_matematica <- filter(Uruguay_Primaria, asignatura == \"MATEMATICA\" & Año_cursado == 1)\n",
    "#head(datos_primer_anio_matematica)\n",
    "\n",
    "# test de MANOVA, no tomar en cuenta, solo visualizacion. (Los datos no cumplen los requisitos requeridos)\n",
    "modelo_manova <- manova(cbind(Cantidad_enpro, Promedio) ~ NotasTercerT, data = datos_primer_anio_matematica)\n",
    "summary(modelo_manova)\n",
    "\n",
    "mardia2<-function(datos_primer_anio_matematica){\n",
    "  n<-nrow(datos_primer_anio_matematica)\n",
    "  k<-ncol(datos_primer_anio_matematica)\n",
    "\n",
    "  x<-as.matrix(datos_primer_anio_matematica)\n",
    "  media<-colMeans(datos_primer_anio_matematica)\n",
    "  matriz.media<-matrix(media,nrow=n,ncol=k,byrow=TRUE)\n",
    "\n",
    "  S<-cov(datos_primer_anio_matematica)*(n-1)/n\n",
    "  SI<-solve(S)   #Inversa de la matriz de covarianzas\n",
    "\n",
    "  distm<-((x-matriz.media)%*%SI)%*%t((x-matriz.media))\n",
    "\n",
    "  gl<-k*(k+1)*(k+2)/6\n",
    "\n",
    "  # Medida de Asimetría Multivariada\n",
    "  AM<-sum(distm^3)/n^2\n",
    "\n",
    "  if (n<30){\n",
    "  # Test Multivariado de Asimetría de Mardia - Muestras Pequeñas\n",
    "  c<-(n+1)*(n+3)*(k+1)/(n*((n+1)*(k+1)-6))\n",
    "  TAM<-n*c/6*AM\n",
    "  valor_p1<-pchisq(TAM,gl,lower.tail = FALSE)\n",
    "  } else {\n",
    "    # Test Multivariado de Asimetríıa de Mardia - Muestras grandes\n",
    "  TAM<-n/6*AM\n",
    "  valor_p1<-pchisq(TAM,gl,lower.tail = FALSE)\n",
    "  }\n",
    "  #Medida de Kurtosis Multivariado\n",
    "  KM<-sum((diag(distm))^2)/n\n",
    "\n",
    "  #Test Multivariado de Kurtosis de Mardia\n",
    "  TKM<-(KM-k*(k+2))*sqrt(n/(8*k*(k+2)))\n",
    "  TKM2<-TKM^2\n",
    "  valor_p2<-pchisq(TKM2,1,lower.tail = FALSE)\n",
    "\n",
    "  cat(\"Test de Normalidad Multivariada\", \"\\n\" ,\n",
    "      \"Ho: Los datos siguen una Distribución Normal Multivariada\",\"\\n\")\n",
    "  cat(\"----------------------------------------------------------------\",\"\\n\")\n",
    "  cat(\"Prueba de Mardia - Asimetría\",\"\\n\",\n",
    "      \"Asimetría Multivariada =\", AM, \"\\n\",\n",
    "      \"Valor de TAM =\",TAM, \"\\n\",\n",
    "      \"Valor p=\", valor_p1, \"\\n\")\n",
    "  cat(\"----------------------------------------------------------------\",\"\\n\")\n",
    "  cat(\"Prueba de Mardia - Curtosis\",\"\\n\",\n",
    "      \"Curtosis Multivariado =\", KM, \"\\n\",\n",
    "      \"Valor de TKM =\",TKM2, \"\\n\",\n",
    "      \"Valor p=\", valor_p2, \"\\n\")\n",
    "     }\n",
    "\n",
    "residuos <- residuals(modelo_manova)\n",
    "mardia2(residuos)\n",
    "\n",
    "# Prueba de homogeneidad de las varianzas-covarianzas\n",
    "mauchly_test <- mauchly.test(modelo_manova)\n",
    "mauchly_test"
   ]
  },
  {
   "cell_type": "code",
   "execution_count": null,
   "id": "6566281e-ebfb-4093-b9b6-e63231c66c44",
   "metadata": {
    "scrolled": true,
    "vscode": {
     "languageId": "r"
    }
   },
   "outputs": [],
   "source": [
    "#ANOVA DE DOS FACTORES REPETIDOS\n",
    "\n",
    "#H0: Las medias de las notas de Matematica en los tres trimestres de los alumnos de primer grado del turno completo son iguales.\n",
    "#H1: Al menos una de las medias de las notas de Matematica en los tres trimestres de los alumnos de primer grado del turno completo es diferente.\n",
    "\n",
    "primaria_filtrado <- Uruguay_Primaria_sin_epac %>%\n",
    "  filter(Año_cursado == 1 & asignatura == \"MATEMATICA\" & Turno == \"COMPLETO\")\n",
    "# Seleccionar y convertir las columnas necesarias\n",
    "primaria_DOS_FACTORES <- primaria_filtrado %>%\n",
    "  dplyr::select(Documento, NotasPrimerT, NotasSegundoT, NotasTercerT) %>%\n",
    "  mutate(Documento = as.integer(Documento),\n",
    "         NotasPrimerT = as.double(NotasPrimerT),\n",
    "         NotasSegundoT = as.double(NotasSegundoT),\n",
    "         NotasTercerT = as.double(NotasTercerT)) %>%\n",
    "  distinct()\n",
    "\n",
    "# Verificar los primeros registros para confirmar los cambios\n",
    "primaria_DOS_FACTORES\n",
    "\n",
    "# Convertir los datos a formato largo\n",
    "datos_trimestres <- melt(primaria_DOS_FACTORES, id.vars = \"Documento\", variable.name = \"Trimestres\", value.name = \"Notas\")\n",
    "\n",
    "# Realizar el ANOVA de medidas repetidas\n",
    "\n",
    "modelo_anova <- aov(Notas ~ Trimestres + Error(Documento/Trimestres), data = datos_trimestres )\n",
    "\n",
    "# Cambiar el tipo de modelo a lm\n",
    "modelo_lm <- lm(modelo_anova)\n",
    "\n",
    "# Calcular Anova con el modelo lm\n",
    "anova_result <- Anova(modelo_lm, type = \"III\")\n",
    "print(anova_result)\n",
    "\n",
    "#Supuestos\n",
    "\n",
    "# Prueba de normalidad de los residuos\n",
    "shapiro.test(residuals(modelo_lm))\n",
    "\n",
    "# Prueba de homogeneidad de varianzas (Levene's Test)\n",
    "#leveneTest(residuals(modelo_lm) ~ datos_trimestres$Trimestres)\n",
    "\n",
    "# Prueba de homogeneidad de varianzas usando var.test por pares\n",
    "var_test_result_1_2 <- var.test(Notas ~ Trimestres, data = subset(datos_trimestres, Trimestres %in% c(\"NotasPrimerT\", \"NotasSegundoT\")))\n",
    "var_test_result_1_3 <- var.test(Notas ~ Trimestres, data = subset(datos_trimestres, Trimestres %in% c(\"NotasPrimerT\", \"NotasTercerT\")))\n",
    "var_test_result_2_3 <- var.test(Notas ~ Trimestres, data = subset(datos_trimestres, Trimestres %in% c(\"NotasSegundoT\", \"NotasTercerT\")))\n",
    "\n",
    "print(var_test_result_1_2)\n",
    "print(var_test_result_1_3)\n",
    "print(var_test_result_2_3)\n",
    "# Prueba de linealidad (no se proporciona un test específico en R, pero se puede verificar visualmente)\n",
    "plot(modelo_lm, which = 1)\n",
    "\n",
    "\n",
    "# Calcular la potencia del ANOVA\n",
    "potencia_anova <- pwr.anova.test(k = 3, n = 20, sig.level = 0.05, f = 0.25)$power\n",
    "\n",
    "print(\"potencia_anova\")\n",
    "potencia_anova\n"
   ]
  },
  {
   "cell_type": "code",
   "execution_count": null,
   "id": "bdb275be-7b51-43d9-a656-0ddf627a10b9",
   "metadata": {
    "vscode": {
     "languageId": "r"
    }
   },
   "outputs": [],
   "source": [
    "#ANOVA DE DOS FACTORES REPETIDOS\n",
    "\n",
    "#H0: Las medias de las notas de Matematica en los tres trimestres de los alumnos de segundo grado del turno completo son iguales.\n",
    "#H1: Al menos una de las medias de las notas de Matematica en los tres trimestres de los alumnos de segundo grado del turno completo es diferente.\n",
    "\n",
    "primaria_filtrado <- Uruguay_Primaria_sin_epac %>%\n",
    "  filter(Año_cursado == 2 & asignatura == \"MATEMATICA\" & Turno == \"COMPLETO\")\n",
    "# Seleccionar y convertir las columnas necesarias\n",
    "primaria_DOS_FACTORES <- primaria_filtrado %>%\n",
    "  dplyr::select(Documento, NotasPrimerT, NotasSegundoT, NotasTercerT) %>%\n",
    "  mutate(Documento = as.integer(Documento),\n",
    "         NotasPrimerT = as.double(NotasPrimerT),\n",
    "         NotasSegundoT = as.double(NotasSegundoT),\n",
    "         NotasTercerT = as.double(NotasTercerT)) %>%\n",
    "  distinct()\n",
    "\n",
    "# Verificar los primeros registros para confirmar los cambios\n",
    "primaria_DOS_FACTORES\n",
    "\n",
    "# Convertir los datos a formato largo\n",
    "datos_trimestres <- melt(primaria_DOS_FACTORES, id.vars = \"Documento\", variable.name = \"Trimestres\", value.name = \"Notas\")\n",
    "\n",
    "# Realizar el ANOVA de medidas repetidas\n",
    "\n",
    "modelo_anova <- aov(Notas ~ Trimestres + Error(Documento/Trimestres), data = datos_trimestres )\n",
    "\n",
    "# Cambiar el tipo de modelo a lm\n",
    "modelo_lm <- lm(modelo_anova)\n",
    "\n",
    "# Calcular Anova con el modelo lm\n",
    "anova_result <- Anova(modelo_lm, type = \"III\")\n",
    "print(anova_result)\n",
    "\n",
    "#Supuestos\n",
    "\n",
    "# Prueba de normalidad de los residuos\n",
    "shapiro.test(residuals(modelo_lm))\n",
    "\n",
    "# Prueba de homogeneidad de varianzas (Levene's Test)\n",
    "#leveneTest(residuals(modelo_lm) ~ datos_trimestres$Trimestres)\n",
    "\n",
    "# Prueba de homogeneidad de varianzas usando var.test por pares\n",
    "var_test_result_1_2 <- var.test(Notas ~ Trimestres, data = subset(datos_trimestres, Trimestres %in% c(\"NotasPrimerT\", \"NotasSegundoT\")))\n",
    "var_test_result_1_3 <- var.test(Notas ~ Trimestres, data = subset(datos_trimestres, Trimestres %in% c(\"NotasPrimerT\", \"NotasTercerT\")))\n",
    "var_test_result_2_3 <- var.test(Notas ~ Trimestres, data = subset(datos_trimestres, Trimestres %in% c(\"NotasSegundoT\", \"NotasTercerT\")))\n",
    "\n",
    "print(var_test_result_1_2)\n",
    "print(var_test_result_1_3)\n",
    "print(var_test_result_2_3)\n",
    "# Prueba de linealidad (no se proporciona un test específico en R, pero se puede verificar visualmente)\n",
    "plot(modelo_lm, which = 1)\n",
    "\n",
    "\n",
    "# Calcular la potencia del ANOVA\n",
    "potencia_anova <- pwr.anova.test(k = 3, n = 20, sig.level = 0.05, f = 0.25)$power\n",
    "\n",
    "print(\"potencia_anova\")\n",
    "potencia_anova"
   ]
  },
  {
   "cell_type": "code",
   "execution_count": null,
   "id": "3d43e2b5-26bf-4896-be42-27f3c74782bc",
   "metadata": {
    "vscode": {
     "languageId": "r"
    }
   },
   "outputs": [],
   "source": [
    "#H0: Las medianas de las notas de los estudiantes en escuelas privadas y públicas son iguales.\n",
    "#H1: Las medianas de las notas de los estudiantes en escuelas privadas y públicas son diferentes.\n",
    "\n",
    "# Filtrar los datos para obtener solo los estudiantes únicos por Documento\n",
    "datos_unicos <- Uruguay_Primaria_sin_epac %>% distinct(Documento, .keep_all = TRUE)\n",
    "\n",
    "# Lista para almacenar los resultados de los tests\n",
    "ks_test_results <- list()\n",
    "var_test_results <- list()\n",
    "wilcox_test_results <- list()\n",
    "\n",
    "for (i in 1:6) {\n",
    "  datos_anio <- subset(datos_unicos, Año_cursado == i)\n",
    "  \n",
    "  # Separar los datos por si son de escuela privada o pública\n",
    "  datos_privada <- subset(datos_anio, EsPrivada == \"S\")\n",
    "  datos_publica <- subset(datos_anio, EsPrivada == \"N\")\n",
    "  \n",
    "  #Test de Kolmogorov-Smirnov\n",
    "  ks_test_result <- suppressWarnings(ks.test(datos_privada$Promedio, datos_publica$Promedio))\n",
    "  \n",
    "  #Test de varianza\n",
    "  var_test_result <- var.test(datos_privada$Promedio, datos_publica$Promedio)\n",
    "  \n",
    "  #Test de Wilcoxon-Mann-Whitney\n",
    "  wilcox_test_result <- wilcox.test(datos_privada$Promedio, datos_publica$Promedio)\n",
    "  \n",
    "  # Guardar los resultados en las listas\n",
    "  ks_test_results[[i]] <- ks_test_result\n",
    "  var_test_results[[i]] <- var_test_result\n",
    "  wilcox_test_results[[i]] <- wilcox_test_result\n",
    "}\n",
    "\n",
    "# Mostrar los resultados\n",
    "for (i in 1:6) {\n",
    "  cat(\"Año:\", i, \"\\n\")\n",
    "  cat(\"Resultado del test de Kolmogorov-Smirnov:\\n\")\n",
    "  print(ks_test_results[[i]])\n",
    "  cat(\"\\n\")\n",
    "  cat(\"Resultado del test de varianza:\\n\")\n",
    "  print(var_test_results[[i]])\n",
    "  cat(\"\\n\")\n",
    "  cat(\"Resultado del test de Wilcoxon-Mann-Whitney:\\n\")\n",
    "  print(wilcox_test_results[[i]])\n",
    "  cat(\"\\n\")\n",
    "}"
   ]
  },
  {
   "cell_type": "code",
   "execution_count": null,
   "id": "6ece9c08-1a7a-4a2d-94b6-3dcb34aca32e",
   "metadata": {
    "vscode": {
     "languageId": "r"
    }
   },
   "outputs": [],
   "source": [
    "#TEST DE FRIEDMAN\n",
    "#H0: No hay diferencias significativas en las medianas de los promedios de las tres materias para el turno mañana en primer grado\n",
    "#H1:Al menos una de las medianas de los promedios de las tres materias es significativamente diferente para el turno mañana en primer grado\n",
    "\n",
    "alumnos_mana <- Uruguay_Primaria_sin_epac %>%\n",
    "  filter(Turno == \"MAÑANA\") %>%\n",
    "  dplyr::select(Documento) %>%\n",
    "  distinct()\n",
    "\n",
    "primer_ano <- Uruguay_Primaria_sin_epac %>%\n",
    "  filter(Año_cursado == 1 & asignatura %in% c(\"MATEMATICA\", \"LENGUA\", \"CIENCIAS SOCIALES\") & Turno == \"MAÑANA\")\n",
    "\n",
    "# Identificar los documentos de los alumnos que realizan las 3 asignaturas\n",
    "documentos_completos <- primer_ano %>%\n",
    "  group_by(Documento) %>%\n",
    "  filter(n_distinct(asignatura) == 3) %>%\n",
    "  distinct(Documento)\n",
    "\n",
    "# Filtrar el dataset original para obtener solo los registros de los alumnos que realizan las 3 asignaturas en la modalidad Agrotécnica\n",
    "primer_ano_completo <- Uruguay_Primaria_sin_epac %>%\n",
    "  filter(Año_cursado == 1 & Documento %in% documentos_completos$Documento & asignatura %in% c(\"MATEMATICA\", \"LENGUA\", \"CIENCIAS SOCIALES\") & Turno == \"MAÑANA\")\n",
    "\n",
    "# Seleccionar las columnas relevantes y reorganizar los datos al formato ancho\n",
    "promedios_alumnos <- primer_ano_completo %>%\n",
    "  dplyr::select(Documento, asignatura, Promedio) %>%\n",
    "  pivot_wider(names_from = asignatura, values_from = Promedio)\n",
    "\n",
    "promedios_alumnos <- promedios_alumnos %>% rename_with(make.names)\n",
    "\n",
    "promedios_alumnos"
   ]
  },
  {
   "cell_type": "code",
   "execution_count": null,
   "id": "e130d7b1-0720-4f35-ac0e-d8430fc90951",
   "metadata": {
    "vscode": {
     "languageId": "r"
    }
   },
   "outputs": [],
   "source": [
    "#test de friedman\n",
    "# Extraer los vectores para cada materia\n",
    "CIENCIAS.SOCIALES <- promedios_alumnos$CIENCIAS.SOCIALES\n",
    "LENGUA <- promedios_alumnos$LENGUA\n",
    "MATEMATICA <- promedios_alumnos$MATEMATICA\n",
    "\n",
    "# Crear los vectores concatenados de promedios y materias\n",
    "promedios <- as.numeric(c(CIENCIAS.SOCIALES, LENGUA, MATEMATICA))\n",
    "materias <- as.factor(c(rep(\"CIENCIAS.SOCIALES\", length(CIENCIAS.SOCIALES)), \n",
    "                        rep(\"LENGUA\", length(LENGUA)), \n",
    "                        rep(\"MATEMATICA\", length(MATEMATICA))))\n",
    "\n",
    "# Verificar la longitud de los vectores\n",
    "length(promedios)\n",
    "length(materias)\n",
    "\n",
    "# Asegurar que el vector 'rendimiento' tenga la longitud correcta3\n",
    "alumno <- rep(1:length(CIENCIAS.SOCIALES), 3)\n",
    "\n",
    "# Crear el data frame\n",
    "datos <- data.frame(alumno, promedios, materias)\n",
    "\n",
    "# Mostrar los primeros registros del data frame\n",
    "datos\n",
    "\n",
    "by(data = datos$promedios, INDICES = datos$materias, FUN = median)\n",
    "\n",
    "friedman.test(promedios ~ materias| alumno, data=datos)\n",
    "\n",
    "n <- nrow(datos) / 3\n",
    "# Realizar un análisis de varianza (ANOVA) en rangos\n",
    "friedman_anova <- pwr.anova.test(k = 3, # Número de grupos\n",
    "                                 n = n, \n",
    "                                 f = 0.25, # Tamaño del efecto F\n",
    "                                 sig.level = 0.05) # Nivel de significancia\n",
    "\n",
    "# Extraer la potencia del resultado del análisis de varianza\n",
    "potencia <- friedman_anova$power\n",
    "\n",
    "potencia"
   ]
  },
  {
   "cell_type": "code",
   "execution_count": null,
   "id": "88b67092-2ddd-4ec1-a74b-c019f3198038",
   "metadata": {
    "vscode": {
     "languageId": "r"
    }
   },
   "outputs": [],
   "source": [
    "conteo_materias <- table(datos$materias)\n",
    "conteo_materias"
   ]
  },
  {
   "cell_type": "code",
   "execution_count": null,
   "id": "b18ff0da-c2dc-458d-ae04-30d76ab26b22",
   "metadata": {
    "vscode": {
     "languageId": "r"
    }
   },
   "outputs": [],
   "source": [
    "#TEST DE COCHRAN \n",
    "#H0: Las proporciones de las notas en Matemática de los alumnos de primer grado de la escuela de al menos 8 estudiantes son iguales en todos los trimestres.\n",
    "#H1: Por lo menos una de las proporciones de las notas en matemática de los alumnos de primer grado de la escuela de al menos 8 estudiantes es diferente en alguno de los trimestres\n",
    "\n",
    "primer_grado <- filter(Uruguay_Primaria, Año_cursado== 1)\n",
    "\n",
    "# Identificar una escuela que tenga al menos 10 estudiantes de Matematica\n",
    "escuela_min_10_estudiantes <- primer_grado %>%\n",
    "  filter(asignatura == \"MATEMATICA\") %>%\n",
    "  count(CUE) %>%\n",
    "  filter(n >= 10) %>%\n",
    "  slice(1)  # agarramos la primera fila que cumple con la condicion\n",
    "\n",
    "# Filtrar el dataset principal\n",
    "Primaria_filtro <- primer_grado %>%\n",
    "  filter(CUE %in% escuela_min_10_estudiantes$CUE,      \n",
    "         asignatura == \"MATEMATICA\") %>%  # Solo estudiantes que cursan Matematica\n",
    "  mutate(Resultado = ifelse(Resultado == \"Aprobado\", 1, \n",
    "                            ifelse(Resultado == \"En proceso\", 0, Resultado))) #pasamos a dicotomico 1 o 0\n",
    "\n",
    "head(Primaria_filtro)\n",
    "\n",
    "# Contar cuántos documentos de alumnos cumplen con el criterio\n",
    "num_documentos <- nrow(Primaria_filtro)\n",
    "\n",
    "# Mostrar el resultado\n",
    "print(paste(\"Número de documentos de alumnos que cumplen con el criterio:\", num_documentos))\n",
    "\n",
    "# Filtrar las columnas Documento, NotasPrimerT, NotasSegundoT, NotasTercerT y Resultado, y eliminar duplicados\n",
    "Primaria_filtrado_coch <- Primaria_filtro %>%\n",
    "  dplyr::select(Documento, NotasPrimerT, NotasSegundoT, NotasTercerT, Resultado) %>%\n",
    "  distinct() %>%\n",
    "  mutate(Documento = as.integer(Documento),\n",
    "    Resultado = as.double(Resultado))\n",
    "\n",
    "Primaria_filtrado_coch <- Primaria_filtrado_coch %>%\n",
    "  mutate(\n",
    "    NotasPrimerT = case_when(\n",
    "      NotasPrimerT == \"EPAC\" ~ 0,\n",
    "      NotasPrimerT >= 6 ~ 1,\n",
    "      NotasPrimerT == \"10\" ~ 1),\n",
    "    NotasSegundoT = case_when(\n",
    "      NotasSegundoT == \"EPAC\" ~ 0,\n",
    "      NotasSegundoT >= 6 ~ 1,\n",
    "      NotasSegundoT == \"10\" ~ 1),\n",
    "    NotasTercerT = case_when(\n",
    "      NotasTercerT == \"EPAC\" ~ 0,\n",
    "      NotasTercerT >= 6 ~ 1,\n",
    "      NotasTercerT == \"10\" ~ 1)\n",
    "  )\n",
    "\n",
    "# Verificar los primeros registros para confirmar los cambios\n",
    "Primaria_filtrado_coch"
   ]
  },
  {
   "cell_type": "code",
   "execution_count": null,
   "id": "3c2cc336-64d5-4f62-8bee-13b06d55618f",
   "metadata": {
    "vscode": {
     "languageId": "r"
    }
   },
   "outputs": [],
   "source": [
    "T1 <- Primaria_filtrado_coch$NotasPrimerT\n",
    "T2 <- Primaria_filtrado_coch$NotasSegundoT\n",
    "T3 <- Primaria_filtrado_coch$NotasTercerT\n",
    "\n",
    "trimestres= as.numeric(c(T1,T2,T3))\n",
    "resultado <- as.factor(c(rep(\"T1\",length(T1)), rep(\"T2\",length(T2)),rep(\"T3\",length(T3))))\n",
    "\n",
    "# Crear el marco de datos para el test de Cochran\n",
    "PUNTAJES <- data.frame(\n",
    "  escuelas = rep(1:length(T1), 3),\n",
    "  resultado = resultado,\n",
    "  trimestres = trimestres\n",
    ")\n",
    "\n",
    "PUNTAJES\n",
    "# Realizar el test de Cochran\n",
    "resultado_test <- CochranQTest(trimestres ~ resultado | escuelas, data = PUNTAJES)\n",
    "resultado_test\n",
    "\n",
    "# Definir los parámetros del test\n",
    "k <- 3  # Número de grupos\n",
    "alpha <- 0.05  # Nivel de significancia\n",
    "\n",
    "# Obtener el valor crítico para el nivel de significancia dado\n",
    "q_alpha <- qchisq(1 - alpha, df = k - 1)\n",
    "\n",
    "# Calcular la potencia\n",
    "potencia <- 1 - pchisq(q_alpha, df = k - 1, ncp = 0, lower.tail = FALSE)\n",
    "\n",
    "potencia"
   ]
  },
  {
   "cell_type": "code",
   "execution_count": null,
   "id": "92fbbfa8-10d3-441f-b9ff-fd5ccf5ce4ce",
   "metadata": {
    "vscode": {
     "languageId": "r"
    }
   },
   "outputs": [],
   "source": [
    "#Armo los condicionales para hacer la columna desempenio\n",
    "\n",
    "Uruguay_Primaria <- Uruguay_Primaria %>%\n",
    "  mutate(Desempenio = case_when(\n",
    "    Promedio < 7 ~ \"aprobado\",\n",
    "    Promedio >= 7 & Promedio < 8 ~ \"bueno\",\n",
    "    Promedio >= 8 & Promedio < 9 ~ \"muy bueno\",\n",
    "    Promedio >= 9 ~ \"distinguido\",\n",
    "    is.na(Promedio) & NotasPrimerT == \"EPAC\" & NotasSegundoT == \"EPAC\" & NotasTercerT == \"EPAC\" ~ \"insuficiente\",\n",
    "    is.na(Promedio) & NotasTercerT == \"EPAC\" ~ \"regular\",\n",
    "    is.na(Promedio) & rowSums(cbind(NotasPrimerT, NotasSegundoT, NotasTercerT) == \"EPAC\") == 2 ~ \"regular\",\n",
    "    is.na(Promedio) & rowSums(cbind(NotasPrimerT, NotasSegundoT, NotasTercerT) == \"EPAC\") == 1 & NotasTercerT != \"EPAC\" ~ \"aprobado\",\n",
    "  ))\n",
    "\n",
    "#ordenamos los valores de desempenio\n",
    "Uruguay_Primaria$Desempenio <- factor(Uruguay_Primaria$Desempenio, \n",
    "                                    levels = c(\"insuficiente\", \"regular\", \"aprobado\", \"bueno\", \"muy bueno\", \"distinguido\"))"
   ]
  },
  {
   "cell_type": "code",
   "execution_count": null,
   "id": "12e5ff89-66d3-4da3-acfc-9cf01bb78312",
   "metadata": {
    "vscode": {
     "languageId": "r"
    }
   },
   "outputs": [],
   "source": [
    "table(Uruguay_Primaria$Desempenio)"
   ]
  },
  {
   "cell_type": "markdown",
   "id": "fd64c170-381f-46ff-a3c7-54be87b4d773",
   "metadata": {},
   "source": [
    "Tablas de contingencia por turnos en Lengua de primer grado"
   ]
  },
  {
   "cell_type": "code",
   "execution_count": null,
   "id": "79f0b684-a3c9-45f6-9c84-6a679cd28d4f",
   "metadata": {
    "vscode": {
     "languageId": "r"
    }
   },
   "outputs": [],
   "source": [
    "primero_lengua <- filter(Uruguay_Primaria, Año_cursado== 1, asignatura== \"LENGUA\")\n",
    "primero_lengua <- subset(primero_lengua, Turno != \"ROTATIVO\" & Turno != \"COMPLETO\") #sacamos los turnos rotativo y completo\n",
    "                                                                                    #porque no cumple con tener minimo 5 \"muestras\" en cada celda\n",
    "tabla_contingencia_primero <- table(primero_lengua$Turno, primero_lengua$Desempenio)\n",
    "\n",
    "tabla_contingencia_primero"
   ]
  },
  {
   "cell_type": "code",
   "execution_count": null,
   "id": "34cbe618-712a-45ac-ba3f-7f2bab89b0c8",
   "metadata": {
    "vscode": {
     "languageId": "r"
    }
   },
   "outputs": [],
   "source": [
    "#Tuve que cambiar un poco las tablas por que antes no daban bien los numeros de Total\n",
    "#porcentaje total\n",
    "cat(\"\\n\",\"Porcentaje Total\",\"\\n\")\n",
    "porcentaje_total <- round(prop.table(tabla_contingencia_primero) * 100,1)\n",
    "porcentaje_total<-cbind(porcentaje_total,\"Total\"=margin.table(porcentaje_total, 1))\n",
    "porcentaje_total<-rbind(porcentaje_total,\"Total\"=margin.table(porcentaje_total, 2))\n",
    "print(porcentaje_total)\n",
    "\n",
    "#porcentaje por fila\n",
    "cat(\"\\n\",\"Porcentaje Fila\",\"\\n\")\n",
    "porcentaje_fila<-round(prop.table(rbind(tabla_contingencia_primero,\"Total\"=margin.table(tabla_contingencia_primero, 2)),1)*100,1)\n",
    "porcentaje_fila<-cbind(porcentaje_fila,\"Total\"=margin.table(porcentaje_fila, 1))\n",
    "print(porcentaje_fila)\n",
    "\n",
    "#porcentaje por columna\n",
    "cat(\"\\n\",\"Porcentaje Columna\", \"\\n\")\n",
    "porcentaje_columna<-round(prop.table(cbind(tabla_contingencia_primero,\"Total\"=margin.table(tabla_contingencia_primero, 1)),2)*100,1)\n",
    "porcentaje_columna<-rbind(porcentaje_columna,\"Total\"=margin.table(porcentaje_columna, 2))\n",
    "print(porcentaje_columna)"
   ]
  },
  {
   "cell_type": "code",
   "execution_count": null,
   "id": "83a5aa45-f0d5-4d04-9595-c64ac4491ccb",
   "metadata": {
    "vscode": {
     "languageId": "r"
    }
   },
   "outputs": [],
   "source": [
    "porcentaje_fila <- porcentaje_fila[rownames(porcentaje_fila) != \"Total\", ]\n",
    "porcentaje_fila <- porcentaje_fila[, colnames(porcentaje_fila) != \"Total\"]\n",
    "\n",
    "porcentaje_columna <- porcentaje_columna[rownames(porcentaje_columna) != \"Total\", ]\n",
    "porcentaje_columna <- porcentaje_columna[, colnames(porcentaje_columna) != \"Total\"]"
   ]
  },
  {
   "cell_type": "code",
   "execution_count": null,
   "id": "36cd04de-0cc7-46ba-af3e-ce91d5e2d2d8",
   "metadata": {
    "vscode": {
     "languageId": "r"
    }
   },
   "outputs": [],
   "source": [
    "#test de chi-cuadrado\n",
    "cat(\"\\n\",\"TEST de chi cuadrado\")\n",
    "resultado_chi <- chisq.test(tabla_contingencia_primero)\n",
    "resultado_chi\n",
    "\n",
    "#test de asosiacion cramerV\n",
    "cat(\"\\n\",\"test de cramerV\")\n",
    "CramerV(tabla_contingencia_primero)\n",
    "\n",
    "#tabla de valores esperados\n",
    "cat(\"\\n\",\"Valores esperados\")\n",
    "round(resultado_chi$expected,0)\n",
    "\n",
    "#residuos\n",
    "cat(\"\\n\",\"Residuos\")\n",
    "round(resultado_chi$residuals, 1)"
   ]
  },
  {
   "cell_type": "code",
   "execution_count": null,
   "id": "09502e45-cb36-4a89-89db-b99386c6405b",
   "metadata": {
    "vscode": {
     "languageId": "r"
    }
   },
   "outputs": [],
   "source": [
    "aux <- t(porcentaje_fila)"
   ]
  },
  {
   "cell_type": "code",
   "execution_count": null,
   "id": "fc5d9e25-998d-41ee-b1ce-d83f06322aaa",
   "metadata": {
    "vscode": {
     "languageId": "r"
    }
   },
   "outputs": [],
   "source": [
    "bpc<-barplot(aux,\n",
    "        main = \"Gráfico de Contigencia por Fila\",\n",
    "        beside = TRUE, # Barras agrupadas\n",
    "        space = c(0.1, 2.5), # Espacio primer elemento es el espacio entre barras de cada grupo (0.1) y el segundo el espacio entre grupos (2.5).\n",
    "        ylim = c(0,100),\n",
    "        cex.axis = 1.2, #tamaño etiquetas eje y\n",
    "        cex.names=1.5, #tamaño etiqueta eje x\n",
    "        cex.main=1.5, #tamaño título gráfico\n",
    "        col=c(\"darkblue\",\"green\", \"yellow\",\"#364972\",\"#6E1772\",\"#1E7230\"),\n",
    "        xlab = \"Turno\",\n",
    "        cex.lab=1.5, #tamaño  xlab ylab\n",
    "        ylab = \"Porcentaje\",\n",
    "       col.lab = \"blue\") # Color xlab ylab\n",
    "\n",
    "#leyenda\n",
    "legend(\"topright\", inset = c(0, 0), # Ajusta la posición de la leyenda\n",
    "       legend = rownames(aux),\n",
    "       title = \"Desempeño\", # Título\n",
    "       title.adj = 0.5,          # Ajuste horizontal del título\n",
    "       title.col = \"black\",       # Color del título\n",
    "       pch = 15,  # Cambia a cuadrados\n",
    "       col = c(\"darkblue\", \"green\", \"yellow\", \"#364972\", \"#6E1772\", \"#1E7230\"),\n",
    "       pt.cex = 2,  # Tamaño de los cuadrados\n",
    "       cex = 1.32)  # Cambiar el tamaño del texto\n",
    "\n",
    "# valores sobre barras\n",
    "TC <- aux\n",
    "text(bpc, TC+2.5,format(TC), cex=1.2)\n"
   ]
  },
  {
   "cell_type": "code",
   "execution_count": null,
   "id": "326e7452-e81c-47d3-bbbd-f0c3586bad88",
   "metadata": {
    "vscode": {
     "languageId": "r"
    }
   },
   "outputs": [],
   "source": [
    "df <- as.data.frame(as.table(porcentaje_columna))\n",
    "colnames(df) <- c(\"Var1\", \"Var2\", \"Freq\")\n",
    "\n",
    "ggplot(data=df,aes(x=Var2,y=Freq,fill=Var1))+\n",
    "  geom_bar(stat=\"identity\",colour=\"blue\")+\n",
    "    scale_fill_manual(name= \"Turnos\", values=c(\"#5F9EA0\",\"#1C7202\"))+\n",
    "   geom_text(aes(label=Freq),position=position_stack(vjust=0.41),size = 4, color = \"red\")+\n",
    "  xlab(\"Desempeño\")+\n",
    "  ylab(\"Porcentaje\")+\n",
    " ggtitle(\"Gráfico de Contigencia por columna\") +\n",
    " theme(axis.title = element_text(size = 15, color = \"black\", face = \"bold\"))+\n",
    " theme(title = element_text(size = 15, color = \"black\", face = \"bold\"))+\n",
    "  theme(plot.title = element_text(hjust = 0.5)) +#centra titulo\n",
    " theme(legend.text = element_text(size = 12, color = \"black\", face= \"bold\"))+\n",
    " theme(axis.text = element_text(size = 10, color = \"black\", face= \"bold\"))\n"
   ]
  },
  {
   "cell_type": "code",
   "execution_count": null,
   "id": "6e17cf92-8d12-40b4-a938-40f2d4e192f5",
   "metadata": {
    "vscode": {
     "languageId": "r"
    }
   },
   "outputs": [],
   "source": [
    "columna2 <- t(porcentaje_columna)\n",
    "bpc <- barplot(columna2,\n",
    "               main = \"Gráfico de Contigencia por Columna\",\n",
    "               beside = TRUE, # Barras agrupadas\n",
    "               space = c(0.1, 1.5), # Ajuste del espacio\n",
    "               ylim = c(0, 100),\n",
    "               cex.axis = 1.2, # Tamaño etiquetas eje y\n",
    "               cex.names = 1.5, # Tamaño etiqueta eje x\n",
    "               cex.main = 1.5, # Tamaño título gráfico\n",
    "               col = c(\"darkblue\", \"green\", \"yellow\", \"#364972\", \"#6E1772\", \"#1E7230\"),\n",
    "               xlab = \"Turno\",\n",
    "               cex.lab = 1.5, # Tamaño xlab ylab\n",
    "               ylab = \"Porcentaje\",\n",
    "               col.lab = \"blue\") # Color xlab ylab\n",
    "\n",
    "# Leyenda\n",
    "legend(\"topright\", inset = c(0, 0), # Ajusta la posición de la leyenda\n",
    "       legend = rownames(columna2),\n",
    "       title = \"Desempeño\", # Título\n",
    "       title.adj = 0.5, # Ajuste horizontal del título\n",
    "       title.col = \"black\", # Color del título\n",
    "       pch = 15, # Cambia a cuadrados\n",
    "       col = c(\"darkblue\", \"green\", \"yellow\", \"#364972\", \"#6E1772\", \"#1E7230\"),\n",
    "       pt.cex = 2, # Tamaño de los cuadrados\n",
    "       cex = 1.32) # Cambiar el tamaño del texto\n",
    "\n",
    "# Añadir valores sobre las barras\n",
    "text_labels <- columna2\n",
    "\n",
    "# Ajustar posición de las etiquetas\n",
    "text(x = bpc, \n",
    "     y = text_labels + 2.5, \n",
    "     labels = format(text_labels),\n",
    "     cex = 1.2, \n",
    "     pos = 3) # pos = 3 coloca el texto arriba de las barras"
   ]
  },
  {
   "cell_type": "code",
   "execution_count": null,
   "id": "9fba6dfc-0815-491c-9510-1be1ddd15233",
   "metadata": {
    "vscode": {
     "languageId": "r"
    }
   },
   "outputs": [],
   "source": [
    "mosaicplot(aux,\n",
    "           main=\"Gráfico de Mosaico\",\n",
    "           color =c(\"darkblue\",\"green\"),\n",
    "           border = \"black\",\n",
    "           xlab = \"Desepeño\", # label for x-axis\n",
    "          ylab = \"Turno\", # label for y-axis\n",
    "           cex.axis=par(\"cex\"))"
   ]
  },
  {
   "cell_type": "markdown",
   "id": "146ba84a-5e6a-47f3-9663-531f950dc98d",
   "metadata": {},
   "source": [
    "Tablas contingencia de Lengua por turnos en cuarto grado."
   ]
  },
  {
   "cell_type": "code",
   "execution_count": null,
   "id": "e98da12a-a466-41f2-aeba-9b791eebd053",
   "metadata": {
    "vscode": {
     "languageId": "r"
    }
   },
   "outputs": [],
   "source": [
    "primero_lengua <- filter(Uruguay_Primaria, Año_cursado== 4, asignatura== \"LENGUA\")\n",
    "primero_lengua <- subset(primero_lengua, Turno != \"ROTATIVO\" & Turno != \"COMPLETO\") #sacamos los turnos rotativo y completo\n",
    "                                                                                    #porque no cumple con tener minimo 5 \"muestras\" en cada celda\n",
    "tabla_contingencia_primero <- table(primero_lengua$Turno, primero_lengua$Desempenio)\n",
    "\n",
    "tabla_contingencia_primero"
   ]
  },
  {
   "cell_type": "code",
   "execution_count": null,
   "id": "6323f1de-4d5e-409a-b3b0-72c9372c159f",
   "metadata": {
    "vscode": {
     "languageId": "r"
    }
   },
   "outputs": [],
   "source": [
    "#Tuve que cambiar un poco las tablas por que antes no daban bien los numeros de Total\n",
    "#porcentaje total\n",
    "cat(\"\\n\",\"Porcentaje Total\",\"\\n\")\n",
    "porcentaje_total <- round(prop.table(tabla_contingencia_primero) * 100,1)\n",
    "porcentaje_total<-cbind(porcentaje_total,\"Total\"=margin.table(porcentaje_total, 1))\n",
    "porcentaje_total<-rbind(porcentaje_total,\"Total\"=margin.table(porcentaje_total, 2))\n",
    "print(porcentaje_total)\n",
    "\n",
    "#porcentaje por fila\n",
    "cat(\"\\n\",\"Porcentaje Fila\",\"\\n\")\n",
    "porcentaje_fila<-round(prop.table(rbind(tabla_contingencia_primero,\"Total\"=margin.table(tabla_contingencia_primero, 2)),1)*100,1)\n",
    "porcentaje_fila<-cbind(porcentaje_fila,\"Total\"=margin.table(porcentaje_fila, 1))\n",
    "print(porcentaje_fila)\n",
    "\n",
    "#porcentaje por columna\n",
    "cat(\"\\n\",\"Porcentaje Columna\", \"\\n\")\n",
    "porcentaje_columna<-round(prop.table(cbind(tabla_contingencia_primero,\"Total\"=margin.table(tabla_contingencia_primero, 1)),2)*100,1)\n",
    "porcentaje_columna<-rbind(porcentaje_columna,\"Total\"=margin.table(porcentaje_columna, 2))\n",
    "print(porcentaje_columna)"
   ]
  },
  {
   "cell_type": "code",
   "execution_count": null,
   "id": "953065a2-0cb4-4fb2-af00-cc5a9ee51e11",
   "metadata": {
    "vscode": {
     "languageId": "r"
    }
   },
   "outputs": [],
   "source": [
    "porcentaje_fila <- porcentaje_fila[rownames(porcentaje_fila) != \"Total\", ]\n",
    "porcentaje_fila <- porcentaje_fila[, colnames(porcentaje_fila) != \"Total\"]\n",
    "\n",
    "porcentaje_columna <- porcentaje_columna[rownames(porcentaje_columna) != \"Total\", ]\n",
    "porcentaje_columna <- porcentaje_columna[, colnames(porcentaje_columna) != \"Total\"]"
   ]
  },
  {
   "cell_type": "code",
   "execution_count": null,
   "id": "76f37801-7323-4431-9188-da8c2cc75717",
   "metadata": {
    "vscode": {
     "languageId": "r"
    }
   },
   "outputs": [],
   "source": [
    "#test de chi-cuadrado\n",
    "cat(\"\\n\",\"TEST de chi cuadrado\")\n",
    "resultado_chi <- chisq.test(tabla_contingencia_primero)\n",
    "resultado_chi\n",
    "\n",
    "#test de asosiacion cramerV\n",
    "cat(\"\\n\",\"test de cramerV\")\n",
    "CramerV(tabla_contingencia_primero)\n",
    "\n",
    "#tabla de valores esperados\n",
    "cat(\"\\n\",\"Valores esperados\")\n",
    "round(resultado_chi$expected,0)\n",
    "\n",
    "#residuos\n",
    "cat(\"\\n\",\"Residuos\")\n",
    "round(resultado_chi$residuals, 1)"
   ]
  },
  {
   "cell_type": "code",
   "execution_count": null,
   "id": "68441099-0369-42b4-b7d2-a69e496166fb",
   "metadata": {
    "vscode": {
     "languageId": "r"
    }
   },
   "outputs": [],
   "source": [
    "aux <- t(porcentaje_fila)\n",
    "bpc<-barplot(aux,\n",
    "        main = \"Gráfico de Contigencia por Fila\",\n",
    "        beside = TRUE, # Barras agrupadas\n",
    "        space = c(0.1, 2.5), # Espacio primer elemento es el espacio entre barras de cada grupo (0.1) y el segundo el espacio entre grupos (2.5).\n",
    "        ylim = c(0,100),\n",
    "        cex.axis = 1.2, #tamaño etiquetas eje y\n",
    "        cex.names=1.5, #tamaño etiqueta eje x\n",
    "        cex.main=1.5, #tamaño título gráfico\n",
    "        col=c(\"darkblue\",\"green\", \"yellow\",\"#364972\",\"#6E1772\",\"#1E7230\"),\n",
    "        xlab = \"Turno\",\n",
    "        cex.lab=1.5, #tamaño  xlab ylab\n",
    "        ylab = \"Porcentaje\",\n",
    "       col.lab = \"blue\") # Color xlab ylab\n",
    "\n",
    "#leyenda\n",
    "legend(\"topright\", inset = c(0, 0), # Ajusta la posición de la leyenda\n",
    "       legend = rownames(aux),\n",
    "       title = \"Desempeño\", # Título\n",
    "       title.adj = 0.5,          # Ajuste horizontal del título\n",
    "       title.col = \"black\",       # Color del título\n",
    "       pch = 15,  # Cambia a cuadrados\n",
    "       col = c(\"darkblue\", \"green\", \"yellow\", \"#364972\", \"#6E1772\", \"#1E7230\"),\n",
    "       pt.cex = 2,  # Tamaño de los cuadrados\n",
    "       cex = 1.32)  # Cambiar el tamaño del texto\n",
    "\n",
    "# valores sobre barras\n",
    "TC <- aux\n",
    "text(bpc, TC+2.5,format(TC), cex=1.2)\n"
   ]
  },
  {
   "cell_type": "code",
   "execution_count": null,
   "id": "c8ec518d-8548-42a1-a50c-4458f4b2f28e",
   "metadata": {
    "vscode": {
     "languageId": "r"
    }
   },
   "outputs": [],
   "source": [
    "df <- as.data.frame(as.table(porcentaje_columna))\n",
    "colnames(df) <- c(\"Var1\", \"Var2\", \"Freq\")\n",
    "\n",
    "ggplot(data=df,aes(x=Var2,y=Freq,fill=Var1))+\n",
    "  geom_bar(stat=\"identity\",colour=\"blue\")+\n",
    "    scale_fill_manual(name= \"Turnos\", values=c(\"#5F9EA0\",\"#1C7202\"))+\n",
    "   geom_text(aes(label=Freq),position=position_stack(vjust=0.41),size = 4, color = \"red\")+\n",
    "  xlab(\"Desempeño\")+\n",
    "  ylab(\"Porcentaje\")+\n",
    " ggtitle(\"Gráfico de Contigencia por columna\") +\n",
    " theme(axis.title = element_text(size = 15, color = \"black\", face = \"bold\"))+\n",
    " theme(title = element_text(size = 15, color = \"black\", face = \"bold\"))+\n",
    "  theme(plot.title = element_text(hjust = 0.5)) +#centra titulo\n",
    " theme(legend.text = element_text(size = 12, color = \"black\", face= \"bold\"))+\n",
    " theme(axis.text = element_text(size = 10, color = \"black\", face= \"bold\"))\n"
   ]
  },
  {
   "cell_type": "markdown",
   "id": "c5823fcb-64e1-474b-9bf2-e1d7fafd615f",
   "metadata": {},
   "source": [
    "Tablas contingencia de Matematica por turnos en primer grado."
   ]
  },
  {
   "cell_type": "code",
   "execution_count": null,
   "id": "ecad4ec8-b467-4b1a-84a2-12097a8dacec",
   "metadata": {
    "vscode": {
     "languageId": "r"
    }
   },
   "outputs": [],
   "source": [
    "primero_mate <- filter(Uruguay_Primaria, Año_cursado== 1, asignatura== \"MATEMATICA\")\n",
    "primero_mate <- subset(primero_mate, Turno != \"ROTATIVO\" & Turno != \"COMPLETO\") #sacamos los turnos rotativo y completo\n",
    "                                                                                    #porque no cumple con tener minimo 5 \"muestras\" en cada celda\n",
    "tabla_contigencia_1_mate <- table(primero_mate$Turno, primero_mate$Desempenio)\n",
    "tabla_contigencia_1_mate"
   ]
  },
  {
   "cell_type": "code",
   "execution_count": null,
   "id": "c9816c24-1a6c-4a8a-9978-355f0607662c",
   "metadata": {
    "vscode": {
     "languageId": "r"
    }
   },
   "outputs": [],
   "source": [
    "#porcentaje total\n",
    "cat(\"\\n\",\"Porcentaje Total\",\"\\n\")\n",
    "porcentaje_total <- round(prop.table(tabla_contigencia_1_mate) * 100,1)\n",
    "porcentaje_total<-cbind(porcentaje_total,\"Total\"=margin.table(porcentaje_total, 1))\n",
    "porcentaje_total<-rbind(porcentaje_total,\"Total\"=margin.table(porcentaje_total, 2))\n",
    "print(porcentaje_total)\n",
    "\n",
    "#porcentaje por fila\n",
    "cat(\"\\n\",\"Porcentaje Fila\",\"\\n\")\n",
    "porcentaje_fila<-round(prop.table(rbind(tabla_contigencia_1_mate,\"Total\"=margin.table(tabla_contigencia_1_mate, 2)),1)*100,1)\n",
    "porcentaje_fila<-cbind(porcentaje_fila,\"Total\"=margin.table(porcentaje_fila, 1))\n",
    "print(porcentaje_fila)\n",
    "\n",
    "#porcentaje por columna\n",
    "cat(\"\\n\",\"Porcentaje Columna\", \"\\n\")\n",
    "porcentaje_columna<-round(prop.table(cbind(tabla_contigencia_1_mate,\"Total\"=margin.table(tabla_contigencia_1_mate, 1)),2)*100,1)\n",
    "porcentaje_columna<-rbind(porcentaje_columna,\"Total\"=margin.table(porcentaje_columna, 2))\n",
    "print(porcentaje_columna)\n"
   ]
  },
  {
   "cell_type": "code",
   "execution_count": null,
   "id": "78a7b6b0-309a-44de-8062-dc00470f4242",
   "metadata": {
    "vscode": {
     "languageId": "r"
    }
   },
   "outputs": [],
   "source": [
    "porcentaje_fila <- porcentaje_fila[rownames(porcentaje_fila) != \"Total\", ]\n",
    "porcentaje_fila <- porcentaje_fila[, colnames(porcentaje_fila) != \"Total\"]\n",
    "\n",
    "porcentaje_columna <- porcentaje_columna[rownames(porcentaje_columna) != \"Total\", ]\n",
    "porcentaje_columna <- porcentaje_columna[, colnames(porcentaje_columna) != \"Total\"]"
   ]
  },
  {
   "cell_type": "code",
   "execution_count": null,
   "id": "aa2aea73-4e64-4b4b-9476-87cc553ec05a",
   "metadata": {
    "vscode": {
     "languageId": "r"
    }
   },
   "outputs": [],
   "source": [
    "#test de chi-cuadrado\n",
    "cat(\"\\n\",\"TEST de chi cuadrado\")\n",
    "resultado_chi <- chisq.test(tabla_contigencia_1_mate)\n",
    "resultado_chi\n",
    "\n",
    "#test de asosiacion cramerV\n",
    "cat(\"\\n\",\"test de cramerV\")\n",
    "CramerV(tabla_contigencia_1_mate)\n",
    "\n",
    "#tabla de valores esperados\n",
    "cat(\"\\n\",\"Valores esperados\")\n",
    "round(resultado_chi$expected,0)\n",
    "\n",
    "#residuos\n",
    "cat(\"\\n\",\"Residuos\")\n",
    "round(resultado_chi$residuals, 1)"
   ]
  },
  {
   "cell_type": "code",
   "execution_count": null,
   "id": "9c1a3c7c-e53b-453c-8795-4baf68380d1c",
   "metadata": {
    "vscode": {
     "languageId": "r"
    }
   },
   "outputs": [],
   "source": [
    "df <- as.data.frame(as.table(porcentaje_columna))\n",
    "colnames(df) <- c(\"Var1\", \"Var2\", \"Freq\")\n",
    "\n",
    "ggplot(data=df,aes(x=Var2,y=Freq,fill=Var1))+\n",
    "  geom_bar(stat=\"identity\",colour=\"blue\")+\n",
    "    scale_fill_manual(name= \"Turnos\", values=c(\"#5F9EA0\",\"#1C7202\"))+\n",
    "   geom_text(aes(label=Freq),position=position_stack(vjust=0.41),size = 4, color = \"red\")+\n",
    "  xlab(\"Desempeño\")+\n",
    "  ylab(\"Porcentaje\")+\n",
    " ggtitle(\"Gráfico de Contigencia por columna\") +\n",
    " theme(axis.title = element_text(size = 15, color = \"black\", face = \"bold\"))+\n",
    " theme(title = element_text(size = 15, color = \"black\", face = \"bold\"))+\n",
    "  theme(plot.title = element_text(hjust = 0.5)) +#centra titulo\n",
    " theme(legend.text = element_text(size = 12, color = \"black\", face= \"bold\"))+\n",
    " theme(axis.text = element_text(size = 10, color = \"black\", face= \"bold\"))\n"
   ]
  },
  {
   "cell_type": "code",
   "execution_count": null,
   "id": "1502eef2-6a98-41aa-92e9-f1b2c27145f1",
   "metadata": {
    "vscode": {
     "languageId": "r"
    }
   },
   "outputs": [],
   "source": [
    "aux <- t(porcentaje_fila)\n",
    "bpc<-barplot(aux,\n",
    "        main = \"Gráfico de Contigencia por Fila\",\n",
    "        beside = TRUE, # Barras agrupadas\n",
    "        space = c(0.1, 2.5), # Espacio primer elemento es el espacio entre barras de cada grupo (0.1) y el segundo el espacio entre grupos (2.5).\n",
    "        ylim = c(0,100),\n",
    "        cex.axis = 1.2, #tamaño etiquetas eje y\n",
    "        cex.names=1.5, #tamaño etiqueta eje x\n",
    "        cex.main=1.5, #tamaño título gráfico\n",
    "        col=c(\"darkblue\",\"green\", \"yellow\",\"#364972\",\"#6E1772\",\"#1E7230\"),\n",
    "        xlab = \"Turno\",\n",
    "        cex.lab=1.5, #tamaño  xlab ylab\n",
    "        ylab = \"Porcentaje\",\n",
    "       col.lab = \"blue\") # Color xlab ylab\n",
    "\n",
    "#leyenda\n",
    "legend(\"topright\", inset = c(0, 0), # Ajusta la posición de la leyenda\n",
    "       legend = rownames(aux),\n",
    "       title = \"Desempeño\", # Título\n",
    "       title.adj = 0.5,          # Ajuste horizontal del título\n",
    "       title.col = \"black\",       # Color del título\n",
    "       pch = 15,  # Cambia a cuadrados\n",
    "       col = c(\"darkblue\", \"green\", \"yellow\", \"#364972\", \"#6E1772\", \"#1E7230\"),\n",
    "       pt.cex = 2,  # Tamaño de los cuadrados\n",
    "       cex = 1.32)  # Cambiar el tamaño del texto\n",
    "\n",
    "# valores sobre barras\n",
    "TC <- aux\n",
    "text(bpc, TC+2.5,format(TC), cex=1.2)\n"
   ]
  },
  {
   "cell_type": "markdown",
   "id": "c0eead3f-f3d4-41ba-8061-fec3a446a236",
   "metadata": {},
   "source": [
    "Tablas contingencia de Matematica por turnos en cuarto grado."
   ]
  },
  {
   "cell_type": "code",
   "execution_count": null,
   "id": "ea144ad2-eb70-404a-a600-ff32779f00a6",
   "metadata": {
    "vscode": {
     "languageId": "r"
    }
   },
   "outputs": [],
   "source": [
    "primero_mate <- filter(Uruguay_Primaria, Año_cursado== 4, asignatura== \"MATEMATICA\")\n",
    "primero_mate <- subset(primero_mate, Turno != \"ROTATIVO\" & Turno != \"COMPLETO\") #sacamos los turnos rotativo y completo\n",
    "                                                                                    #porque no cumple con tener minimo 5 \"muestras\" en cada celda\n",
    "tabla_contigencia_1_mate <- table(primero_mate$Turno, primero_mate$Desempenio)\n",
    "tabla_contigencia_1_mate"
   ]
  },
  {
   "cell_type": "code",
   "execution_count": null,
   "id": "28ab4e88-3f77-49f0-afd0-b6517dee9be2",
   "metadata": {
    "vscode": {
     "languageId": "r"
    }
   },
   "outputs": [],
   "source": [
    "#porcentaje total\n",
    "cat(\"\\n\",\"Porcentaje Total\",\"\\n\")\n",
    "porcentaje_total <- round(prop.table(tabla_contigencia_1_mate) * 100,1)\n",
    "porcentaje_total<-cbind(porcentaje_total,\"Total\"=margin.table(porcentaje_total, 1))\n",
    "porcentaje_total<-rbind(porcentaje_total,\"Total\"=margin.table(porcentaje_total, 2))\n",
    "print(porcentaje_total)\n",
    "\n",
    "#porcentaje por fila\n",
    "cat(\"\\n\",\"Porcentaje Fila\",\"\\n\")\n",
    "porcentaje_fila<-round(prop.table(rbind(tabla_contigencia_1_mate,\"Total\"=margin.table(tabla_contigencia_1_mate, 2)),1)*100,1)\n",
    "porcentaje_fila<-cbind(porcentaje_fila,\"Total\"=margin.table(porcentaje_fila, 1))\n",
    "print(porcentaje_fila)\n",
    "\n",
    "#porcentaje por columna\n",
    "cat(\"\\n\",\"Porcentaje Columna\", \"\\n\")\n",
    "porcentaje_columna<-round(prop.table(cbind(tabla_contigencia_1_mate,\"Total\"=margin.table(tabla_contigencia_1_mate, 1)),2)*100,1)\n",
    "porcentaje_columna<-rbind(porcentaje_columna,\"Total\"=margin.table(porcentaje_columna, 2))\n",
    "print(porcentaje_columna)\n"
   ]
  },
  {
   "cell_type": "code",
   "execution_count": null,
   "id": "3e5ad54a-fbdd-4e73-b9c7-edc2cd42cb98",
   "metadata": {
    "vscode": {
     "languageId": "r"
    }
   },
   "outputs": [],
   "source": [
    "porcentaje_fila <- porcentaje_fila[rownames(porcentaje_fila) != \"Total\", ]\n",
    "porcentaje_fila <- porcentaje_fila[, colnames(porcentaje_fila) != \"Total\"]\n",
    "\n",
    "porcentaje_columna <- porcentaje_columna[rownames(porcentaje_columna) != \"Total\", ]\n",
    "porcentaje_columna <- porcentaje_columna[, colnames(porcentaje_columna) != \"Total\"]"
   ]
  },
  {
   "cell_type": "code",
   "execution_count": null,
   "id": "a87bc371-cea6-4d65-b7ae-ad8549355a15",
   "metadata": {
    "vscode": {
     "languageId": "r"
    }
   },
   "outputs": [],
   "source": [
    "#test de chi-cuadrado\n",
    "cat(\"\\n\",\"TEST de chi cuadrado\")\n",
    "resultado_chi <- chisq.test(tabla_contigencia_1_mate)\n",
    "resultado_chi\n",
    "\n",
    "#test de asosiacion cramerV\n",
    "cat(\"\\n\",\"test de cramerV\")\n",
    "CramerV(tabla_contigencia_1_mate)\n",
    "\n",
    "#tabla de valores esperados\n",
    "cat(\"\\n\",\"Valores esperados\")\n",
    "round(resultado_chi$expected,0)\n",
    "\n",
    "#residuos\n",
    "cat(\"\\n\",\"Residuos\")\n",
    "round(resultado_chi$residuals, 1)"
   ]
  },
  {
   "cell_type": "code",
   "execution_count": null,
   "id": "ea1cc8e2-1745-49d9-9e64-d523b0abaa39",
   "metadata": {
    "vscode": {
     "languageId": "r"
    }
   },
   "outputs": [],
   "source": [
    "df_turnos <- as.data.frame(as.table(porcentaje_columna))\n",
    "colnames(df_turnos) <- c(\"Var1\", \"Var2\", \"Freq\")\n",
    "\n",
    "ggplot(data=df_turnos,aes(x=Var2,y=Freq,fill=Var1))+\n",
    "  geom_bar(stat=\"identity\",colour=\"blue\")+\n",
    "    scale_fill_manual(name= \"Turnos\", values=c(\"#5F9EA0\",\"#1C7202\"))+\n",
    "   geom_text(aes(label=Freq),position=position_stack(vjust=0.41),size = 4, color = \"red\")+\n",
    "  xlab(\"Desempeño\")+\n",
    "  ylab(\"Porcentaje\")+\n",
    " ggtitle(\"Gráfico de Contigencia por columna\") +\n",
    " theme(axis.title = element_text(size = 15, color = \"black\", face = \"bold\"))+\n",
    " theme(title = element_text(size = 15, color = \"black\", face = \"bold\"))+\n",
    "  theme(plot.title = element_text(hjust = 0.5)) +#centra titulo\n",
    " theme(legend.text = element_text(size = 12, color = \"black\", face= \"bold\"))+\n",
    " theme(axis.text = element_text(size = 10, color = \"black\", face= \"bold\"))\n"
   ]
  },
  {
   "cell_type": "code",
   "execution_count": null,
   "id": "900a6d31-a21d-4412-b7ed-6afa4ff015f1",
   "metadata": {
    "vscode": {
     "languageId": "r"
    }
   },
   "outputs": [],
   "source": [
    "aux <- t(porcentaje_fila)\n",
    "bpc<-barplot(aux,\n",
    "        main = \"Gráfico de Contigencia por Fila\",\n",
    "        beside = TRUE, # Barras agrupadas\n",
    "        space = c(0.1, 2.5), # Espacio primer elemento es el espacio entre barras de cada grupo (0.1) y el segundo el espacio entre grupos (2.5).\n",
    "        ylim = c(0,100),\n",
    "        cex.axis = 1.2, #tamaño etiquetas eje y\n",
    "        cex.names=1.5, #tamaño etiqueta eje x\n",
    "        cex.main=1.5, #tamaño título gráfico\n",
    "        col=c(\"darkblue\",\"green\", \"yellow\",\"#364972\",\"#6E1772\",\"#1E7230\"),\n",
    "        xlab = \"Turno\",\n",
    "        cex.lab=1.5, #tamaño  xlab ylab\n",
    "        ylab = \"Porcentaje\",\n",
    "       col.lab = \"blue\") # Color xlab ylab\n",
    "\n",
    "#leyenda\n",
    "legend(\"topright\", inset = c(0, 0), # Ajusta la posición de la leyenda\n",
    "       legend = rownames(aux),\n",
    "       title = \"Desempeño\", # Título\n",
    "       title.adj = 0.5,          # Ajuste horizontal del título\n",
    "       title.col = \"black\",       # Color del título\n",
    "       pch = 15,  # Cambia a cuadrados\n",
    "       col = c(\"darkblue\", \"green\", \"yellow\", \"#364972\", \"#6E1772\", \"#1E7230\"),\n",
    "       pt.cex = 2,  # Tamaño de los cuadrados\n",
    "       cex = 1.32)  # Cambiar el tamaño del texto\n",
    "\n",
    "# valores sobre barras\n",
    "TC <- aux\n",
    "text(bpc, TC+2.5,format(TC), cex=1.2)\n"
   ]
  },
  {
   "cell_type": "markdown",
   "id": "1c53bdfa-fd25-4b49-b5d9-2617a4c0b1e9",
   "metadata": {},
   "source": [
    "tablas de contingencia por sector, Lengua de primer grado"
   ]
  },
  {
   "cell_type": "code",
   "execution_count": null,
   "id": "e7ce93e4-bd50-426c-b0f2-336cc06bd810",
   "metadata": {
    "vscode": {
     "languageId": "r"
    }
   },
   "outputs": [],
   "source": [
    "sector_lengua_1 <- filter(Uruguay_Primaria, Año_cursado== 1, asignatura== \"LENGUA\")\n",
    "\n",
    "sector_lengua_1$EsPrivada <- ifelse(sector_lengua_1$EsPrivada == \"N\", \"Publica\",\"Privada\")\n",
    "\n",
    "tabla_contigencia_sect_len_1 <- table(sector_lengua_1$EsPrivada, sector_lengua_1$Desempenio)\n",
    "tabla_contigencia_sect_len_1"
   ]
  },
  {
   "cell_type": "code",
   "execution_count": null,
   "id": "c895b111-8553-4e5c-b9c1-2e9d22e3fb52",
   "metadata": {
    "vscode": {
     "languageId": "r"
    }
   },
   "outputs": [],
   "source": [
    "#porcentaje total\n",
    "cat(\"\\n\",\"Porcentaje Total\",\"\\n\")\n",
    "porcentaje_total <- round(prop.table(tabla_contigencia_sect_len_1) * 100,1)\n",
    "porcentaje_total<-cbind(porcentaje_total,\"Total\"=margin.table(porcentaje_total, 1))\n",
    "porcentaje_total<-rbind(porcentaje_total,\"Total\"=margin.table(porcentaje_total, 2))\n",
    "print(porcentaje_total)\n",
    "\n",
    "#porcentaje por fila\n",
    "cat(\"\\n\",\"Porcentaje Fila\",\"\\n\")\n",
    "porcentaje_fila<-round(prop.table(rbind(tabla_contigencia_sect_len_1,\"Total\"=margin.table(tabla_contigencia_sect_len_1, 2)),1)*100,1)\n",
    "porcentaje_fila<-cbind(porcentaje_fila,\"Total\"=margin.table(porcentaje_fila, 1))\n",
    "print(porcentaje_fila)\n",
    "\n",
    "#porcentaje por columna\n",
    "cat(\"\\n\",\"Porcentaje Columna\", \"\\n\")\n",
    "porcentaje_columna<-round(prop.table(cbind(tabla_contigencia_sect_len_1,\"Total\"=margin.table(tabla_contigencia_sect_len_1, 1)),2)*100,1)\n",
    "porcentaje_columna<-rbind(porcentaje_columna,\"Total\"=margin.table(porcentaje_columna, 2))\n",
    "print(porcentaje_columna)\n"
   ]
  },
  {
   "cell_type": "code",
   "execution_count": null,
   "id": "363b5ca6-e1dc-47b7-88dd-047259b76343",
   "metadata": {
    "vscode": {
     "languageId": "r"
    }
   },
   "outputs": [],
   "source": [
    "porcentaje_fila <- porcentaje_fila[rownames(porcentaje_fila) != \"Total\", ]\n",
    "porcentaje_fila <- porcentaje_fila[, colnames(porcentaje_fila) != \"Total\"]\n",
    "\n",
    "porcentaje_columna <- porcentaje_columna[rownames(porcentaje_columna) != \"Total\", ]\n",
    "porcentaje_columna <- porcentaje_columna[, colnames(porcentaje_columna) != \"Total\"]"
   ]
  },
  {
   "cell_type": "code",
   "execution_count": null,
   "id": "d191baf7-e4e0-4265-bf81-2b1cb3671526",
   "metadata": {
    "vscode": {
     "languageId": "r"
    }
   },
   "outputs": [],
   "source": [
    "#test de chi-cuadrado\n",
    "cat(\"\\n\",\"TEST de chi cuadrado\")\n",
    "resultado_chi <- chisq.test(tabla_contigencia_sect_len_1)\n",
    "resultado_chi\n",
    "\n",
    "#test de asosiacion cramerV\n",
    "cat(\"\\n\",\"test de cramerV\")\n",
    "CramerV(tabla_contigencia_sect_len_1)\n",
    "\n",
    "#tabla de valores esperados\n",
    "cat(\"\\n\",\"Valores esperados\")\n",
    "round(resultado_chi$expected,0)\n",
    "\n",
    "#residuos\n",
    "cat(\"\\n\",\"Residuos\")\n",
    "round(resultado_chi$residuals, 1)"
   ]
  },
  {
   "cell_type": "code",
   "execution_count": null,
   "id": "f2564133-228e-461e-8ff3-7d7149e16b3d",
   "metadata": {
    "vscode": {
     "languageId": "r"
    }
   },
   "outputs": [],
   "source": [
    "#               Privada Publica\n",
    "#  insuficiente       3      33\n",
    "#  regular            6      76\n",
    "#  aprobado          18     118\n",
    "#  bueno             43     113\n",
    "#  muy bueno         71     149\n",
    "#  distinguido       92     143\n",
    "prop.test(x=c(3,6,18,43,71,92), n=c(33,76,118,113,149,143), alternative=\"two.side\", conf.level=0.95, correct=FALSE)"
   ]
  },
  {
   "cell_type": "code",
   "execution_count": null,
   "id": "4cf6eb26-fce5-48ad-ad50-fd502f0807ea",
   "metadata": {
    "vscode": {
     "languageId": "r"
    }
   },
   "outputs": [],
   "source": [
    "#h0: No hay diferencia en la proporción de alumnos con calificaciones \"muy bueno\" y \"distinguido\" entre las escuelas privadas y públicas.\n",
    "#h1: Hay una diferencia en la proporción de alumnos con calificaciones \"muy bueno\" y \"distinguido\" entre las escuelas privadas y públicas.\n",
    "\n",
    "#sumamos las mejores categorias por tipo de gestion\n",
    "privada_mejores_notas <- sum(c(71, 92))\n",
    "publica_mejores_notas <- sum(c(149, 143))\n",
    "\n",
    "#suma de todas las categorias por tipo de gestion\n",
    "cat(\"Esc privada:\",3 + 6 + 18 + 43 + 71 + 92,\"\\n\")\n",
    "cat(\"Esc publica:\",33 + 76 + 118 + 113 + 149 + 143)\n",
    "\n",
    "# Realizar la prueba para la categoría \"muy bueno\" y \"distinguido\"\n",
    "prop.test(x = c(privada_mejores_notas, publica_mejores_notas), n = c(233, 632), alternative = \"two.sided\", \n",
    "                    conf.level = 0.95, \n",
    "                    correct = FALSE)\n",
    "#se rechaza h0. p-value = 5.395e-10\n",
    "#el intervalo de confianza va desde 0.167 hasta 0.308, lo que significa que podemos estar 95% seguros cae entre ese % y no incluye el 0, por lo que la diferencia no puede ser 0%."
   ]
  },
  {
   "cell_type": "code",
   "execution_count": null,
   "id": "f6754ec0-0541-415f-bd86-1ab263a4de84",
   "metadata": {
    "vscode": {
     "languageId": "r"
    }
   },
   "outputs": [],
   "source": [
    "df_sector <- as.data.frame(as.table(porcentaje_columna))\n",
    "colnames(df_sector) <- c(\"Var1\", \"Var2\", \"Freq\")\n",
    "\n",
    "ggplot(data=df_sector,aes(x=Var2,y=Freq,fill=Var1))+\n",
    "  geom_bar(stat=\"identity\",colour=\"blue\")+\n",
    "    scale_fill_manual(name= \"Gestion\", values=c(\"#5F9EA0\",\"#1C7202\"))+\n",
    "   geom_text(aes(label=Freq),position=position_stack(vjust=0.41),size = 4, color = \"red\")+\n",
    "  xlab(\"Desempeño\")+\n",
    "  ylab(\"Porcentaje\")+\n",
    " ggtitle(\"Gráfico de Contigencia por columna\") +\n",
    " theme(axis.title = element_text(size = 15, color = \"black\", face = \"bold\"))+\n",
    " theme(title = element_text(size = 15, color = \"black\", face = \"bold\"))+\n",
    "  theme(plot.title = element_text(hjust = 0.5)) +#centra titulo\n",
    " theme(legend.text = element_text(size = 12, color = \"black\", face= \"bold\"))+\n",
    " theme(axis.text = element_text(size = 10, color = \"black\", face= \"bold\"))\n"
   ]
  },
  {
   "cell_type": "code",
   "execution_count": null,
   "id": "7344d88c-9664-43eb-91af-cc8e88db58be",
   "metadata": {
    "vscode": {
     "languageId": "r"
    }
   },
   "outputs": [],
   "source": [
    "aux <- t(porcentaje_fila)\n",
    "bpc<-barplot(aux,\n",
    "        main = \"Gráfico de Contigencia por Fila\",\n",
    "        beside = TRUE, # Barras agrupadas\n",
    "        space = c(0.1, 2.5), # Espacio primer elemento es el espacio entre barras de cada grupo (0.1) y el segundo el espacio entre grupos (2.5).\n",
    "        ylim = c(0,100),\n",
    "        cex.axis = 1.2, #tamaño etiquetas eje y\n",
    "        cex.names=1.5, #tamaño etiqueta eje x\n",
    "        cex.main=1.5, #tamaño título gráfico\n",
    "        col=c(\"darkblue\",\"green\", \"yellow\",\"#364972\",\"#6E1772\",\"#1E7230\"),\n",
    "        xlab = \"Turno\",\n",
    "        cex.lab=1.5, #tamaño  xlab ylab\n",
    "        ylab = \"Porcentaje\",\n",
    "       col.lab = \"blue\") # Color xlab ylab\n",
    "\n",
    "#leyenda\n",
    "legend(\"topright\", inset = c(0, 0), # Ajusta la posición de la leyenda\n",
    "       legend = rownames(aux),\n",
    "       title = \"Desempeño\", # Título\n",
    "       title.adj = 0.5,          # Ajuste horizontal del título\n",
    "       title.col = \"black\",       # Color del título\n",
    "       pch = 15,  # Cambia a cuadrados\n",
    "       col = c(\"darkblue\", \"green\", \"yellow\", \"#364972\", \"#6E1772\", \"#1E7230\"),\n",
    "       pt.cex = 2,  # Tamaño de los cuadrados\n",
    "       cex = 1.32)  # Cambiar el tamaño del texto\n",
    "\n",
    "# valores sobre barras\n",
    "TC <- aux\n",
    "text(bpc, TC+2.5,format(TC), cex=1.2)\n"
   ]
  },
  {
   "cell_type": "markdown",
   "id": "318606ab-0018-4f72-a74d-ac9617bfb6d7",
   "metadata": {},
   "source": [
    "tablas de contingencia por sector, Lengua de cuarto grado"
   ]
  },
  {
   "cell_type": "code",
   "execution_count": null,
   "id": "a55931ef-8c79-459a-a9c8-5f8f7447dcaf",
   "metadata": {
    "vscode": {
     "languageId": "r"
    }
   },
   "outputs": [],
   "source": [
    "sector_lengua_1 <- filter(Uruguay_Primaria, Año_cursado== 4, asignatura== \"LENGUA\")\n",
    "\n",
    "sector_lengua_1$EsPrivada <- ifelse(sector_lengua_1$EsPrivada == \"N\", \"Publica\",\"Privada\")\n",
    "\n",
    "tabla_contigencia_sect_len_1 <- table(sector_lengua_1$EsPrivada, sector_lengua_1$Desempenio)\n",
    "tabla_contigencia_sect_len_1"
   ]
  },
  {
   "cell_type": "code",
   "execution_count": null,
   "id": "a59a6f26-1947-4bcf-a921-8dbf70d23dcb",
   "metadata": {
    "vscode": {
     "languageId": "r"
    }
   },
   "outputs": [],
   "source": [
    "#porcentaje total\n",
    "cat(\"\\n\",\"Porcentaje Total\",\"\\n\")\n",
    "porcentaje_total <- round(prop.table(tabla_contigencia_sect_len_1) * 100,1)\n",
    "porcentaje_total<-cbind(porcentaje_total,\"Total\"=margin.table(porcentaje_total, 1))\n",
    "porcentaje_total<-rbind(porcentaje_total,\"Total\"=margin.table(porcentaje_total, 2))\n",
    "print(porcentaje_total)\n",
    "\n",
    "#porcentaje por fila\n",
    "cat(\"\\n\",\"Porcentaje Fila\",\"\\n\")\n",
    "porcentaje_fila<-round(prop.table(rbind(tabla_contigencia_sect_len_1,\"Total\"=margin.table(tabla_contigencia_sect_len_1, 2)),1)*100,1)\n",
    "porcentaje_fila<-cbind(porcentaje_fila,\"Total\"=margin.table(porcentaje_fila, 1))\n",
    "print(porcentaje_fila)\n",
    "\n",
    "#porcentaje por columna\n",
    "cat(\"\\n\",\"Porcentaje Columna\", \"\\n\")\n",
    "porcentaje_columna<-round(prop.table(cbind(tabla_contigencia_sect_len_1,\"Total\"=margin.table(tabla_contigencia_sect_len_1, 1)),2)*100,1)\n",
    "porcentaje_columna<-rbind(porcentaje_columna,\"Total\"=margin.table(porcentaje_columna, 2))\n",
    "print(porcentaje_columna)\n"
   ]
  },
  {
   "cell_type": "code",
   "execution_count": null,
   "id": "2dbf3b6e-83e2-4fa6-b465-684c40b85059",
   "metadata": {
    "vscode": {
     "languageId": "r"
    }
   },
   "outputs": [],
   "source": [
    "porcentaje_fila <- porcentaje_fila[rownames(porcentaje_fila) != \"Total\", ]\n",
    "porcentaje_fila <- porcentaje_fila[, colnames(porcentaje_fila) != \"Total\"]\n",
    "\n",
    "porcentaje_columna <- porcentaje_columna[rownames(porcentaje_columna) != \"Total\", ]\n",
    "porcentaje_columna <- porcentaje_columna[, colnames(porcentaje_columna) != \"Total\"]"
   ]
  },
  {
   "cell_type": "code",
   "execution_count": null,
   "id": "dc302a02-b41a-4d59-9db5-5c6abcefaa05",
   "metadata": {
    "vscode": {
     "languageId": "r"
    }
   },
   "outputs": [],
   "source": [
    "#test de chi-cuadrado\n",
    "cat(\"\\n\",\"TEST de chi cuadrado\")\n",
    "resultado_chi <- chisq.test(tabla_contigencia_sect_len_1)\n",
    "resultado_chi\n",
    "\n",
    "#test de asosiacion cramerV\n",
    "cat(\"\\n\",\"test de cramerV\")\n",
    "CramerV(tabla_contigencia_sect_len_1)\n",
    "\n",
    "#tabla de valores esperados\n",
    "cat(\"\\n\",\"Valores esperados\")\n",
    "round(resultado_chi$expected,0)\n",
    "\n",
    "#residuos\n",
    "cat(\"\\n\",\"Residuos\")\n",
    "round(resultado_chi$residuals, 1)"
   ]
  },
  {
   "cell_type": "code",
   "execution_count": null,
   "id": "d76be922-60f5-4958-8120-f17316494d22",
   "metadata": {
    "vscode": {
     "languageId": "r"
    }
   },
   "outputs": [],
   "source": [
    "#h0: No hay diferencia en la proporción de alumnos con calificaciones \"muy bueno\" y \"distinguido\" entre las escuelas privadas y públicas.\n",
    "#h1: Hay una diferencia en la proporción de alumnos con calificaciones \"muy bueno\" y \"distinguido\" entre las escuelas privadas y públicas.\n",
    "\n",
    "#sumamos las mejores categorias por tipo de gestion\n",
    "privada_mejores_notas <- sum(c(105, 82))\n",
    "publica_mejores_notas <- sum(c(153, 119))\n",
    "\n",
    "#suma de todas las categorias por tipo de gestion\n",
    "cat(\"Esc privada:\",2 + 11 + 19 + 54 + 105 + 82,\"\\n\")\n",
    "cat(\"Esc publica:\",17 + 90 + 125 + 172 + 153 + 119)\n",
    "\n",
    "# Realizar la prueba para la categoría \"muy bueno\" y \"distinguido\"\n",
    "prop.test(x = c(privada_mejores_notas, publica_mejores_notas), n = c(273, 676), alternative = \"two.sided\", \n",
    "                    conf.level = 0.95, \n",
    "                    correct = FALSE)\n"
   ]
  },
  {
   "cell_type": "code",
   "execution_count": null,
   "id": "ab1a4320-4a01-46d4-8647-cfcb5589a35b",
   "metadata": {
    "vscode": {
     "languageId": "r"
    }
   },
   "outputs": [],
   "source": [
    "df_sector <- as.data.frame(as.table(porcentaje_columna))\n",
    "colnames(df_sector) <- c(\"Var2\", \"Var1\", \"Freq\")\n",
    "\n",
    "ggplot(data=df_sector,aes(x=Var1,y=Freq,fill=Var2))+\n",
    "  geom_bar(stat=\"identity\",colour=\"blue\")+\n",
    "    scale_fill_manual(name= \"Gestion\", values=c(\"#5F9EA0\",\"#1C7202\"))+\n",
    "   geom_text(aes(label=Freq),position=position_stack(vjust=0.41),size = 4, color = \"red\")+\n",
    "  xlab(\"Desempeño\")+\n",
    "  ylab(\"Porcentaje\")+\n",
    " ggtitle(\"Gráfico de Contigencia por columna\") +\n",
    " theme(axis.title = element_text(size = 15, color = \"black\", face = \"bold\"))+\n",
    " theme(title = element_text(size = 15, color = \"black\", face = \"bold\"))+\n",
    "  theme(plot.title = element_text(hjust = 0.5)) +#centra titulo\n",
    " theme(legend.text = element_text(size = 12, color = \"black\", face= \"bold\"))+\n",
    " theme(axis.text = element_text(size = 10, color = \"black\", face= \"bold\"))\n"
   ]
  },
  {
   "cell_type": "code",
   "execution_count": null,
   "id": "28f96e02-dda9-47f9-85f3-fca3c3c10f0d",
   "metadata": {
    "vscode": {
     "languageId": "r"
    }
   },
   "outputs": [],
   "source": [
    "aux <- t(porcentaje_fila)\n",
    "bpc<-barplot(aux,\n",
    "        main = \"Gráfico de Contigencia por Fila\",\n",
    "        beside = TRUE, # Barras agrupadas\n",
    "        space = c(0.1, 2.5), # Espacio primer elemento es el espacio entre barras de cada grupo (0.1) y el segundo el espacio entre grupos (2.5).\n",
    "        ylim = c(0,100),\n",
    "        cex.axis = 1.2, #tamaño etiquetas eje y\n",
    "        cex.names=1.5, #tamaño etiqueta eje x\n",
    "        cex.main=1.5, #tamaño título gráfico\n",
    "        col=c(\"darkblue\",\"green\", \"yellow\",\"#364972\",\"#6E1772\",\"#1E7230\"),\n",
    "        xlab = \"Turno\",\n",
    "        cex.lab=1.5, #tamaño  xlab ylab\n",
    "        ylab = \"Porcentaje\",\n",
    "       col.lab = \"blue\") # Color xlab ylab\n",
    "\n",
    "#leyenda\n",
    "legend(\"topright\", inset = c(0, 0), # Ajusta la posición de la leyenda\n",
    "       legend = rownames(aux),\n",
    "       title = \"Desempeño\", # Título\n",
    "       title.adj = 0.5,          # Ajuste horizontal del título\n",
    "       title.col = \"black\",       # Color del título\n",
    "       pch = 15,  # Cambia a cuadrados\n",
    "       col = c(\"darkblue\", \"green\", \"yellow\", \"#364972\", \"#6E1772\", \"#1E7230\"),\n",
    "       pt.cex = 2,  # Tamaño de los cuadrados\n",
    "       cex = 1.32)  # Cambiar el tamaño del texto\n",
    "\n",
    "# valores sobre barras\n",
    "TC <- aux\n",
    "text(bpc, TC+2.5,format(TC), cex=1.2)\n"
   ]
  },
  {
   "cell_type": "markdown",
   "id": "27be1c01-3b2d-4a76-bea4-7b14f61858f4",
   "metadata": {},
   "source": [
    "tablas de contingencia de Matematica y Lengua (cuarto grado)"
   ]
  },
  {
   "cell_type": "code",
   "execution_count": null,
   "id": "afc176f5-cdca-4790-ac3b-930296233b16",
   "metadata": {
    "vscode": {
     "languageId": "r"
    }
   },
   "outputs": [],
   "source": [
    "primer_ano <- filter(Uruguay_Primaria, (asignatura == \"LENGUA\" | asignatura== \"MATEMATICA\") & Año_cursado== 4)\n",
    "\n",
    "documentos_completos <- primer_ano %>%\n",
    "  group_by(Documento) %>%\n",
    "  filter(n_distinct(asignatura) == 2) %>%\n",
    "  distinct(Documento)\n",
    "\n",
    "#filtramos para tener los estudiantes que hacen las dos materias\n",
    "primer_anio_cm <- Uruguay_Primaria %>% filter(Documento %in% documentos_completos$Documento)\n",
    "\n",
    "aux <- filter(primer_anio_cm, (asignatura == \"LENGUA\" | asignatura== \"MATEMATICA\") & Año_cursado== 4)\n",
    "\n",
    "tabla_con_mate_lengua <- table(aux$asignatura, aux$Desempenio)\n",
    "tabla_con_mate_lengua\n"
   ]
  },
  {
   "cell_type": "code",
   "execution_count": null,
   "id": "193405de-0acd-401d-a1b7-2e324745d091",
   "metadata": {
    "vscode": {
     "languageId": "r"
    }
   },
   "outputs": [],
   "source": [
    "#porcentaje total\n",
    "cat(\"\\n\",\"Porcentaje Total\",\"\\n\")\n",
    "porcentaje_total <- round(prop.table(tabla_con_mate_lengua) * 100,1)\n",
    "porcentaje_total<-cbind(porcentaje_total,\"Total\"=margin.table(porcentaje_total, 1))\n",
    "porcentaje_total<-rbind(porcentaje_total,\"Total\"=margin.table(porcentaje_total, 2))\n",
    "print(porcentaje_total)\n",
    "\n",
    "#porcentaje por fila\n",
    "cat(\"\\n\",\"Porcentaje Fila\",\"\\n\")\n",
    "porcentaje_fila<-round(prop.table(rbind(tabla_con_mate_lengua,\"Total\"=margin.table(tabla_con_mate_lengua, 2)),1)*100,1)\n",
    "porcentaje_fila<-cbind(porcentaje_fila,\"Total\"=margin.table(porcentaje_fila, 1))\n",
    "print(porcentaje_fila)\n",
    "\n",
    "#porcentaje por columna\n",
    "cat(\"\\n\",\"Porcentaje Columna\", \"\\n\")\n",
    "porcentaje_columna<-round(prop.table(cbind(tabla_con_mate_lengua,\"Total\"=margin.table(tabla_con_mate_lengua, 1)),2)*100,1)\n",
    "porcentaje_columna<-rbind(porcentaje_columna,\"Total\"=margin.table(porcentaje_columna, 2))\n",
    "print(porcentaje_columna)\n"
   ]
  },
  {
   "cell_type": "code",
   "execution_count": null,
   "id": "e0e04fa1-5eab-4835-ae50-fa7ecf09fc55",
   "metadata": {
    "vscode": {
     "languageId": "r"
    }
   },
   "outputs": [],
   "source": [
    "porcentaje_fila <- porcentaje_fila[rownames(porcentaje_fila) != \"Total\", ]\n",
    "porcentaje_fila <- porcentaje_fila[, colnames(porcentaje_fila) != \"Total\"]\n",
    "\n",
    "porcentaje_columna <- porcentaje_columna[rownames(porcentaje_columna) != \"Total\", ]\n",
    "porcentaje_columna <- porcentaje_columna[, colnames(porcentaje_columna) != \"Total\"]"
   ]
  },
  {
   "cell_type": "code",
   "execution_count": null,
   "id": "5b9001aa-319f-473a-9f9c-a666527b2129",
   "metadata": {
    "vscode": {
     "languageId": "r"
    }
   },
   "outputs": [],
   "source": [
    "#test de chi-cuadrado\n",
    "cat(\"\\n\",\"TEST de chi cuadrado\")\n",
    "resultado_chi <- chisq.test(tabla_con_mate_lengua)\n",
    "resultado_chi\n",
    "\n",
    "#test de asosiacion cramerV\n",
    "cat(\"\\n\",\"test de cramerV\")\n",
    "CramerV(tabla_con_mate_lengua)\n",
    "\n",
    "#tabla de valores esperados\n",
    "cat(\"\\n\",\"Valores esperados\")\n",
    "round(resultado_chi$expected,0)\n",
    "\n",
    "#residuos\n",
    "cat(\"\\n\",\"Residuos\")\n",
    "round(resultado_chi$residuals, 1)"
   ]
  },
  {
   "cell_type": "raw",
   "id": "ea152a3f-5f02-451c-abfb-29d0c1fcb185",
   "metadata": {},
   "source": [
    "#tabla de referencia\n",
    "              LENGUA MATEMATICA\n",
    "  insuficiente     17         11\n",
    "  regular         100         90\n",
    "  aprobado        138        123\n",
    "  bueno           215        225\n",
    "  muy bueno       249        250\n",
    "  distinguido     196        216"
   ]
  },
  {
   "cell_type": "code",
   "execution_count": null,
   "id": "7af1671a-18b0-474f-8339-f18ff36e2ce5",
   "metadata": {
    "vscode": {
     "languageId": "r"
    }
   },
   "outputs": [],
   "source": [
    "#sumando los insufcientes, regular, etc.\n",
    "cat(\"lengua total:\",17 + 100 + 138 + 215 + 249 + 196,\"\\n\") #lengua\n",
    "cat(\"matematica total:\",11 + 90 + 123 + 225 + 250 + 216) #mate"
   ]
  },
  {
   "cell_type": "code",
   "execution_count": null,
   "id": "5d6543e6-5101-426e-addd-7e0eeeaf4920",
   "metadata": {
    "vscode": {
     "languageId": "r"
    }
   },
   "outputs": [],
   "source": [
    "#h0: Las proporciones de estudiantes que lograron un \"aprobado\" (6 de promedio) en lengua y Matematica son iguales.\n",
    "#h1: Las proporciones de estudiantes que lograron un \"aprobado\" en lengua y Matematica son diferentes.\n",
    "prop.test(x=c(138,123), n=c(915,915), alternative=\"two.side\", conf.level=0.95, correct=FALSE)\n",
    "\n",
    "#No hay sufuciente informacion para rechazar H0, p-value 0.0782, ademas el intervalo de confianza (-0.0032 a 0.0609) incluye el 0"
   ]
  },
  {
   "cell_type": "code",
   "execution_count": null,
   "id": "4b0d7f79-498b-44c4-a82b-5b605eb9d2ec",
   "metadata": {
    "vscode": {
     "languageId": "r"
    }
   },
   "outputs": [],
   "source": [
    "df_materias <- as.data.frame(as.table(porcentaje_columna))\n",
    "colnames(df_materias) <- c(\"Var2\", \"Var1\", \"Freq\")\n",
    "\n",
    "ggplot(data=df_materias,aes(x=Var1,y=Freq,fill=Var2))+\n",
    "  geom_bar(stat=\"identity\",colour=\"blue\")+\n",
    "    scale_fill_manual(name= \"Materias\", values=c(\"#5F9EA0\",\"#1C7202\"))+\n",
    "   geom_text(aes(label=Freq),position=position_stack(vjust=0.41),size = 4, color = \"red\")+\n",
    "  xlab(\"Desempeño\")+\n",
    "  ylab(\"Porcentaje\")+\n",
    " ggtitle(\"Gráfico de Contigencia por columna\") +\n",
    " theme(axis.title = element_text(size = 15, color = \"black\", face = \"bold\"))+\n",
    " theme(title = element_text(size = 15, color = \"black\", face = \"bold\"))+\n",
    "  theme(plot.title = element_text(hjust = 0.5)) +#centra titulo\n",
    " theme(legend.text = element_text(size = 12, color = \"black\", face= \"bold\"))+\n",
    " theme(axis.text = element_text(size = 10, color = \"black\", face= \"bold\"))\n"
   ]
  },
  {
   "cell_type": "code",
   "execution_count": null,
   "id": "9ed09f90-1891-4562-86fe-e776e813ba3f",
   "metadata": {
    "vscode": {
     "languageId": "r"
    }
   },
   "outputs": [],
   "source": [
    "aux <- t(porcentaje_fila)\n",
    "bpc<-barplot(aux,\n",
    "        main = \"Gráfico de Contigencia por Fila\",\n",
    "        beside = TRUE, # Barras agrupadas\n",
    "        space = c(0.1, 2.5), # Espacio primer elemento es el espacio entre barras de cada grupo (0.1) y el segundo el espacio entre grupos (2.5).\n",
    "        ylim = c(0,100),\n",
    "        cex.axis = 1.2, #tamaño etiquetas eje y\n",
    "        cex.names=1.5, #tamaño etiqueta eje x\n",
    "        cex.main=1.5, #tamaño título gráfico\n",
    "        col=c(\"darkblue\",\"green\", \"yellow\",\"#364972\",\"#6E1772\",\"#1E7230\"),\n",
    "        xlab = \"Turno\",\n",
    "        cex.lab=1.5, #tamaño  xlab ylab\n",
    "        ylab = \"Porcentaje\",\n",
    "       col.lab = \"blue\") # Color xlab ylab\n",
    "\n",
    "#leyenda\n",
    "legend(\"topright\", inset = c(0, 0), # Ajusta la posición de la leyenda\n",
    "       legend = rownames(aux),\n",
    "       title = \"Desempeño\", # Título\n",
    "       title.adj = 0.5,          # Ajuste horizontal del título\n",
    "       title.col = \"black\",       # Color del título\n",
    "       pch = 15,  # Cambia a cuadrados\n",
    "       col = c(\"darkblue\", \"green\", \"yellow\", \"#364972\", \"#6E1772\", \"#1E7230\"),\n",
    "       pt.cex = 2,  # Tamaño de los cuadrados\n",
    "       cex = 1.32)  # Cambiar el tamaño del texto\n",
    "\n",
    "# valores sobre barras\n",
    "TC <- aux\n",
    "text(bpc, TC+2.5,format(TC), cex=1.2)\n"
   ]
  },
  {
   "cell_type": "code",
   "execution_count": null,
   "id": "9654dcec-45bb-4900-b407-ab67bf71ce35",
   "metadata": {
    "vscode": {
     "languageId": "r"
    }
   },
   "outputs": [],
   "source": [
    "g2 <- ggplot(Uruguay_Primaria, aes(factor(Turno), Promedio))\n",
    "g2 + geom_boxplot(aes(fill = factor(Turno)))"
   ]
  },
  {
   "cell_type": "code",
   "execution_count": null,
   "id": "6d8ff2a1-69fc-4d6f-8988-f2bca991bc4f",
   "metadata": {
    "vscode": {
     "languageId": "r"
    }
   },
   "outputs": [],
   "source": [
    "datos_mate <- filter(Uruguay_Primaria_sin_epac, asignatura == \"MATEMATICA\") %>%\n",
    "  mutate(EsPrivada = ifelse(EsPrivada == \"N\", \"Pública\", \"Privada\"))\n",
    "\n",
    "colores <- c(\"#1f77b4\", \"#ff7f0e\")\n",
    "\n",
    "figurita <- plot_ly(datos_mate, x = ~Año_cursado, y = ~Promedio, color = ~EsPrivada, type = \"box\", colors = colores) %>% \n",
    "  layout(title = \"Promedios de Matemática por grado y sector\",\n",
    "         boxmode = \"group\",\n",
    "         xaxis = list(title = \"Grado cursado\"),\n",
    "         yaxis = list(gridcolor = \"grey\"))\n",
    "\n",
    "figurita"
   ]
  },
  {
   "cell_type": "code",
   "execution_count": null,
   "id": "30ad6aeb-d25f-4b0f-baae-fcc67b76b5c2",
   "metadata": {
    "vscode": {
     "languageId": "r"
    }
   },
   "outputs": [],
   "source": [
    "library(GGally)\n",
    "library(Hotelling)"
   ]
  },
  {
   "cell_type": "code",
   "execution_count": null,
   "id": "61a09ed4-741d-48ef-a4d2-1455a1d0e02e",
   "metadata": {
    "vscode": {
     "languageId": "r"
    }
   },
   "outputs": [],
   "source": [
    "datos_lengua <- filter(Uruguay_Primaria_sin_epac, asignatura == \"LENGUA\") %>%\n",
    "  mutate(EsPrivada = ifelse(EsPrivada == \"N\", \"Pública\", \"Privada\"))\n",
    "\n",
    "colores <- c(\"#1f77b4\", \"#ff7f0e\")\n",
    "\n",
    "figurita <- plot_ly(datos_lengua, x = ~Año_cursado, y = ~Promedio, color = ~EsPrivada, type = \"box\", colors = colores) %>% \n",
    "  layout(title = \"Promedios de Lengua por grado y sector\",\n",
    "         boxmode = \"group\",\n",
    "         xaxis = list(title = \"Grado cursado\"),\n",
    "         yaxis = list(gridcolor = \"grey\"))\n",
    "\n",
    "figurita"
   ]
  },
  {
   "cell_type": "code",
   "execution_count": null,
   "id": "52d60a42-27ed-426e-8e9c-202250bace91",
   "metadata": {
    "scrolled": true,
    "vscode": {
     "languageId": "r"
    }
   },
   "outputs": [],
   "source": [
    "sexto_anio <- Uruguay_Primaria_sin_epac %>%\n",
    "  filter(Año_cursado == 6 & asignatura %in% c(\"CIENCIAS SOCIALES\", \"MATEMATICA\", \"LENGUA\", \"CIENCIAS NATURALES\"))\n",
    "\n",
    "# Identificar los documentos de los alumnos que realizan las 4 asignaturas\n",
    "documentos_completos <- sexto_anio %>%\n",
    "  group_by(Documento) %>%\n",
    "  filter(n_distinct(asignatura) == 4) %>%\n",
    "  distinct(Documento)\n",
    "\n",
    "# Filtrar el dataset original para obtener solo los registros de los alumnos que realizan las 4 asignaturas\n",
    "sexto_anio_completo <- sexto_anio %>%\n",
    "  filter(Año_cursado == 6 & Documento %in% documentos_completos$Documento & asignatura %in% c(\"CIENCIAS SOCIALES\", \"MATEMATICA\", \"LENGUA\", \"CIENCIAS NATURALES\"))\n",
    "\n",
    "\n",
    "promedios_alumnos_primera_parte <- sexto_anio_completo %>%\n",
    "  group_by(Documento, asignatura,Turno) %>%\n",
    "summarize(Promedio = mean(Promedio, na.rm = TRUE),.groups =\"drop\")  \n",
    "head(promedios_alumnos)\n",
    "\n",
    "promedios_alumnos <- promedios_alumnos_primera_parte %>%\n",
    "    pivot_wider(names_from = asignatura, values_from = Promedio)\n",
    "head(promedios_alumnos)\n",
    "\n",
    "promedios_alumnos_sin_documento <- promedios_alumnos %>%\n",
    "  select(-Documento)\n",
    "promedios_alumnos_sin_documento \n",
    "\n",
    "# Crear dos datasets separados por turno\n",
    "promedios_alumnos_manana <- promedios_alumnos_sin_documento %>%\n",
    "  filter(Turno == \"MAÑANA\")\n",
    "promedios_alumnos_manana\n",
    "\n",
    "promedios_alumnos_tarde <- promedios_alumnos_sin_documento %>%\n",
    "  filter(Turno == \"TARDE\") \n",
    "\n",
    "promedios_alumnos_tarde"
   ]
  },
  {
   "cell_type": "code",
   "execution_count": null,
   "id": "ff5cfb1b-2c28-4b78-98f0-71d784435522",
   "metadata": {
    "vscode": {
     "languageId": "r"
    }
   },
   "outputs": [],
   "source": [
    "datoaux <- promedios_alumnos_manana[-1]\n",
    "mardia2(datoaux)"
   ]
  },
  {
   "cell_type": "code",
   "execution_count": null,
   "id": "3c6517cd-e01e-4913-97ad-2fd260ed1a6c",
   "metadata": {
    "vscode": {
     "languageId": "r"
    }
   },
   "outputs": [],
   "source": [
    "datos_alumnos_tarde<- promedios_alumnos_tarde[-1]\n",
    "mardia2(datos_alumnos_tarde)"
   ]
  },
  {
   "cell_type": "code",
   "execution_count": null,
   "id": "148a99a1-3797-40bb-9ed4-1507b0b4d96e",
   "metadata": {
    "vscode": {
     "languageId": "r"
    }
   },
   "outputs": [],
   "source": [
    "head(promedios_alumnos_sin_documento)\n",
    "tarde=filter(promedios_alumnos_sin_documento, Turno==\"TARDE\")[,2:5]\n",
    "mañana=filter(promedios_alumnos_sin_documento, Turno==\"MAÑANA\")[,2:5]\n",
    "prom.tarde =apply(tarde, 2, mean)\n",
    "prom.tarde\n",
    "prom.mañana= apply(mañana, 2, mean)\n",
    "prom.mañana\n",
    "\n",
    "s1 = cov(tarde)\n",
    "s1\n",
    "s2 = cov(mañana)\n",
    "s2\n",
    "\n",
    "n1 = nrow(tarde)\n",
    "n1\n",
    "n2 = nrow(mañana)\n",
    "n2\n",
    "p = ncol(tarde)\n",
    "\n",
    "s = ((n1-1)*s1 + (n2-1)*s2) / (n1 + n2 - 2)\n",
    "s\n",
    "\n",
    "d2 = t(prom.tarde-prom.mañana)%*%solve(s)%*%(prom.tarde-prom.mañana)\n",
    "d2\n",
    "t2 = d2*((n1*n2) / (n1+n2))\n",
    "t2\n",
    "f = (n1+n2-p-1)/((n1+n2-2)*p) * t2\n",
    "f\n",
    "alfa = 0.05\n",
    "\n",
    "qf(p=0.05, df1=5, df2=11, lower.tail=FALSE) #valor de constraste F\n",
    "\n",
    "pf(f, p, n1+n2-p-1 ,lower.tail = F)"
   ]
  },
  {
   "cell_type": "code",
   "execution_count": null,
   "id": "bbeef00d-7f5c-4409-84e3-3ca1c7690399",
   "metadata": {
    "vscode": {
     "languageId": "r"
    }
   },
   "outputs": [],
   "source": [
    "#hoteling con libreria\n",
    "resultado = hotelling.test(.~Turno, data = promedios_alumnos_sin_documento)\n",
    "resultado "
   ]
  },
  {
   "cell_type": "code",
   "execution_count": null,
   "id": "f9ca31b0-7112-4fa8-9d38-4480f86e6f6d",
   "metadata": {
    "vscode": {
     "languageId": "r"
    }
   },
   "outputs": [],
   "source": [
    "#MANOVA MULTIVARIANTE TURNOS\n",
    "mod1<-manova(cbind(`CIENCIAS NATURALES`,`CIENCIAS SOCIALES`,LENGUA,MATEMATICA)~Turno,data=promedios_alumnos_sin_documento)\n",
    "summary(mod1)"
   ]
  },
  {
   "cell_type": "code",
   "execution_count": null,
   "id": "20e8707c-2633-477c-b8dc-d3e530752932",
   "metadata": {
    "vscode": {
     "languageId": "r"
    }
   },
   "outputs": [],
   "source": [
    "summary.aov(mod1)"
   ]
  },
  {
   "cell_type": "code",
   "execution_count": null,
   "id": "9a9786a8-f5e4-4cc7-9786-d28ab28ae8ba",
   "metadata": {
    "vscode": {
     "languageId": "r"
    }
   },
   "outputs": [],
   "source": [
    "promedios_alumnos_sin_documento <- promedios_alumnos_sin_documento %>% rename_with(make.names)\n",
    "\n",
    "#promedios_alumnos_sin_documento\n",
    "\n",
    "promedios_alumnos_sin_documento %>% group_by(Turno)\n",
    "\n",
    "#no funciona como deberia, tendria que mostrarme cada materia por cada turno\n",
    "library(rstatix) \n",
    "promedios_alumnos_sin_documento %>% shapiro_test(CIENCIAS.NATURALES,CIENCIAS.SOCIALES,LENGUA,MATEMATICA)"
   ]
  },
  {
   "cell_type": "code",
   "execution_count": null,
   "id": "95ab0c0f-ceb7-404a-b579-24639f020d13",
   "metadata": {
    "vscode": {
     "languageId": "r"
    }
   },
   "outputs": [],
   "source": [
    "#Supuestos de normalidad multivariante\n",
    "mardia2(promedios_alumnos_sin_documento[, c(\"CIENCIAS.NATURALES\", \"CIENCIAS.SOCIALES\", \"LENGUA\", \"MATEMATICA\")])"
   ]
  },
  {
   "cell_type": "markdown",
   "id": "f7209e48-0a3d-4eaa-9c19-4ead00edb8d5",
   "metadata": {},
   "source": [
    "Realizamos gráfico de coordenadas paralelas para las materias troncales del turno mañana"
   ]
  },
  {
   "cell_type": "code",
   "execution_count": null,
   "id": "eb777e73-7557-4565-81ee-89a00fc06867",
   "metadata": {
    "vscode": {
     "languageId": "r"
    }
   },
   "outputs": [],
   "source": [
    "materias_demañana <- filter(Uruguay_Primaria_sin_epac, (asignatura == \"MATEMATICA\" | asignatura == \"LENGUA\"), Turno == \"MAÑANA\")\n",
    "materias_demañana <- select(materias_demañana,NotasPrimerT, NotasSegundoT, NotasTercerT, asignatura)\n",
    "head(materias_demañana,4)"
   ]
  },
  {
   "cell_type": "code",
   "execution_count": null,
   "id": "86efe7ee-19ae-49ed-a3a5-98c6d7622f18",
   "metadata": {
    "vscode": {
     "languageId": "r"
    }
   },
   "outputs": [],
   "source": [
    "ggparcoord(data = materias_demañana,\n",
    "           columns = 1:3,\n",
    "           groupColumn = \"asignatura\",\n",
    "           showPoints = TRUE,\n",
    "           scale = \"globalminmax\")"
   ]
  },
  {
   "cell_type": "markdown",
   "id": "e761e522-7876-40a8-92af-f90011523b2c",
   "metadata": {},
   "source": [
    "Realizamos gráfico de coordenadas paralelas para las materias troncales del turno tarde"
   ]
  },
  {
   "cell_type": "code",
   "execution_count": null,
   "id": "ab335a6e-24c1-4b59-8d63-aabce31e09ab",
   "metadata": {
    "vscode": {
     "languageId": "r"
    }
   },
   "outputs": [],
   "source": [
    "materias_detarde <- filter(Uruguay_Primaria_sin_epac, (asignatura == \"MATEMATICA\" | asignatura == \"LENGUA\"), Turno == \"TARDE\")\n",
    "materias_detarde <- select(materias_detarde, NotasPrimerT, NotasSegundoT, NotasTercerT, asignatura)"
   ]
  },
  {
   "cell_type": "code",
   "execution_count": null,
   "id": "a8e256e0-3261-4dbc-a1c9-45f7e9313998",
   "metadata": {
    "vscode": {
     "languageId": "r"
    }
   },
   "outputs": [],
   "source": [
    "ggparcoord(data = materias_detarde,\n",
    "           columns = 1:3,\n",
    "           groupColumn = \"asignatura\",\n",
    "           showPoints = TRUE,\n",
    "           scale = \"globalminmax\")"
   ]
  },
  {
   "cell_type": "code",
   "execution_count": null,
   "id": "5689d9ff-c09c-4d5d-b8ab-da6c43091842",
   "metadata": {
    "vscode": {
     "languageId": "r"
    }
   },
   "outputs": [],
   "source": [
    "library(scatterplot3d)\n",
    "library(tidyverse)"
   ]
  },
  {
   "cell_type": "code",
   "execution_count": null,
   "id": "1c6e4916-cebc-4f53-a0bd-6232477ca03e",
   "metadata": {
    "vscode": {
     "languageId": "r"
    }
   },
   "outputs": [],
   "source": [
    "asignaturas_interes <- c(\"MATEMATICA\", \"LENGUA\", \"CIENCIAS NATURALES\", \"CIENCIAS SOCIALES\")\n",
    "PRIM_año_1_asignaturas <- filter(Uruguay_Primaria, Año_cursado == 1 & asignatura %in% asignaturas_interes)\n",
    "\n",
    "medianas_df <- PRIM_año_1_asignaturas %>%\n",
    "  group_by(Turno, asignatura) %>%\n",
    "  summarize(mediana_promedio = median(Promedio, na.rm = TRUE)) %>%\n",
    "  ungroup()\n",
    "\n",
    "# Crear el gráfico de perfiles con ajustes de tema y etiquetas\n",
    "ggplot(medianas_df, aes(x = asignatura, y = mediana_promedio, group = Turno, color = Turno)) +\n",
    "  geom_line() +\n",
    "  geom_point() +\n",
    "  labs(title = \"Gráfico de Perfiles de Promedios por Turno (Año Cursado 1)\",\n",
    "       x = \"Asignatura\",\n",
    "       y = \"Mediana de Promedios\") +\n",
    "  theme_minimal() +\n",
    "  theme(\n",
    "    axis.text.y = element_text(face = \"bold\"),\n",
    "    axis.text.x = element_text(angle = 45, hjust = 1, face = \"bold\"),  # rotamos etiquetas del eje X\n",
    "    plot.title = element_text(size = 14, face = \"bold\"), \n",
    "    plot.margin = margin(t = 10, r = 10, b = 10, l = 10, unit = \"pt\")  \n",
    "  )"
   ]
  },
  {
   "cell_type": "code",
   "execution_count": null,
   "id": "f97d01d7-269e-4cdd-9b13-e24645903335",
   "metadata": {
    "vscode": {
     "languageId": "r"
    }
   },
   "outputs": [],
   "source": [
    "# Filtrar los datos para el primer grado\n",
    "primer_año<- Uruguay_Primaria_sin_epac %>%\n",
    "  filter(Año_cursado == 1 & asignatura %in% c(\"MATEMATICA\", \"LENGUA\", \"CIENCIAS SOCIALES\"))\n",
    "\n",
    "# Identificar los documentos de los alumnos que realizan las 3 asignaturas\n",
    "documentos_completos_primero <- primer_año %>%\n",
    "  group_by(Documento) %>%\n",
    "  filter(n_distinct(asignatura) == 3) %>%\n",
    "  distinct(Documento)\n",
    "\n",
    "# Filtrar el dataset original para obtener solo los registros de los alumnos que realizan las 3 asignaturas\n",
    "primer_anio_completo <- primer_año %>%\n",
    "  filter(Año_cursado == 1 & Documento %in% documentos_completos_primero$Documento & asignatura %in% c(\"MATEMATICA\", \"LENGUA\", \"CIENCIAS SOCIALES\"))\n"
   ]
  },
  {
   "cell_type": "code",
   "execution_count": null,
   "id": "7161ec1d-3c17-40fa-bade-0d7739ac8533",
   "metadata": {
    "vscode": {
     "languageId": "r"
    }
   },
   "outputs": [],
   "source": [
    "promedios_escuelas <- primer_anio_completo %>%\n",
    "  group_by(CUE, asignatura, EsPrivada)\n"
   ]
  },
  {
   "cell_type": "code",
   "execution_count": null,
   "id": "1827380c-e9a3-4636-9a86-6a6d001c596c",
   "metadata": {
    "vscode": {
     "languageId": "r"
    }
   },
   "outputs": [],
   "source": [
    "promedios_escuelas <- promedios_escuelas %>%\n",
    "  summarize(Promedio = mean(Promedio, na.rm = TRUE), .groups = 'drop') %>%\n",
    "  pivot_wider(names_from = asignatura, values_from = Promedio)"
   ]
  },
  {
   "cell_type": "code",
   "execution_count": null,
   "id": "65e0f164-20c9-4aa2-8ac8-c3064c734ff3",
   "metadata": {
    "vscode": {
     "languageId": "r"
    }
   },
   "outputs": [],
   "source": [
    "promedios_escuelas <- promedios_escuelas %>% rename_with(make.names)\n",
    "promedios_escuelas %>% group_by(EsPrivada)"
   ]
  },
  {
   "cell_type": "code",
   "execution_count": null,
   "id": "c36a853d-e4d3-4d9a-9887-739814f77b96",
   "metadata": {
    "vscode": {
     "languageId": "r"
    }
   },
   "outputs": [],
   "source": [
    "  colors <- c(\"green\", \"red\", \"blue\") \n",
    "  colors <- colors[as.factor(promedios_escuelas$EsPrivada)]\n",
    "  with(promedios_escuelas, {\n",
    "    s3d <- scatterplot3d(\n",
    "      x = LENGUA,\n",
    "      y = MATEMATICA,\n",
    "      z = CIENCIAS.SOCIALES,\n",
    "      color = colors,\n",
    "      pch = 16,\n",
    "      type = \"h\",\n",
    "      main = \"DIAGRAMA DE DISPERSION\",\n",
    "      xlab = \"Prom Lengua\",\n",
    "      ylab = \"Prom Matematica\",\n",
    "      zlab = \"Prom Ciencias Naturales\")\n",
    "\n",
    "    # convert 3-D coords to 2D projection\n",
    "    s3d.coords <- s3d$xyz.convert(LENGUA, MATEMATICA, CIENCIAS.SOCIALES)\n",
    "\n",
    "    # plot text with 50% shrink and place to right of points\n",
    "    text(s3d.coords$x,\n",
    "        s3d.coords$y,\n",
    "        labels = promedios_escuelas$CUE,\n",
    "        cex = .9,\n",
    "        pos = 4)\n",
    "\n",
    "            # Agregar la leyenda\n",
    "  legend(\"topright\", \n",
    "         legend = c(\"No Privada\", \"Privada\"), \n",
    "         col = c(\"green\", \"red\"), \n",
    "         pch = 16,\n",
    "         title = \"Tipo de Escuela\")\n",
    "  \n",
    "  })"
   ]
  },
  {
   "cell_type": "code",
   "execution_count": null,
   "id": "9b7b583a-0a71-459b-b9b2-e08b4bb29449",
   "metadata": {
    "vscode": {
     "languageId": "r"
    }
   },
   "outputs": [],
   "source": [
    "Cue_prom_leng_mat<- filter(Uruguay_Primaria_sin_epac, (asignatura ==\"LENGUA\" | asignatura ==\"MATEMATICA\"), Año_cursado == 1) %>%\n",
    "          dplyr::select(CUE, Promedio)\n",
    "aux <- Cue_prom_leng_mat %>% group_by(CUE) %>% summarise_all(median)\n",
    "#medias_cue\n",
    "\n",
    "caras<-faces(aux[2],face.type=1, main =\"Escuelas\", labels=aux$CUE,\n",
    "    print.info = 1, nrow.plot = 5, ncol.plot = 5, plot.faces = TRUE, cex = 2)"
   ]
  },
  {
   "cell_type": "code",
   "execution_count": null,
   "id": "b39dbb44-9a29-4b80-91a9-f1b9fa73f328",
   "metadata": {
    "vscode": {
     "languageId": "r"
    }
   },
   "outputs": [],
   "source": [
    "# Filtrar los datos para obtener solo los estudiantes únicos por Documento\n",
    "datos_unicos <- Uruguay_Primaria_sin_epac %>% distinct(Documento, .keep_all = TRUE)\n",
    "\n",
    "# Filtrar los datos para los años 1 a 6\n",
    "datos_filtrados <- datos_unicos %>%\n",
    "  filter(Año_cursado %in% 1:6)\n",
    "\n",
    "# Crear el boxplot combinado usando facet_wrap para organizar por grado\n",
    "ggplot(datos_filtrados, aes(x = EsPrivada, y = Promedio, fill = EsPrivada)) +\n",
    "  geom_boxplot() +\n",
    "  labs(title = \"Comparación de Promedios en Escuelas Públicas y Privadas\",\n",
    "       x = \"Tipo de Escuela\",\n",
    "       y = \"Promedio\") +\n",
    "  scale_fill_manual(values = c(\"S\" = \"blue\", \"N\" = \"red\"), labels = c(\"Publica\", \"Privada\")) +\n",
    "  theme_minimal() +\n",
    "  theme(\n",
    "    axis.text = element_text(size = 12),  # Tamaño de los números en los ejes\n",
    "    strip.text = element_text(face = \"bold\")  # Títulos de los años en negrita\n",
    "  ) +\n",
    "  facet_wrap(~ Año_cursado, ncol = 2, scales = \"free_y\", labeller = label_both)"
   ]
  },
  {
   "cell_type": "code",
   "execution_count": null,
   "id": "7efeed9f-e6b2-4d4b-921c-cd43399d611f",
   "metadata": {
    "vscode": {
     "languageId": "r"
    }
   },
   "outputs": [],
   "source": []
  },
  {
   "cell_type": "markdown",
   "id": "e64540b3-14b2-4d15-9a15-d364839c27b0",
   "metadata": {},
   "source": [
    "No tomar en cuenta."
   ]
  },
  {
   "cell_type": "code",
   "execution_count": null,
   "id": "ec4e98ba-3d6b-47fd-bc4a-f846d3eb73d7",
   "metadata": {
    "vscode": {
     "languageId": "r"
    }
   },
   "outputs": [],
   "source": [
    "                                        #ignorar, solo ver como curiosidad, podes hasta voltear el grafico o hacerle zoom\n",
    "\n",
    "# Calcular el vector de medias para cada escuela\n",
    "medias_por_escuela <- Uruguay_Primaria_sin_epac %>%\n",
    "  group_by(CUE, asignatura) %>%\n",
    "  summarize(Media_Nota = mean(NotasPrimerT, na.rm = TRUE)) %>%\n",
    "  spread(asignatura, Media_Nota)\n",
    "\n",
    "fig <- plot_ly(medias_por_escuela, \n",
    "               x = ~MATEMATICA, \n",
    "               y = ~LENGUA, \n",
    "               z = ~INGLES, \n",
    "               color = ~CUE, \n",
    "               type = \"scatter3d\", \n",
    "               mode = \"markers\") %>%\n",
    "  layout(title = \"Promedios de Primer grado por Escuela\",\n",
    "         scene = list(xaxis = list(title = \"Matematica\"),\n",
    "                      yaxis = list(title = \"Lengua\"),\n",
    "                      zaxis = list(title = \"ingles\")))\n",
    "fig\n"
   ]
  },
  {
   "cell_type": "code",
   "execution_count": null,
   "id": "55b4d12c-019f-41aa-ad9c-f2d48cd64e59",
   "metadata": {
    "vscode": {
     "languageId": "r"
    }
   },
   "outputs": [],
   "source": []
  }
 ],
 "metadata": {
  "kernelspec": {
   "display_name": "R",
   "language": "R",
   "name": "ir"
  },
  "language_info": {
   "codemirror_mode": "r",
   "file_extension": ".r",
   "mimetype": "text/x-r-source",
   "name": "R",
   "pygments_lexer": "r",
   "version": "4.1.3"
  }
 },
 "nbformat": 4,
 "nbformat_minor": 5
}
